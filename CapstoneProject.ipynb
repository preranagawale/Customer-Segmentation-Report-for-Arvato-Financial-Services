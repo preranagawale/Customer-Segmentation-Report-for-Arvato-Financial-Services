{
 "cells": [
  {
   "cell_type": "markdown",
   "metadata": {},
   "source": [
    "# Capstone Project: Create a Customer Segmentation Report for Arvato Financial Services\n",
    "In this project, you will analyze demographics data for customers of a mail-order sales company in Germany, comparing it against demographics information for the general population. You'll use unsupervised learning techniques to perform customer segmentation, identifying the parts of the population that best describe the core customer base of the company. Then, you'll apply what you've learned on a third dataset with demographics information for targets of a marketing campaign for the company, and use a model to predict which individuals are most likely to convert into becoming customers for the company. The data that you will use has been provided by our partners at Bertelsmann Arvato Analytics, and represents a real-life data science task.\n",
    "\n",
    "If you completed the first term of this program, you will be familiar with the first part of this project, from the unsupervised learning project. The versions of those two datasets used in this project will include many more features and has not been pre-cleaned. You are also free to choose whatever approach you'd like to analyzing the data rather than follow pre-determined steps. In your work on this project, make sure that you carefully document your steps and decisions, since your main deliverable for this project will be a blog post reporting your findings."
   ]
  },
  {
   "cell_type": "code",
   "execution_count": 1,
   "metadata": {
    "colab": {},
    "colab_type": "code",
    "id": "JhPwWuPeGEsU"
   },
   "outputs": [],
   "source": [
    "# import libs\n",
    "import pandas as pd\n",
    "import numpy as np\n",
    "import os\n",
    "import io\n",
    "import seaborn as sns\n",
    "import matplotlib.pyplot as plt\n",
    "import matplotlib\n",
    "\n",
    "from ast import literal_eval\n",
    "from sklearn.pipeline import Pipeline\n",
    "from sklearn.preprocessing import Imputer, StandardScaler\n",
    "from sklearn.decomposition import PCA\n",
    "from sklearn.cluster import KMeans, MiniBatchKMeans\n",
    "from sklearn.model_selection import GridSearchCV\n",
    "from sklearn.metrics import roc_auc_score\n",
    "%matplotlib inline"
   ]
  },
  {
   "cell_type": "markdown",
   "metadata": {},
   "source": [
    "## Part 0: Get to Know the Data\n",
    "\n",
    "There are four data files associated with this project:\n",
    "\n",
    "- `Udacity_AZDIAS_052018.csv`: Demographics data for the general population of Germany; 891 211 persons (rows) x 366 features (columns).\n",
    "- `Udacity_CUSTOMERS_052018.csv`: Demographics data for customers of a mail-order company; 191 652 persons (rows) x 369 features (columns).\n",
    "- `Udacity_MAILOUT_052018_TRAIN.csv`: Demographics data for individuals who were targets of a marketing campaign; 42 982 persons (rows) x 367 (columns).\n",
    "- `Udacity_MAILOUT_052018_TEST.csv`: Demographics data for individuals who were targets of a marketing campaign; 42 833 persons (rows) x 366 (columns).\n",
    "\n",
    "Each row of the demographics files represents a single person, but also includes information outside of individuals, including information about their household, building, and neighborhood. Use the information from the first two files to figure out how customers (\"CUSTOMERS\") are similar to or differ from the general population at large (\"AZDIAS\"), then use your analysis to make predictions on the other two files (\"MAILOUT\"), predicting which recipients are most likely to become a customer for the mail-order company.\n",
    "\n",
    "The \"CUSTOMERS\" file contains three extra columns ('CUSTOMER_GROUP', 'ONLINE_PURCHASE', and 'PRODUCT_GROUP'), which provide broad information about the customers depicted in the file. The original \"MAILOUT\" file included one additional column, \"RESPONSE\", which indicated whether or not each recipient became a customer of the company. For the \"TRAIN\" subset, this column has been retained, but in the \"TEST\" subset it has been removed; it is against that withheld column that your final predictions will be assessed in the Kaggle competition.\n",
    "\n",
    "Otherwise, all of the remaining columns are the same between the three data files. For more information about the columns depicted in the files, you can refer to two Excel spreadsheets provided in the workspace. [One of them](./DIAS Information Levels - Attributes 2017.xlsx) is a top-level list of attributes and descriptions, organized by informational category. [The other](./DIAS Attributes - Values 2017.xlsx) is a detailed mapping of data values for each feature in alphabetical order.\n",
    "\n",
    "In the below cell, we've provided some initial code to load in the first two datasets. Note for all of the `.csv` data files in this project that they're semicolon (`;`) delimited, so an additional argument in the [`read_csv()`](https://pandas.pydata.org/pandas-docs/stable/generated/pandas.read_csv.html) call has been included to read in the data properly. Also, considering the size of the datasets, it may take some time for them to load completely.\n",
    "\n",
    "You'll notice when the data is loaded in that a warning message will immediately pop up. Before you really start digging into the modeling and analysis, you're going to need to perform some cleaning. Take some time to browse the structure of the data and look over the informational spreadsheets to understand the data values. Make some decisions on which features to keep, which features to drop, and if any revisions need to be made on data formats. It'll be a good idea to create a function with pre-processing steps, since you'll need to clean all of the datasets before you work with them."
   ]
  },
  {
   "cell_type": "code",
   "execution_count": 2,
   "metadata": {
    "colab": {
     "base_uri": "https://localhost:8080/",
     "height": 71
    },
    "colab_type": "code",
    "id": "wYCyioMdGGEu",
    "outputId": "dc8d4e92-b234-4df8-e5f4-bf1ac7a5f1b7"
   },
   "outputs": [
    {
     "name": "stderr",
     "output_type": "stream",
     "text": [
      "/home/ec2-user/anaconda3/envs/mxnet_p36/lib/python3.6/site-packages/IPython/core/interactiveshell.py:2785: DtypeWarning: Columns (19,20) have mixed types. Specify dtype option on import or set low_memory=False.\n",
      "  interactivity=interactivity, compiler=compiler, result=result)\n"
     ]
    }
   ],
   "source": [
    "# load in the general population data\n",
    "azdias = pd.read_csv('data/Udacity_AZDIAS_052018.csv')"
   ]
  },
  {
   "cell_type": "code",
   "execution_count": 3,
   "metadata": {
    "colab": {},
    "colab_type": "code",
    "id": "TijJ6lRZGH_a"
   },
   "outputs": [],
   "source": [
    "azdias = azdias.drop('Unnamed: 0',axis=1)"
   ]
  },
  {
   "cell_type": "markdown",
   "metadata": {
    "colab_type": "text",
    "id": "2TrZ8UcAGUcM"
   },
   "source": [
    "### Preprocessing"
   ]
  },
  {
   "cell_type": "code",
   "execution_count": 4,
   "metadata": {
    "colab": {},
    "colab_type": "code",
    "id": "CWkTC1qBGOLt"
   },
   "outputs": [],
   "source": [
    "# load in the feature value data\n",
    "att_values = pd.read_excel('DIAS Attributes - Values 2017.xlsx')"
   ]
  },
  {
   "cell_type": "code",
   "execution_count": 5,
   "metadata": {
    "colab": {},
    "colab_type": "code",
    "id": "i6I7-LcSGa2L"
   },
   "outputs": [],
   "source": [
    "# load in the feature summary file\n",
    "att_info = pd.read_excel('DIAS Information Levels - Attributes 2017.xlsx')"
   ]
  },
  {
   "cell_type": "code",
   "execution_count": 6,
   "metadata": {
    "colab": {},
    "colab_type": "code",
    "id": "dC3tVZ84GdXc"
   },
   "outputs": [],
   "source": [
    "#check extra attributes listed in the feature summary file\n",
    "att_extra = np.setdiff1d(att_info.Attribute, azdias.columns, assume_unique=True)"
   ]
  },
  {
   "cell_type": "code",
   "execution_count": 7,
   "metadata": {
    "colab": {
     "base_uri": "https://localhost:8080/",
     "height": 34
    },
    "colab_type": "code",
    "id": "TssAQF7QGhfz",
    "outputId": "0fa7f601-01ac-4814-c0a1-7b5cd722835d"
   },
   "outputs": [
    {
     "data": {
      "text/plain": [
       "(264, 3)"
      ]
     },
     "execution_count": 7,
     "metadata": {},
     "output_type": "execute_result"
    }
   ],
   "source": [
    "# Set attribute as index for `att_info` dataframe and drop extras\n",
    "att_info.set_index('Attribute', inplace=True)\n",
    "att_info.drop(att_extra, inplace=True)\n",
    "att_info.shape"
   ]
  },
  {
   "cell_type": "code",
   "execution_count": 8,
   "metadata": {
    "colab": {
     "base_uri": "https://localhost:8080/",
     "height": 34
    },
    "colab_type": "code",
    "id": "0hQRk4rOGkjY",
    "outputId": "3adf46f6-4d96-4156-e081-6d6ee637f279"
   },
   "outputs": [
    {
     "name": "stdout",
     "output_type": "stream",
     "text": [
      "There are 102 missing features.\n"
     ]
    }
   ],
   "source": [
    "# Check missing columns in the feature summary file\n",
    "att_missing = np.setdiff1d(azdias.columns, att_info.index, assume_unique=True)\n",
    "print('There are {} missing features.'.format(len(att_missing)))"
   ]
  },
  {
   "cell_type": "code",
   "execution_count": 9,
   "metadata": {
    "colab": {
     "base_uri": "https://localhost:8080/",
     "height": 34
    },
    "colab_type": "code",
    "id": "RUx39Rk5GlUL",
    "outputId": "07247bae-135f-4fe6-e6e0-ef687021dd31"
   },
   "outputs": [
    {
     "name": "stdout",
     "output_type": "stream",
     "text": [
      "There are 102 rows and 4 columns.\n"
     ]
    }
   ],
   "source": [
    "# Create new dataframe of missing features\n",
    "att_missing = pd.DataFrame(att_missing, columns=['Attribute'])\n",
    "att_missing['Information level'] = np.NaN\n",
    "att_missing['Description'] = np.NaN\n",
    "att_missing['Additional notes'] = np.NaN\n",
    "att_missing['Unnamed: 0'] = np.NaN\n",
    "att_missing.set_index('Attribute', inplace=True)\n",
    "print('There are {} rows and {} columns.'.format(att_missing.shape[0], att_missing.shape[1]))"
   ]
  },
  {
   "cell_type": "code",
   "execution_count": 10,
   "metadata": {
    "colab": {
     "base_uri": "https://localhost:8080/",
     "height": 190
    },
    "colab_type": "code",
    "id": "LnRVV879GnW7",
    "outputId": "379c6f1c-7a53-4fee-e854-227f91a33cb4"
   },
   "outputs": [
    {
     "name": "stdout",
     "output_type": "stream",
     "text": [
      "There are 366 rows and 4 columns.\n"
     ]
    },
    {
     "name": "stderr",
     "output_type": "stream",
     "text": [
      "/home/ec2-user/anaconda3/envs/mxnet_p36/lib/python3.6/site-packages/pandas/core/frame.py:6692: FutureWarning: Sorting because non-concatenation axis is not aligned. A future version\n",
      "of pandas will change to not sort by default.\n",
      "\n",
      "To accept the future behavior, pass 'sort=False'.\n",
      "\n",
      "To retain the current behavior and silence the warning, pass 'sort=True'.\n",
      "\n",
      "  sort=sort)\n"
     ]
    }
   ],
   "source": [
    "# Add dataframe of missing features to the original features information dataframe\n",
    "att_info = att_info.append(att_missing)\n",
    "print('There are {} rows and {} columns.'.format(att_info.shape[0], att_info.shape[1]))"
   ]
  },
  {
   "cell_type": "code",
   "execution_count": 11,
   "metadata": {
    "colab": {
     "base_uri": "https://localhost:8080/",
     "height": 34
    },
    "colab_type": "code",
    "id": "AnW1QTo8Gqw7",
    "outputId": "3687b53f-80bb-495d-8729-fe40ebb413ee"
   },
   "outputs": [
    {
     "data": {
      "text/plain": [
       "array([], dtype=object)"
      ]
     },
     "execution_count": 11,
     "metadata": {},
     "output_type": "execute_result"
    }
   ],
   "source": [
    "# check for any extra or missing feature\n",
    "np.setdiff1d(azdias.columns, att_info.index, assume_unique=True)"
   ]
  },
  {
   "cell_type": "code",
   "execution_count": 12,
   "metadata": {
    "colab": {
     "base_uri": "https://localhost:8080/",
     "height": 207
    },
    "colab_type": "code",
    "id": "QdeDJoVLGwKC",
    "outputId": "f2820d1d-eb55-4dfc-cc0a-c998aed255bc"
   },
   "outputs": [
    {
     "name": "stderr",
     "output_type": "stream",
     "text": [
      "/home/ec2-user/anaconda3/envs/mxnet_p36/lib/python3.6/site-packages/ipykernel/__main__.py:9: SettingWithCopyWarning: \n",
      "A value is trying to be set on a copy of a slice from a DataFrame\n",
      "\n",
      "See the caveats in the documentation: http://pandas.pydata.org/pandas-docs/stable/indexing.html#indexing-view-versus-copy\n",
      "/home/ec2-user/anaconda3/envs/mxnet_p36/lib/python3.6/site-packages/ipykernel/__main__.py:7: SettingWithCopyWarning: \n",
      "A value is trying to be set on a copy of a slice from a DataFrame\n",
      "\n",
      "See the caveats in the documentation: http://pandas.pydata.org/pandas-docs/stable/indexing.html#indexing-view-versus-copy\n"
     ]
    }
   ],
   "source": [
    "# dataframe of feature wise unknown values\n",
    "unknown=att_values.loc[(att_values['Meaning'].str.contains(\"unknown\")==True)]\n",
    "unknown=unknown.reset_index()\n",
    "\n",
    "for i in range(len(unknown['Value'])):\n",
    "    if type(unknown['Value'][i]) == str:\n",
    "        unknown['Value'][i] = [int(s) for s in (unknown['Value'][i]).split(',')]\n",
    "    else:\n",
    "        unknown['Value'][i] = [unknown['Value'][i]]\n",
    "        \n",
    "for i in range(len(unknown['Value'])):\n",
    "    if 0 not in unknown['Value'][i]:\n",
    "        unknown['Value'][i].append(0)   "
   ]
  },
  {
   "cell_type": "code",
   "execution_count": 13,
   "metadata": {
    "colab": {},
    "colab_type": "code",
    "id": "nfWhZEnJGy00"
   },
   "outputs": [],
   "source": [
    "unknown_attr = pd.core.indexes.base.Index(unknown.Attribute)"
   ]
  },
  {
   "cell_type": "code",
   "execution_count": 14,
   "metadata": {
    "colab": {},
    "colab_type": "code",
    "id": "-lp6u0kyG0h9"
   },
   "outputs": [],
   "source": [
    "#check for missing features in feature value file\n",
    "drop_cols=[]\n",
    "for item in azdias.columns:\n",
    "    if item not in unknown_attr:\n",
    "        drop_cols.append(item)"
   ]
  },
  {
   "cell_type": "code",
   "execution_count": 15,
   "metadata": {
    "colab": {},
    "colab_type": "code",
    "id": "4NK6CSjlG3pj"
   },
   "outputs": [],
   "source": [
    "#drop features which are missing in the feature value file\n",
    "azdias_un = azdias.drop(np.asarray(drop_cols), axis=1)"
   ]
  },
  {
   "cell_type": "code",
   "execution_count": 16,
   "metadata": {
    "colab": {},
    "colab_type": "code",
    "id": "B8HMEq7UScKO"
   },
   "outputs": [],
   "source": [
    "att_info = att_info.drop(np.asarray(drop_cols), axis=0)"
   ]
  },
  {
   "cell_type": "code",
   "execution_count": 17,
   "metadata": {
    "colab": {},
    "colab_type": "code",
    "id": "dihbzmCqPA8X"
   },
   "outputs": [],
   "source": [
    "#set unknown values to NaN\n",
    "for i in range(len(unknown['Value'])):\n",
    "        if unknown.Attribute[i] in azdias_un.columns:\n",
    "            azdias_un[unknown.Attribute[i]] = azdias_un[unknown.Attribute[i]].replace(unknown.Value[i],np.NaN)   \n",
    "        "
   ]
  },
  {
   "cell_type": "code",
   "execution_count": 18,
   "metadata": {
    "colab": {},
    "colab_type": "code",
    "id": "44ARlF8uN5xu"
   },
   "outputs": [
    {
     "data": {
      "image/png": "[encoded data removed]",
      "text/plain": [
       "<Figure size 432x288 with 1 Axes>"
      ]
     },
     "metadata": {},
     "output_type": "display_data"
    }
   ],
   "source": [
    "# Perform an assessment of how much missing data there is in each column of the\n",
    "# dataset.\n",
    "missing_col = azdias_un.isnull().sum()/azdias_un.shape[0]\n",
    "missing_col\n",
    "missing_col.hist()\n",
    "plt.xlabel('Proportion')\n",
    "plt.ylabel('Count/number of columns')\n",
    "plt.title('Distribution of All Missing Values per Column');"
   ]
  },
  {
   "cell_type": "code",
   "execution_count": 19,
   "metadata": {
    "colab": {},
    "colab_type": "code",
    "id": "VSx3Ot6JRYEX"
   },
   "outputs": [
    {
     "data": {
      "image/png": "[encoded data removed]",
      "text/plain": [
       "<Figure size 432x288 with 1 Axes>"
      ]
     },
     "metadata": {},
     "output_type": "display_data"
    }
   ],
   "source": [
    "# Investigate patterns in the amount of missing data in each column.\n",
    "missing_col_sub = missing_col[missing_col<=0.6]\n",
    "\n",
    "missing_col_sub.hist()\n",
    "plt.xlabel('Proportion')\n",
    "plt.ylabel('Count')\n",
    "plt.title('Distribution of Missing Values per Column Less than or Equal to 60%');"
   ]
  },
  {
   "cell_type": "code",
   "execution_count": 20,
   "metadata": {
    "colab": {
     "base_uri": "https://localhost:8080/",
     "height": 34
    },
    "colab_type": "code",
    "id": "aziRpFmQRyt0",
    "outputId": "c6f5cc03-0220-4a16-83d8-5080430f0b01"
   },
   "outputs": [],
   "source": [
    "# Remove the outlier columns from the dataset\n",
    "col_outlier = missing_col[missing_col > 0.6].index\n",
    "azdias_sub = azdias_un.drop(col_outlier, axis=1)"
   ]
  },
  {
   "cell_type": "code",
   "execution_count": 21,
   "metadata": {
    "colab": {
     "base_uri": "https://localhost:8080/",
     "height": 68
    },
    "colab_type": "code",
    "id": "Da_PDBC4SF61",
    "outputId": "73e8e612-619c-4469-8d2b-f425b6566989"
   },
   "outputs": [
    {
     "data": {
      "text/plain": [
       "Index(['AGER_TYP', 'KBA05_ANTG3', 'KBA05_ANTG4', 'KBA05_SEG6', 'KBA05_SEG8',\n",
       "       'TITEL_KZ'],\n",
       "      dtype='object')"
      ]
     },
     "execution_count": 21,
     "metadata": {},
     "output_type": "execute_result"
    }
   ],
   "source": [
    "col_outlier"
   ]
  },
  {
   "cell_type": "code",
   "execution_count": 22,
   "metadata": {
    "colab": {
     "base_uri": "https://localhost:8080/",
     "height": 34
    },
    "colab_type": "code",
    "id": "AyS4ly5FSJQu",
    "outputId": "c4ceacd9-0a7c-4c65-e692-21b7a37d0a4f"
   },
   "outputs": [
    {
     "data": {
      "text/plain": [
       "(217, 4)"
      ]
     },
     "execution_count": 22,
     "metadata": {},
     "output_type": "execute_result"
    }
   ],
   "source": [
    "# Remove the outlier attributes from the feature info dataframe\n",
    "att_info_new = att_info[att_info.index.isin(col_outlier) == False]\n",
    "att_info_new.shape"
   ]
  },
  {
   "cell_type": "code",
   "execution_count": 23,
   "metadata": {
    "colab": {
     "base_uri": "https://localhost:8080/",
     "height": 153
    },
    "colab_type": "code",
    "id": "rb0SVVqOSMzM",
    "outputId": "65b00e38-052c-4523-de3a-c4faf802f556"
   },
   "outputs": [
    {
     "data": {
      "text/plain": [
       "Index(['ALTER_HH', 'BALLRAUM', 'CJT_GESAMTTYP', 'EWDICHTE', 'FINANZ_ANLEGER',\n",
       "       'FINANZ_HAUSBAUER', 'FINANZ_MINIMALIST', 'FINANZ_SPARER',\n",
       "       'FINANZ_UNAUFFAELLIGER', 'FINANZ_VORSORGER',\n",
       "       ...\n",
       "       'SEMIO_TRADV', 'SEMIO_VERT', 'SHOPPER_TYP', 'VERS_TYP',\n",
       "       'W_KEIT_KIND_HH', 'WOHNDAUER_2008', 'WOHNLAGE', 'ZABEOTYP', 'ANREDE_KZ',\n",
       "       'ALTERSKATEGORIE_GROB'],\n",
       "      dtype='object', length=215)"
      ]
     },
     "execution_count": 23,
     "metadata": {},
     "output_type": "execute_result"
    }
   ],
   "source": [
    "# find numerical columns\n",
    "num_cols = azdias_sub._get_numeric_data().columns\n",
    "num_cols"
   ]
  },
  {
   "cell_type": "code",
   "execution_count": 24,
   "metadata": {
    "colab": {
     "base_uri": "https://localhost:8080/",
     "height": 34
    },
    "colab_type": "code",
    "id": "QogWKVCXSQU6",
    "outputId": "17b161d7-eb48-40bc-992e-6f0d41e63b78"
   },
   "outputs": [
    {
     "data": {
      "text/plain": [
       "['OST_WEST_KZ', 'CAMEO_DEUG_2015']"
      ]
     },
     "execution_count": 24,
     "metadata": {},
     "output_type": "execute_result"
    }
   ],
   "source": [
    "#find categorical columns\n",
    "list(set(azdias_sub.columns) - set(num_cols))"
   ]
  },
  {
   "cell_type": "code",
   "execution_count": 25,
   "metadata": {
    "colab": {},
    "colab_type": "code",
    "id": "7Jio6KWZV86y"
   },
   "outputs": [],
   "source": [
    "att_categorical =['OST_WEST_KZ', 'CAMEO_DEUG_2015']"
   ]
  },
  {
   "cell_type": "code",
   "execution_count": 26,
   "metadata": {
    "colab": {},
    "colab_type": "code",
    "id": "vBdtVGNtWJLx"
   },
   "outputs": [],
   "source": [
    "# Check categorical variable whether it is binary or multi-level\n",
    "cat_binary = []\n",
    "cat_multi_level = []\n",
    "for att in att_categorical:\n",
    "    if len(azdias_sub[att].value_counts()) == 2:\n",
    "        cat_binary.append(att)\n",
    "    else:\n",
    "        cat_multi_level.append(att)"
   ]
  },
  {
   "cell_type": "code",
   "execution_count": 27,
   "metadata": {
    "colab": {
     "base_uri": "https://localhost:8080/",
     "height": 34
    },
    "colab_type": "code",
    "id": "D2delMTpWfb7",
    "outputId": "01c5d97e-ab49-4c68-fbb7-3fb1e5c6b5d6"
   },
   "outputs": [
    {
     "data": {
      "text/plain": [
       "['OST_WEST_KZ']"
      ]
     },
     "execution_count": 27,
     "metadata": {},
     "output_type": "execute_result"
    }
   ],
   "source": [
    "#categorical binary variables\n",
    "cat_binary"
   ]
  },
  {
   "cell_type": "code",
   "execution_count": 28,
   "metadata": {
    "colab": {
     "base_uri": "https://localhost:8080/",
     "height": 68
    },
    "colab_type": "code",
    "id": "zfx1EOwSWhbL",
    "outputId": "e39703c5-063a-4b3d-853f-09811e1b0006"
   },
   "outputs": [
    {
     "data": {
      "text/plain": [
       "2.0    629528\n",
       "1.0    168545\n",
       "Name: OST_WEST_KZ, dtype: int64"
      ]
     },
     "execution_count": 28,
     "metadata": {},
     "output_type": "execute_result"
    }
   ],
   "source": [
    "# Re-encode the values as numbers for `OST_WEST_KZ`\n",
    "azdias_sub['OST_WEST_KZ'] = azdias_sub['OST_WEST_KZ'].replace({'O':1.0, 'W':2.0})\n",
    "azdias_sub['OST_WEST_KZ'].value_counts()"
   ]
  },
  {
   "cell_type": "code",
   "execution_count": 29,
   "metadata": {
    "colab": {
     "base_uri": "https://localhost:8080/",
     "height": 34
    },
    "colab_type": "code",
    "id": "7pP7vun5WkC7",
    "outputId": "0ec7f91f-1a1f-49ca-e4c4-b8f86cf1146c"
   },
   "outputs": [
    {
     "data": {
      "text/plain": [
       "['CAMEO_DEUG_2015']"
      ]
     },
     "execution_count": 29,
     "metadata": {},
     "output_type": "execute_result"
    }
   ],
   "source": [
    "#categorical multilevel variables\n",
    "cat_multi_level"
   ]
  },
  {
   "cell_type": "code",
   "execution_count": 30,
   "metadata": {
    "colab": {},
    "colab_type": "code",
    "id": "e-leWNIwWmNZ"
   },
   "outputs": [],
   "source": [
    "# Check numerical variable whether it is binary or multi-level\n",
    "num_binary = []\n",
    "num_multi_level = []\n",
    "for att in num_cols:\n",
    "    if len(azdias_sub[att].value_counts()) == 2:\n",
    "        num_binary.append(att)\n",
    "    else:\n",
    "        num_multi_level.append(att)"
   ]
  },
  {
   "cell_type": "code",
   "execution_count": 31,
   "metadata": {
    "colab": {
     "base_uri": "https://localhost:8080/",
     "height": 34
    },
    "colab_type": "code",
    "id": "7YKlndB5WuXx",
    "outputId": "080a84d3-0fa0-4517-ee14-cafc52a586c1"
   },
   "outputs": [
    {
     "data": {
      "text/plain": [
       "['PLZ8_ANTG4', 'VERS_TYP', 'ANREDE_KZ']"
      ]
     },
     "execution_count": 31,
     "metadata": {},
     "output_type": "execute_result"
    }
   ],
   "source": [
    "#numerical binary variables\n",
    "num_binary"
   ]
  },
  {
   "cell_type": "code",
   "execution_count": 32,
   "metadata": {
    "colab": {
     "base_uri": "https://localhost:8080/",
     "height": 1000
    },
    "colab_type": "code",
    "id": "mj6u1BXZWwOZ",
    "outputId": "b935c6e0-a223-4819-8742-fbbac3765ebc"
   },
   "outputs": [
    {
     "data": {
      "text/plain": [
       "['ALTER_HH',\n",
       " 'BALLRAUM',\n",
       " 'CJT_GESAMTTYP',\n",
       " 'EWDICHTE',\n",
       " 'FINANZ_ANLEGER',\n",
       " 'FINANZ_HAUSBAUER',\n",
       " 'FINANZ_MINIMALIST',\n",
       " 'FINANZ_SPARER',\n",
       " 'FINANZ_UNAUFFAELLIGER',\n",
       " 'FINANZ_VORSORGER',\n",
       " 'FINANZTYP',\n",
       " 'GEBAEUDETYP',\n",
       " 'HEALTH_TYP',\n",
       " 'HH_EINKOMMEN_SCORE',\n",
       " 'INNENSTADT',\n",
       " 'KBA05_ALTER1',\n",
       " 'KBA05_ALTER2',\n",
       " 'KBA05_ALTER3',\n",
       " 'KBA05_ALTER4',\n",
       " 'KBA05_ANHANG',\n",
       " 'KBA05_ANTG1',\n",
       " 'KBA05_ANTG2',\n",
       " 'KBA05_BAUMAX',\n",
       " 'KBA05_CCM1',\n",
       " 'KBA05_CCM2',\n",
       " 'KBA05_CCM3',\n",
       " 'KBA05_CCM4',\n",
       " 'KBA05_DIESEL',\n",
       " 'KBA05_FRAU',\n",
       " 'KBA05_GBZ',\n",
       " 'KBA05_HERST1',\n",
       " 'KBA05_HERST2',\n",
       " 'KBA05_HERST3',\n",
       " 'KBA05_HERST4',\n",
       " 'KBA05_HERST5',\n",
       " 'KBA05_HERSTTEMP',\n",
       " 'KBA05_KRSAQUOT',\n",
       " 'KBA05_KRSHERST1',\n",
       " 'KBA05_KRSHERST2',\n",
       " 'KBA05_KRSHERST3',\n",
       " 'KBA05_KRSKLEIN',\n",
       " 'KBA05_KRSOBER',\n",
       " 'KBA05_KRSVAN',\n",
       " 'KBA05_KRSZUL',\n",
       " 'KBA05_KW1',\n",
       " 'KBA05_KW2',\n",
       " 'KBA05_KW3',\n",
       " 'KBA05_MAXAH',\n",
       " 'KBA05_MAXBJ',\n",
       " 'KBA05_MAXHERST',\n",
       " 'KBA05_MAXSEG',\n",
       " 'KBA05_MAXVORB',\n",
       " 'KBA05_MOD1',\n",
       " 'KBA05_MOD2',\n",
       " 'KBA05_MOD3',\n",
       " 'KBA05_MOD4',\n",
       " 'KBA05_MOD8',\n",
       " 'KBA05_MODTEMP',\n",
       " 'KBA05_MOTOR',\n",
       " 'KBA05_MOTRAD',\n",
       " 'KBA05_SEG1',\n",
       " 'KBA05_SEG10',\n",
       " 'KBA05_SEG2',\n",
       " 'KBA05_SEG3',\n",
       " 'KBA05_SEG4',\n",
       " 'KBA05_SEG5',\n",
       " 'KBA05_SEG7',\n",
       " 'KBA05_SEG9',\n",
       " 'KBA05_VORB0',\n",
       " 'KBA05_VORB1',\n",
       " 'KBA05_VORB2',\n",
       " 'KBA05_ZUL1',\n",
       " 'KBA05_ZUL2',\n",
       " 'KBA05_ZUL3',\n",
       " 'KBA05_ZUL4',\n",
       " 'KBA13_ALTERHALTER_30',\n",
       " 'KBA13_ALTERHALTER_45',\n",
       " 'KBA13_ALTERHALTER_60',\n",
       " 'KBA13_ALTERHALTER_61',\n",
       " 'KBA13_AUDI',\n",
       " 'KBA13_AUTOQUOTE',\n",
       " 'KBA13_BJ_1999',\n",
       " 'KBA13_BJ_2000',\n",
       " 'KBA13_BJ_2004',\n",
       " 'KBA13_BJ_2006',\n",
       " 'KBA13_BJ_2008',\n",
       " 'KBA13_BJ_2009',\n",
       " 'KBA13_BMW',\n",
       " 'KBA13_CCM_0_1400',\n",
       " 'KBA13_CCM_1000',\n",
       " 'KBA13_CCM_1200',\n",
       " 'KBA13_CCM_1400',\n",
       " 'KBA13_CCM_1500',\n",
       " 'KBA13_CCM_1600',\n",
       " 'KBA13_CCM_1800',\n",
       " 'KBA13_CCM_2000',\n",
       " 'KBA13_CCM_2500',\n",
       " 'KBA13_CCM_2501',\n",
       " 'KBA13_CCM_3000',\n",
       " 'KBA13_CCM_3001',\n",
       " 'KBA13_FAB_ASIEN',\n",
       " 'KBA13_FAB_SONSTIGE',\n",
       " 'KBA13_FIAT',\n",
       " 'KBA13_FORD',\n",
       " 'KBA13_HALTER_20',\n",
       " 'KBA13_HALTER_25',\n",
       " 'KBA13_HALTER_30',\n",
       " 'KBA13_HALTER_35',\n",
       " 'KBA13_HALTER_40',\n",
       " 'KBA13_HALTER_45',\n",
       " 'KBA13_HALTER_50',\n",
       " 'KBA13_HALTER_55',\n",
       " 'KBA13_HALTER_60',\n",
       " 'KBA13_HALTER_65',\n",
       " 'KBA13_HALTER_66',\n",
       " 'KBA13_HERST_ASIEN',\n",
       " 'KBA13_HERST_AUDI_VW',\n",
       " 'KBA13_HERST_BMW_BENZ',\n",
       " 'KBA13_HERST_EUROPA',\n",
       " 'KBA13_HERST_FORD_OPEL',\n",
       " 'KBA13_HERST_SONST',\n",
       " 'KBA13_KMH_0_140',\n",
       " 'KBA13_KMH_110',\n",
       " 'KBA13_KMH_140',\n",
       " 'KBA13_KMH_140_210',\n",
       " 'KBA13_KMH_180',\n",
       " 'KBA13_KMH_211',\n",
       " 'KBA13_KMH_250',\n",
       " 'KBA13_KMH_251',\n",
       " 'KBA13_KRSAQUOT',\n",
       " 'KBA13_KRSHERST_AUDI_VW',\n",
       " 'KBA13_KRSHERST_BMW_BENZ',\n",
       " 'KBA13_KRSHERST_FORD_OPEL',\n",
       " 'KBA13_KRSSEG_KLEIN',\n",
       " 'KBA13_KRSSEG_OBER',\n",
       " 'KBA13_KRSSEG_VAN',\n",
       " 'KBA13_KRSZUL_NEU',\n",
       " 'KBA13_KW_0_60',\n",
       " 'KBA13_KW_110',\n",
       " 'KBA13_KW_120',\n",
       " 'KBA13_KW_121',\n",
       " 'KBA13_KW_30',\n",
       " 'KBA13_KW_40',\n",
       " 'KBA13_KW_50',\n",
       " 'KBA13_KW_60',\n",
       " 'KBA13_KW_61_120',\n",
       " 'KBA13_KW_70',\n",
       " 'KBA13_KW_80',\n",
       " 'KBA13_KW_90',\n",
       " 'KBA13_MAZDA',\n",
       " 'KBA13_MERCEDES',\n",
       " 'KBA13_MOTOR',\n",
       " 'KBA13_NISSAN',\n",
       " 'KBA13_OPEL',\n",
       " 'KBA13_PEUGEOT',\n",
       " 'KBA13_RENAULT',\n",
       " 'KBA13_SEG_GELAENDEWAGEN',\n",
       " 'KBA13_SEG_GROSSRAUMVANS',\n",
       " 'KBA13_SEG_KLEINST',\n",
       " 'KBA13_SEG_KLEINWAGEN',\n",
       " 'KBA13_SEG_KOMPAKTKLASSE',\n",
       " 'KBA13_SEG_MINIVANS',\n",
       " 'KBA13_SEG_MINIWAGEN',\n",
       " 'KBA13_SEG_MITTELKLASSE',\n",
       " 'KBA13_SEG_OBEREMITTELKLASSE',\n",
       " 'KBA13_SEG_OBERKLASSE',\n",
       " 'KBA13_SEG_SONSTIGE',\n",
       " 'KBA13_SEG_SPORTWAGEN',\n",
       " 'KBA13_SEG_UTILITIES',\n",
       " 'KBA13_SEG_VAN',\n",
       " 'KBA13_SEG_WOHNMOBILE',\n",
       " 'KBA13_SITZE_4',\n",
       " 'KBA13_SITZE_5',\n",
       " 'KBA13_SITZE_6',\n",
       " 'KBA13_TOYOTA',\n",
       " 'KBA13_VORB_0',\n",
       " 'KBA13_VORB_1',\n",
       " 'KBA13_VORB_1_2',\n",
       " 'KBA13_VORB_2',\n",
       " 'KBA13_VORB_3',\n",
       " 'KBA13_VW',\n",
       " 'KKK',\n",
       " 'NATIONALITAET_KZ',\n",
       " 'ORTSGR_KLS9',\n",
       " 'PLZ8_ANTG1',\n",
       " 'PLZ8_ANTG2',\n",
       " 'PLZ8_ANTG3',\n",
       " 'PLZ8_GBZ',\n",
       " 'PLZ8_HHZ',\n",
       " 'PRAEGENDE_JUGENDJAHRE',\n",
       " 'REGIOTYP',\n",
       " 'RETOURTYP_BK_S',\n",
       " 'SEMIO_DOM',\n",
       " 'SEMIO_ERL',\n",
       " 'SEMIO_FAM',\n",
       " 'SEMIO_KAEM',\n",
       " 'SEMIO_KRIT',\n",
       " 'SEMIO_KULT',\n",
       " 'SEMIO_LUST',\n",
       " 'SEMIO_MAT',\n",
       " 'SEMIO_PFLICHT',\n",
       " 'SEMIO_RAT',\n",
       " 'SEMIO_REL',\n",
       " 'SEMIO_SOZ',\n",
       " 'SEMIO_TRADV',\n",
       " 'SEMIO_VERT',\n",
       " 'SHOPPER_TYP',\n",
       " 'W_KEIT_KIND_HH',\n",
       " 'WOHNDAUER_2008',\n",
       " 'WOHNLAGE',\n",
       " 'ZABEOTYP',\n",
       " 'ALTERSKATEGORIE_GROB']"
      ]
     },
     "execution_count": 32,
     "metadata": {},
     "output_type": "execute_result"
    }
   ],
   "source": [
    "#numerical multilevel variables\n",
    "num_multi_level"
   ]
  },
  {
   "cell_type": "code",
   "execution_count": 33,
   "metadata": {
    "colab": {},
    "colab_type": "code",
    "id": "A25hDNWtWzmj"
   },
   "outputs": [],
   "source": [
    "num_multi_level.remove('PRAEGENDE_JUGENDJAHRE')"
   ]
  },
  {
   "cell_type": "code",
   "execution_count": 34,
   "metadata": {
    "colab": {},
    "colab_type": "code",
    "id": "DhEyUK38XBPo"
   },
   "outputs": [],
   "source": [
    "multi_level = cat_multi_level + num_multi_level\n"
   ]
  },
  {
   "cell_type": "code",
   "execution_count": 35,
   "metadata": {
    "colab": {},
    "colab_type": "code",
    "id": "hc5axtCjXDWt"
   },
   "outputs": [],
   "source": [
    "# Re-encode categorical variables\n",
    "azdias_enc = pd.get_dummies(azdias_sub, columns=multi_level)"
   ]
  },
  {
   "cell_type": "code",
   "execution_count": 36,
   "metadata": {
    "colab": {},
    "colab_type": "code",
    "id": "rcK4y0CdXHWV"
   },
   "outputs": [],
   "source": [
    "# Investigate \"PRAEGENDE_JUGENDJAHRE\" and add two new variables.\n",
    "# Add new column `DECADE`\n",
    "azdias_enc['DECADE'] = azdias_enc['PRAEGENDE_JUGENDJAHRE']\n",
    "\n",
    "# Add new column `MOVEMENT`\n",
    "mainstream = [1.0, 3.0, 5.0, 8.0, 10.0, 12.0, 14.0]\n",
    "avantgarde = [2.0, 4.0, 6.0, 7.0, 9.0, 11.0, 13.0, 15.0]\n",
    "\n",
    "main = azdias_enc['PRAEGENDE_JUGENDJAHRE'].isin(mainstream)\n",
    "azdias_enc.loc[main, 'MOVEMENT'] = 1.0\n",
    "avant = azdias_enc['PRAEGENDE_JUGENDJAHRE'].isin(avantgarde)\n",
    "azdias_enc.loc[avant, 'MOVEMENT'] = 2.0"
   ]
  },
  {
   "cell_type": "code",
   "execution_count": 37,
   "metadata": {
    "colab": {},
    "colab_type": "code",
    "id": "fudLCWxzXmCW"
   },
   "outputs": [],
   "source": [
    "azdias_clean = azdias_enc.drop(['PRAEGENDE_JUGENDJAHRE'], axis=1)"
   ]
  },
  {
   "cell_type": "markdown",
   "metadata": {},
   "source": [
    "### Preprocessing Function"
   ]
  },
  {
   "cell_type": "code",
   "execution_count": 38,
   "metadata": {
    "colab": {},
    "colab_type": "code",
    "id": "KI6Cv3eKeWhO"
   },
   "outputs": [],
   "source": [
    "def clean_data(df):\n",
    "    \"\"\"\n",
    "    Perform feature trimming, re-encoding, and engineering for demographics\n",
    "    data\n",
    "    \n",
    "    INPUT: Demographics DataFrame\n",
    "    OUTPUT: Trimmed and cleaned demographics DataFrame\n",
    "    \"\"\"\n",
    "  \n",
    "    #drop columns which are missing in feature value file\n",
    "    df_un = df.drop(np.asarray(drop_cols), axis=1)\n",
    "    \n",
    "    # convert missing value codes into NaNs\n",
    "    for i in range(len(unknown['Value'])):\n",
    "        if unknown.Attribute[i] in df_un.columns:\n",
    "            df_un[unknown.Attribute[i]] = df_un[unknown.Attribute[i]].replace(unknown.Value[i],np.NaN)      \n",
    "   \n",
    "    # remove columns having more than 60% unknown values\n",
    "    col_outlier = ['AGER_TYP', 'KBA05_ANTG3', 'KBA05_ANTG4', 'KBA05_SEG6', 'KBA05_SEG8',\n",
    "       'TITEL_KZ']\n",
    "   \n",
    "    df_sub = df_un.drop(col_outlier, axis=1)\n",
    "    \n",
    "    # select, re-encode, and engineer column values.\n",
    "    df_sub['OST_WEST_KZ'] = df_sub['OST_WEST_KZ'].replace({'O':1.0, 'W':2.0})\n",
    "    \n",
    "    categorical = [  'CAMEO_DEUG_2015',\n",
    "                     'ALTER_HH',\n",
    "                     'BALLRAUM',\n",
    "                     'CJT_GESAMTTYP',\n",
    "                     'EWDICHTE',\n",
    "                     'FINANZ_ANLEGER',\n",
    "                     'FINANZ_HAUSBAUER',\n",
    "                     'FINANZ_MINIMALIST',\n",
    "                     'FINANZ_SPARER',\n",
    "                     'FINANZ_UNAUFFAELLIGER',\n",
    "                     'FINANZ_VORSORGER',\n",
    "                     'FINANZTYP',\n",
    "                     'GEBAEUDETYP',\n",
    "                     'HEALTH_TYP',\n",
    "                     'HH_EINKOMMEN_SCORE',\n",
    "                     'INNENSTADT',\n",
    "                     'KBA05_ALTER1',\n",
    "                     'KBA05_ALTER2',\n",
    "                     'KBA05_ALTER3',\n",
    "                     'KBA05_ALTER4',\n",
    "                     'KBA05_ANHANG',\n",
    "                     'KBA05_ANTG1',\n",
    "                     'KBA05_ANTG2',\n",
    "                     'KBA05_BAUMAX',\n",
    "                     'KBA05_CCM1',\n",
    "                     'KBA05_CCM2',\n",
    "                     'KBA05_CCM3',\n",
    "                     'KBA05_CCM4',\n",
    "                     'KBA05_DIESEL',\n",
    "                     'KBA05_FRAU',\n",
    "                     'KBA05_GBZ',\n",
    "                     'KBA05_HERST1',\n",
    "                     'KBA05_HERST2',\n",
    "                     'KBA05_HERST3',\n",
    "                     'KBA05_HERST4',\n",
    "                     'KBA05_HERST5',\n",
    "                     'KBA05_HERSTTEMP',\n",
    "                     'KBA05_KRSAQUOT',\n",
    "                     'KBA05_KRSHERST1',\n",
    "                     'KBA05_KRSHERST2',\n",
    "                     'KBA05_KRSHERST3',\n",
    "                     'KBA05_KRSKLEIN',\n",
    "                     'KBA05_KRSOBER',\n",
    "                     'KBA05_KRSVAN',\n",
    "                     'KBA05_KRSZUL',\n",
    "                     'KBA05_KW1',\n",
    "                     'KBA05_KW2',\n",
    "                     'KBA05_KW3',\n",
    "                     'KBA05_MAXAH',\n",
    "                     'KBA05_MAXBJ',\n",
    "                     'KBA05_MAXHERST',\n",
    "                     'KBA05_MAXSEG',\n",
    "                     'KBA05_MAXVORB',\n",
    "                     'KBA05_MOD1',\n",
    "                     'KBA05_MOD2',\n",
    "                     'KBA05_MOD3',\n",
    "                     'KBA05_MOD4',\n",
    "                     'KBA05_MOD8',\n",
    "                     'KBA05_MODTEMP',\n",
    "                     'KBA05_MOTOR',\n",
    "                     'KBA05_MOTRAD',\n",
    "                     'KBA05_SEG1',\n",
    "                     'KBA05_SEG10',\n",
    "                     'KBA05_SEG2',\n",
    "                     'KBA05_SEG3',\n",
    "                     'KBA05_SEG4',\n",
    "                     'KBA05_SEG5',\n",
    "                     'KBA05_SEG7',\n",
    "                     'KBA05_SEG9',\n",
    "                     'KBA05_VORB0',\n",
    "                     'KBA05_VORB1',\n",
    "                     'KBA05_VORB2',\n",
    "                     'KBA05_ZUL1',\n",
    "                     'KBA05_ZUL2',\n",
    "                     'KBA05_ZUL3',\n",
    "                     'KBA05_ZUL4',\n",
    "                     'KBA13_ALTERHALTER_30',\n",
    "                     'KBA13_ALTERHALTER_45',\n",
    "                     'KBA13_ALTERHALTER_60',\n",
    "                     'KBA13_ALTERHALTER_61',\n",
    "                     'KBA13_AUDI',\n",
    "                     'KBA13_AUTOQUOTE',\n",
    "                     'KBA13_BJ_1999',\n",
    "                     'KBA13_BJ_2000',\n",
    "                     'KBA13_BJ_2004',\n",
    "                     'KBA13_BJ_2006',\n",
    "                     'KBA13_BJ_2008',\n",
    "                     'KBA13_BJ_2009',\n",
    "                     'KBA13_BMW',\n",
    "                     'KBA13_CCM_0_1400',\n",
    "                     'KBA13_CCM_1000',\n",
    "                     'KBA13_CCM_1200',\n",
    "                     'KBA13_CCM_1400',\n",
    "                     'KBA13_CCM_1500',\n",
    "                     'KBA13_CCM_1600',\n",
    "                     'KBA13_CCM_1800',\n",
    "                     'KBA13_CCM_2000',\n",
    "                     'KBA13_CCM_2500',\n",
    "                     'KBA13_CCM_2501',\n",
    "                     'KBA13_CCM_3000',\n",
    "                     'KBA13_CCM_3001',\n",
    "                     'KBA13_FAB_ASIEN',\n",
    "                     'KBA13_FAB_SONSTIGE',\n",
    "                     'KBA13_FIAT',\n",
    "                     'KBA13_FORD',\n",
    "                     'KBA13_HALTER_20',\n",
    "                     'KBA13_HALTER_25',\n",
    "                     'KBA13_HALTER_30',\n",
    "                     'KBA13_HALTER_35',\n",
    "                     'KBA13_HALTER_40',\n",
    "                     'KBA13_HALTER_45',\n",
    "                     'KBA13_HALTER_50',\n",
    "                     'KBA13_HALTER_55',\n",
    "                     'KBA13_HALTER_60',\n",
    "                     'KBA13_HALTER_65',\n",
    "                     'KBA13_HALTER_66',\n",
    "                     'KBA13_HERST_ASIEN',\n",
    "                     'KBA13_HERST_AUDI_VW',\n",
    "                     'KBA13_HERST_BMW_BENZ',\n",
    "                     'KBA13_HERST_EUROPA',\n",
    "                     'KBA13_HERST_FORD_OPEL',\n",
    "                     'KBA13_HERST_SONST',\n",
    "                     'KBA13_KMH_0_140',\n",
    "                     'KBA13_KMH_110',\n",
    "                     'KBA13_KMH_140',\n",
    "                     'KBA13_KMH_140_210',\n",
    "                     'KBA13_KMH_180',\n",
    "                     'KBA13_KMH_211',\n",
    "                     'KBA13_KMH_250',\n",
    "                     'KBA13_KMH_251',\n",
    "                     'KBA13_KRSAQUOT',\n",
    "                     'KBA13_KRSHERST_AUDI_VW',\n",
    "                     'KBA13_KRSHERST_BMW_BENZ',\n",
    "                     'KBA13_KRSHERST_FORD_OPEL',\n",
    "                     'KBA13_KRSSEG_KLEIN',\n",
    "                     'KBA13_KRSSEG_OBER',\n",
    "                     'KBA13_KRSSEG_VAN',\n",
    "                     'KBA13_KRSZUL_NEU',\n",
    "                     'KBA13_KW_0_60',\n",
    "                     'KBA13_KW_110',\n",
    "                     'KBA13_KW_120',\n",
    "                     'KBA13_KW_121',\n",
    "                     'KBA13_KW_30',\n",
    "                     'KBA13_KW_40',\n",
    "                     'KBA13_KW_50',\n",
    "                     'KBA13_KW_60',\n",
    "                     'KBA13_KW_61_120',\n",
    "                     'KBA13_KW_70',\n",
    "                     'KBA13_KW_80',\n",
    "                     'KBA13_KW_90',\n",
    "                     'KBA13_MAZDA',\n",
    "                     'KBA13_MERCEDES',\n",
    "                     'KBA13_MOTOR',\n",
    "                     'KBA13_NISSAN',\n",
    "                     'KBA13_OPEL',\n",
    "                     'KBA13_PEUGEOT',\n",
    "                     'KBA13_RENAULT',\n",
    "                     'KBA13_SEG_GELAENDEWAGEN',\n",
    "                     'KBA13_SEG_GROSSRAUMVANS',\n",
    "                     'KBA13_SEG_KLEINST',\n",
    "                     'KBA13_SEG_KLEINWAGEN',\n",
    "                     'KBA13_SEG_KOMPAKTKLASSE',\n",
    "                     'KBA13_SEG_MINIVANS',\n",
    "                     'KBA13_SEG_MINIWAGEN',\n",
    "                     'KBA13_SEG_MITTELKLASSE',\n",
    "                     'KBA13_SEG_OBEREMITTELKLASSE',\n",
    "                     'KBA13_SEG_OBERKLASSE',\n",
    "                     'KBA13_SEG_SONSTIGE',\n",
    "                     'KBA13_SEG_SPORTWAGEN',\n",
    "                     'KBA13_SEG_UTILITIES',\n",
    "                     'KBA13_SEG_VAN',\n",
    "                     'KBA13_SEG_WOHNMOBILE',\n",
    "                     'KBA13_SITZE_4',\n",
    "                     'KBA13_SITZE_5',\n",
    "                     'KBA13_SITZE_6',\n",
    "                     'KBA13_TOYOTA',\n",
    "                     'KBA13_VORB_0',\n",
    "                     'KBA13_VORB_1',\n",
    "                     'KBA13_VORB_1_2',\n",
    "                     'KBA13_VORB_2',\n",
    "                     'KBA13_VORB_3',\n",
    "                     'KBA13_VW',\n",
    "                     'KKK',\n",
    "                     'NATIONALITAET_KZ',\n",
    "                     'ORTSGR_KLS9',\n",
    "                     'PLZ8_ANTG1',\n",
    "                     'PLZ8_ANTG2',\n",
    "                     'PLZ8_ANTG3',\n",
    "                     'PLZ8_GBZ',\n",
    "                     'PLZ8_HHZ',\n",
    "                     'REGIOTYP',\n",
    "                     'RETOURTYP_BK_S',\n",
    "                     'SEMIO_DOM',\n",
    "                     'SEMIO_ERL',\n",
    "                     'SEMIO_FAM',\n",
    "                     'SEMIO_KAEM',\n",
    "                     'SEMIO_KRIT',\n",
    "                     'SEMIO_KULT',\n",
    "                     'SEMIO_LUST',\n",
    "                     'SEMIO_MAT',\n",
    "                     'SEMIO_PFLICHT',\n",
    "                     'SEMIO_RAT',\n",
    "                     'SEMIO_REL',\n",
    "                     'SEMIO_SOZ',\n",
    "                     'SEMIO_TRADV',\n",
    "                     'SEMIO_VERT',\n",
    "                     'SHOPPER_TYP',\n",
    "                     'W_KEIT_KIND_HH',\n",
    "                     'WOHNDAUER_2008',\n",
    "                     'WOHNLAGE',\n",
    "                     'ZABEOTYP',\n",
    "                     'ALTERSKATEGORIE_GROB']\n",
    "    \n",
    "    df_enc = pd.get_dummies(df_sub, columns=categorical)\n",
    "    \n",
    "    # Engineer mixed-type features\n",
    "    df_enc['DECADE'] = df_enc['PRAEGENDE_JUGENDJAHRE']\n",
    "    main = df_enc['PRAEGENDE_JUGENDJAHRE'].isin([1.0, 3.0, 5.0, 8.0, 10.0, 12.0, 14.0])\n",
    "    df_enc.loc[main, 'MOVEMENT'] = 1.0\n",
    "    avant = df_enc['PRAEGENDE_JUGENDJAHRE'].isin([2.0, 4.0, 6.0, 7.0, 9.0, 11.0, 13.0, 15.0])\n",
    "    df_enc.loc[avant, 'MOVEMENT'] = 2.0\n",
    "    \n",
    "   \n",
    "    df_clean = df_enc.drop(['PRAEGENDE_JUGENDJAHRE'], axis=1)\n",
    "\n",
    "    # Return the cleaned dataframe.\n",
    "\n",
    "    return df_clean"
   ]
  },
  {
   "cell_type": "code",
   "execution_count": 39,
   "metadata": {
    "colab": {},
    "colab_type": "code",
    "id": "kP66JgjUgVqm"
   },
   "outputs": [],
   "source": [
    "#use cleaning function\n",
    "azdias_clone = clean_data(azdias)"
   ]
  },
  {
   "cell_type": "code",
   "execution_count": 40,
   "metadata": {
    "colab": {
     "base_uri": "https://localhost:8080/",
     "height": 34
    },
    "colab_type": "code",
    "id": "Ag-Z9cFugdql",
    "outputId": "706a72e3-3fc4-4547-8fb3-c65d4df9b756"
   },
   "outputs": [
    {
     "data": {
      "text/plain": [
       "True"
      ]
     },
     "execution_count": 40,
     "metadata": {},
     "output_type": "execute_result"
    }
   ],
   "source": [
    "#Test cleaning function\n",
    "# Should be True\n",
    "azdias_clone.shape == azdias_clean.shape"
   ]
  },
  {
   "cell_type": "code",
   "execution_count": 41,
   "metadata": {
    "colab": {},
    "colab_type": "code",
    "id": "AwVypJ5ZX0eK"
   },
   "outputs": [],
   "source": [
    "# Apply `Imputer` to replace all missing values with the mean\n",
    "from sklearn.preprocessing import StandardScaler\n",
    "from sklearn.impute import SimpleImputer\n",
    "imputer = SimpleImputer()\n",
    "azdias_impute = imputer.fit_transform(azdias_clean.sample(frac=0.6))"
   ]
  },
  {
   "cell_type": "code",
   "execution_count": 42,
   "metadata": {
    "colab": {},
    "colab_type": "code",
    "id": "F4kyw72AX8Gb"
   },
   "outputs": [],
   "source": [
    "# Apply feature scaling to the general population demographics data.\n",
    "scaler = StandardScaler()\n",
    "azdias_scaled = scaler.fit_transform(azdias_impute)"
   ]
  },
  {
   "cell_type": "markdown",
   "metadata": {},
   "source": [
    "## Part 1: Customer Segmentation Report\n",
    "\n",
    "The main bulk of your analysis will come in this part of the project. Here, you should use unsupervised learning techniques to describe the relationship between the demographics of the company's existing customers and the general population of Germany. By the end of this part, you should be able to describe parts of the general population that are more likely to be part of the mail-order company's main customer base, and which parts of the general population are less so."
   ]
  },
  {
   "cell_type": "markdown",
   "metadata": {},
   "source": [
    "### Principal Component Analysis"
   ]
  },
  {
   "cell_type": "code",
   "execution_count": 43,
   "metadata": {
    "colab": {},
    "colab_type": "code",
    "id": "0nKTieR8ZA_a"
   },
   "outputs": [],
   "source": [
    "# Apply PCA to the data\n",
    "n_components = int(azdias_impute.shape[1] / 2) # Half the number of features\n",
    "\n",
    "pca = PCA(n_components)\n",
    "azdias_pca = pca.fit_transform(azdias_scaled)"
   ]
  },
  {
   "cell_type": "code",
   "execution_count": 44,
   "metadata": {},
   "outputs": [
    {
     "data": {
      "image/png": "[encoded data removed]",
      "text/plain": [
       "<Figure size 720x432 with 1 Axes>"
      ]
     },
     "metadata": {},
     "output_type": "display_data"
    }
   ],
   "source": [
    "# Investigate the variance accounted for by each principal component\n",
    "ind = np.arange(n_components)\n",
    "vals = pca.explained_variance_ratio_\n",
    "\n",
    "plt.figure(figsize=(10, 6))\n",
    "ax = plt.subplot()\n",
    "cumvals = np.cumsum(vals)\n",
    "ax.bar(ind, vals)\n",
    "ax.plot(ind, cumvals)\n",
    "for i in range(n_components):\n",
    "    ax.xaxis.set_tick_params(width=0)\n",
    "    ax.yaxis.set_tick_params(width=2, length=12)\n",
    "\n",
    "    ax.set_xlabel(\"Principal Component\")\n",
    "    ax.set_ylabel(\"Variance Explained (%)\")\n",
    "    plt.title('Explained Variance Per Principal Component')"
   ]
  },
  {
   "cell_type": "code",
   "execution_count": 45,
   "metadata": {},
   "outputs": [
    {
     "data": {
      "text/plain": [
       "0.8694544182754353"
      ]
     },
     "execution_count": 45,
     "metadata": {},
     "output_type": "execute_result"
    }
   ],
   "source": [
    "# Re-apply PCA to the data while selecting for number of components to retain\n",
    "sum(pca.explained_variance_ratio_)"
   ]
  },
  {
   "cell_type": "code",
   "execution_count": 46,
   "metadata": {},
   "outputs": [],
   "source": [
    "# Map weights for the first principal components to corresponding feature names\n",
    "# and then print the linked values, sorted by weight\n",
    "\n",
    "# Dimension indexing\n",
    "dimensions = dimensions = ['Dimension {}'.format(i) for i in range(1,len(pca.components_)+1)]\n",
    "\n",
    "# PCA components\n",
    "components = pd.DataFrame(np.round(pca.components_, 4), columns = azdias_clean.keys())\n",
    "components.index = dimensions"
   ]
  },
  {
   "cell_type": "code",
   "execution_count": 47,
   "metadata": {},
   "outputs": [
    {
     "data": {
      "text/plain": [
       "SEMIO_VERT_1                       0.1133\n",
       "FINANZTYP_4                        0.1036\n",
       "SEMIO_DOM_6                        0.1013\n",
       "HH_EINKOMMEN_SCORE_2.0             0.0972\n",
       "FINANZ_UNAUFFAELLIGER_5            0.0934\n",
       "SEMIO_KRIT_7                       0.0920\n",
       "SEMIO_LUST_5                       0.0913\n",
       "SEMIO_MAT_5                        0.0906\n",
       "FINANZ_SPARER_4                    0.0885\n",
       "SEMIO_FAM_6                        0.0884\n",
       "SEMIO_PFLICHT_5                    0.0867\n",
       "SEMIO_KAEM_6                       0.0844\n",
       "SEMIO_ERL_3                        0.0830\n",
       "SEMIO_REL_7                        0.0813\n",
       "FINANZ_ANLEGER_5                   0.0805\n",
       "SEMIO_KULT_3                       0.0803\n",
       "FINANZ_VORSORGER_3                 0.0774\n",
       "SEMIO_SOZ_2                        0.0768\n",
       "SEMIO_TRADV_3                      0.0745\n",
       "FINANZ_HAUSBAUER_3                 0.0691\n",
       "FINANZ_MINIMALIST_3                0.0667\n",
       "SEMIO_RAT_4                        0.0657\n",
       "CJT_GESAMTTYP_6.0                  0.0599\n",
       "ZABEOTYP_3                         0.0509\n",
       "RETOURTYP_BK_S_3.0                 0.0435\n",
       "ALTERSKATEGORIE_GROB_1             0.0138\n",
       "DECADE                             0.0132\n",
       "PLZ8_ANTG4                         0.0132\n",
       "KBA05_HERSTTEMP_5.0                0.0123\n",
       "KBA05_MODTEMP_5.0                  0.0123\n",
       "                                    ...  \n",
       "KBA05_MOTOR_3.0                   -0.0507\n",
       "KBA13_ALTERHALTER_30_3.0          -0.0508\n",
       "KBA13_HERST_BMW_BENZ_3.0          -0.0509\n",
       "KBA05_SEG2_3.0                    -0.0509\n",
       "KBA13_ALTERHALTER_60_3.0          -0.0510\n",
       "KBA05_KW2_3.0                     -0.0511\n",
       "KBA13_HALTER_20_3.0               -0.0511\n",
       "KBA13_SEG_OBEREMITTELKLASSE_3.0   -0.0511\n",
       "KBA13_KW_0_60_3.0                 -0.0513\n",
       "KBA05_MAXVORB_2.0                 -0.0521\n",
       "KBA13_HALTER_25_3.0               -0.0521\n",
       "KBA05_SEG4_3.0                    -0.0524\n",
       "KBA13_KRSZUL_NEU_2.0              -0.0528\n",
       "KBA13_AUTOQUOTE_3.0               -0.0529\n",
       "KBA05_ANHANG_1.0                  -0.0529\n",
       "KBA05_MOTRAD_1.0                  -0.0583\n",
       "GEBAEUDETYP_1.0                   -0.0594\n",
       "KBA05_KRSZUL_2.0                  -0.0603\n",
       "KBA13_MOTOR_3.0                   -0.0643\n",
       "WOHNDAUER_2008_9.0                -0.0656\n",
       "KBA05_KRSKLEIN_2.0                -0.0688\n",
       "KBA13_KRSSEG_VAN_2.0              -0.0696\n",
       "KBA05_KRSVAN_2.0                  -0.0716\n",
       "KBA05_KRSOBER_2.0                 -0.0719\n",
       "KBA13_KW_30_1.0                   -0.0735\n",
       "KBA13_KRSSEG_OBER_2.0             -0.0748\n",
       "NATIONALITAET_KZ_1.0              -0.0842\n",
       "KBA13_KMH_110_1.0                 -0.0885\n",
       "KBA13_KMH_251_1.0                 -0.0996\n",
       "KBA13_KRSSEG_KLEIN_2.0            -0.1213\n",
       "Name: Dimension 1, Length: 1090, dtype: float64"
      ]
     },
     "execution_count": 47,
     "metadata": {},
     "output_type": "execute_result"
    }
   ],
   "source": [
    "components.iloc[0].sort_values(ascending=False)"
   ]
  },
  {
   "cell_type": "code",
   "execution_count": 48,
   "metadata": {},
   "outputs": [
    {
     "data": {
      "text/plain": [
       "PLZ8_ANTG1_1.0                 0.1310\n",
       "PLZ8_ANTG3_3.0                 0.1277\n",
       "HH_EINKOMMEN_SCORE_6.0         0.1087\n",
       "KBA13_CCM_3000_1.0             0.0978\n",
       "KBA13_AUTOQUOTE_1.0            0.0971\n",
       "EWDICHTE_6.0                   0.0966\n",
       "KBA13_HALTER_30_5.0            0.0941\n",
       "KBA13_CCM_2501_1.0             0.0927\n",
       "KBA13_CCM_3001_1.0             0.0927\n",
       "KBA13_SEG_SPORTWAGEN_1.0       0.0921\n",
       "PLZ8_GBZ_2.0                   0.0909\n",
       "PLZ8_ANTG2_4.0                 0.0869\n",
       "KBA13_KW_120_1.0               0.0863\n",
       "KBA13_ALTERHALTER_30_5.0       0.0863\n",
       "KBA13_HALTER_35_5.0            0.0858\n",
       "KBA13_KRSSEG_OBER_1.0          0.0850\n",
       "KBA13_SEG_KOMPAKTKLASSE_5.0    0.0837\n",
       "KBA13_SEG_GELAENDEWAGEN_1.0    0.0827\n",
       "PLZ8_ANTG4                     0.0798\n",
       "KBA13_ALTERHALTER_60_1.0       0.0781\n",
       "KBA13_SEG_OBERKLASSE_1.0       0.0774\n",
       "KBA13_HALTER_55_1.0            0.0772\n",
       "KBA13_SITZE_5_5.0              0.0771\n",
       "KBA13_SITZE_6_1.0              0.0749\n",
       "KBA13_MERCEDES_1.0             0.0730\n",
       "KBA13_HALTER_25_5.0            0.0726\n",
       "KBA13_KRSAQUOT_1.0             0.0715\n",
       "BALLRAUM_1.0                   0.0715\n",
       "PLZ8_GBZ_1.0                   0.0712\n",
       "KBA13_SEG_GROSSRAUMVANS_1.0    0.0702\n",
       "                                ...  \n",
       "KBA13_SEG_VAN_4.0             -0.0406\n",
       "KBA05_GBZ_5.0                 -0.0406\n",
       "FINANZTYP_2                   -0.0412\n",
       "KBA13_ALTERHALTER_30_2.0      -0.0416\n",
       "KBA13_SITZE_6_5.0             -0.0421\n",
       "KBA13_SEG_GELAENDEWAGEN_4.0   -0.0424\n",
       "KBA13_CCM_3001_3.0            -0.0439\n",
       "KBA13_KMH_140_2.0             -0.0440\n",
       "KBA13_AUTOQUOTE_3.0           -0.0455\n",
       "KBA13_AUTOQUOTE_4.0           -0.0456\n",
       "KBA13_HALTER_30_2.0           -0.0456\n",
       "PLZ8_GBZ_4.0                  -0.0457\n",
       "KBA13_SITZE_6_4.0             -0.0457\n",
       "KBA05_ANTG1_4.0               -0.0467\n",
       "PLZ8_ANTG2_2.0                -0.0470\n",
       "KBA05_ANTG1_3.0               -0.0475\n",
       "KBA13_SEG_GROSSRAUMVANS_4.0   -0.0484\n",
       "KBA05_GBZ_4.0                 -0.0489\n",
       "HH_EINKOMMEN_SCORE_1.0        -0.0489\n",
       "HH_EINKOMMEN_SCORE_2.0        -0.0518\n",
       "ZABEOTYP_1                    -0.0521\n",
       "KBA05_ANTG2_1.0               -0.0527\n",
       "FINANZ_HAUSBAUER_1            -0.0541\n",
       "FINANZ_MINIMALIST_5           -0.0610\n",
       "PLZ8_ANTG1_3.0                -0.0678\n",
       "MOVEMENT                      -0.0714\n",
       "KBA05_BAUMAX_1.0              -0.0714\n",
       "PLZ8_GBZ_5.0                  -0.0718\n",
       "PLZ8_ANTG3_1.0                -0.0721\n",
       "OST_WEST_KZ                   -0.1048\n",
       "Name: Dimension 2, Length: 1090, dtype: float64"
      ]
     },
     "execution_count": 48,
     "metadata": {},
     "output_type": "execute_result"
    }
   ],
   "source": [
    "components.iloc[1].sort_values(ascending=False)"
   ]
  },
  {
   "cell_type": "code",
   "execution_count": 49,
   "metadata": {},
   "outputs": [
    {
     "data": {
      "text/plain": [
       "EWDICHTE_6.0                       0.1080\n",
       "KBA13_HERST_BMW_BENZ_5.0           0.1075\n",
       "KBA13_SEG_SPORTWAGEN_5.0           0.1056\n",
       "BALLRAUM_1.0                       0.1009\n",
       "KBA13_SEG_OBERKLASSE_5.0           0.0968\n",
       "KBA13_SITZE_4_5.0                  0.0955\n",
       "KBA13_ALTERHALTER_60_1.0           0.0932\n",
       "KBA13_KW_121_5.0                   0.0928\n",
       "KBA13_HALTER_35_5.0                0.0926\n",
       "KBA13_KMH_211_5.0                  0.0893\n",
       "KBA13_CCM_2501_5.0                 0.0890\n",
       "KBA13_BMW_5.0                      0.0882\n",
       "KBA13_SEG_OBEREMITTELKLASSE_5.0    0.0875\n",
       "KBA13_HERST_FORD_OPEL_1.0          0.0873\n",
       "KBA13_KMH_250_5.0                  0.0865\n",
       "KBA13_HALTER_55_1.0                0.0865\n",
       "KBA13_SITZE_5_1.0                  0.0864\n",
       "KBA13_KMH_140_210_1.0              0.0862\n",
       "ORTSGR_KLS9_9.0                    0.0856\n",
       "KBA13_ALTERHALTER_45_5.0           0.0844\n",
       "KBA13_AUTOQUOTE_1.0                0.0840\n",
       "KBA05_KW3_4.0                      0.0823\n",
       "KBA13_CCM_3001_5.0                 0.0816\n",
       "KBA13_HALTER_40_5.0                0.0811\n",
       "KBA05_MAXHERST_1.0                 0.0808\n",
       "KBA05_HERST1_5.0                   0.0803\n",
       "INNENSTADT_2.0                     0.0797\n",
       "KBA13_MERCEDES_5.0                 0.0794\n",
       "KBA05_MOTOR_4.0                    0.0779\n",
       "PLZ8_ANTG1_1.0                     0.0776\n",
       "                                    ...  \n",
       "KBA13_AUTOQUOTE_5.0               -0.0544\n",
       "KBA05_GBZ_5.0                     -0.0551\n",
       "KBA13_AUTOQUOTE_4.0               -0.0551\n",
       "KBA13_SITZE_5_5.0                 -0.0554\n",
       "KBA13_HALTER_20_5.0               -0.0558\n",
       "KBA13_ALTERHALTER_60_5.0          -0.0563\n",
       "KBA13_SITZE_4_1.0                 -0.0563\n",
       "KBA13_HALTER_20_4.0               -0.0583\n",
       "KBA05_KW3_1.0                     -0.0584\n",
       "KBA13_HALTER_55_4.0               -0.0585\n",
       "KBA13_KMH_250_1.0                 -0.0586\n",
       "KBA13_SITZE_5_4.0                 -0.0590\n",
       "KBA13_KMH_211_1.0                 -0.0593\n",
       "KBA13_MERCEDES_2.0                -0.0593\n",
       "KBA13_MERCEDES_1.0                -0.0612\n",
       "KBA13_SEG_OBEREMITTELKLASSE_1.0   -0.0618\n",
       "KBA13_HALTER_50_4.0               -0.0626\n",
       "KBA13_SITZE_4_2.0                 -0.0632\n",
       "KBA13_CCM_2501_2.0                -0.0633\n",
       "KBA13_SEG_OBERKLASSE_1.0          -0.0645\n",
       "KBA13_BMW_2.0                     -0.0645\n",
       "KBA13_SEG_OBEREMITTELKLASSE_2.0   -0.0652\n",
       "KBA13_HERST_BMW_BENZ_1.0          -0.0653\n",
       "EWDICHTE_2.0                      -0.0658\n",
       "KBA13_ALTERHALTER_60_4.0          -0.0670\n",
       "KBA13_HERST_BMW_BENZ_2.0          -0.0681\n",
       "SEMIO_KAEM_5                      -0.0702\n",
       "KBA13_SEG_SPORTWAGEN_1.0          -0.0756\n",
       "EWDICHTE_1.0                      -0.0824\n",
       "WOHNLAGE_7.0                      -0.0874\n",
       "Name: Dimension 3, Length: 1090, dtype: float64"
      ]
     },
     "execution_count": 49,
     "metadata": {},
     "output_type": "execute_result"
    }
   ],
   "source": [
    "components.iloc[2].sort_values(ascending=False)"
   ]
  },
  {
   "cell_type": "markdown",
   "metadata": {},
   "source": [
    "### General Population Clustering"
   ]
  },
  {
   "cell_type": "code",
   "execution_count": 50,
   "metadata": {},
   "outputs": [],
   "source": [
    "# Over a number of different cluster counts\n",
    "scores = []\n",
    "centers = list(range(1,31))\n",
    "for center in centers:\n",
    "    \n",
    "    # run k-means clustering on the data\n",
    "    kmeans = MiniBatchKMeans(n_clusters=center, random_state=28)\n",
    "    model = kmeans.fit(azdias_pca)\n",
    "    \n",
    "    # compute the average within-cluster distances\n",
    "    score = np.abs(model.score(azdias_pca))\n",
    "    scores.append(score)"
   ]
  },
  {
   "cell_type": "code",
   "execution_count": 51,
   "metadata": {},
   "outputs": [
    {
     "data": {
      "image/png": "[encoded data removed]",
      "text/plain": [
       "<Figure size 720x432 with 1 Axes>"
      ]
     },
     "metadata": {},
     "output_type": "display_data"
    }
   ],
   "source": [
    "# Investigate the change in within-cluster distance across number of clusters\n",
    "\n",
    "plt.figure(figsize=(10, 6))\n",
    "ax = plt.subplot()\n",
    "plt.plot(centers, scores, linestyle='--', marker='o', color='b');\n",
    "plt.xlabel('K');\n",
    "plt.xticks(np.arange(1, 31, step=1))\n",
    "plt.ylabel('SSE');\n",
    "plt.title('SSE vs. K');"
   ]
  },
  {
   "cell_type": "code",
   "execution_count": 52,
   "metadata": {},
   "outputs": [],
   "source": [
    "# Re-fit the k-means model with the selected number of clusters and obtain\n",
    "# cluster predictions for the general population demographics data\n",
    "\n",
    "kmeans = KMeans(n_clusters=30, random_state=42, n_jobs=-1)\n",
    "azdias_preds = kmeans.fit_predict(azdias_pca)"
   ]
  },
  {
   "cell_type": "code",
   "execution_count": 53,
   "metadata": {},
   "outputs": [],
   "source": [
    "azdias_cluster = pd.DataFrame(np.round(azdias_pca, 4), columns = dimensions)\n",
    "azdias_cluster.insert(loc=0, column='Cluster', value=azdias_preds)"
   ]
  },
  {
   "cell_type": "code",
   "execution_count": 54,
   "metadata": {},
   "outputs": [
    {
     "data": {
      "text/html": [
       "<div>\n",
       "<style scoped>\n",
       "    .dataframe tbody tr th:only-of-type {\n",
       "        vertical-align: middle;\n",
       "    }\n",
       "\n",
       "    .dataframe tbody tr th {\n",
       "        vertical-align: top;\n",
       "    }\n",
       "\n",
       "    .dataframe thead th {\n",
       "        text-align: right;\n",
       "    }\n",
       "</style>\n",
       "<table border=\"1\" class=\"dataframe\">\n",
       "  <thead>\n",
       "    <tr style=\"text-align: right;\">\n",
       "      <th></th>\n",
       "      <th>Cluster</th>\n",
       "      <th>Dimension 1</th>\n",
       "      <th>Dimension 2</th>\n",
       "      <th>Dimension 3</th>\n",
       "      <th>Dimension 4</th>\n",
       "      <th>Dimension 5</th>\n",
       "      <th>Dimension 6</th>\n",
       "      <th>Dimension 7</th>\n",
       "      <th>Dimension 8</th>\n",
       "      <th>Dimension 9</th>\n",
       "      <th>...</th>\n",
       "      <th>Dimension 536</th>\n",
       "      <th>Dimension 537</th>\n",
       "      <th>Dimension 538</th>\n",
       "      <th>Dimension 539</th>\n",
       "      <th>Dimension 540</th>\n",
       "      <th>Dimension 541</th>\n",
       "      <th>Dimension 542</th>\n",
       "      <th>Dimension 543</th>\n",
       "      <th>Dimension 544</th>\n",
       "      <th>Dimension 545</th>\n",
       "    </tr>\n",
       "  </thead>\n",
       "  <tbody>\n",
       "    <tr>\n",
       "      <th>0</th>\n",
       "      <td>1</td>\n",
       "      <td>-4.2600</td>\n",
       "      <td>-3.6336</td>\n",
       "      <td>1.8730</td>\n",
       "      <td>0.7765</td>\n",
       "      <td>-6.2979</td>\n",
       "      <td>2.2957</td>\n",
       "      <td>1.0281</td>\n",
       "      <td>-2.5737</td>\n",
       "      <td>3.4261</td>\n",
       "      <td>...</td>\n",
       "      <td>0.4179</td>\n",
       "      <td>0.7044</td>\n",
       "      <td>-1.0483</td>\n",
       "      <td>-0.6048</td>\n",
       "      <td>0.3414</td>\n",
       "      <td>-0.2166</td>\n",
       "      <td>-0.8349</td>\n",
       "      <td>0.6079</td>\n",
       "      <td>0.6547</td>\n",
       "      <td>-0.0684</td>\n",
       "    </tr>\n",
       "    <tr>\n",
       "      <th>1</th>\n",
       "      <td>1</td>\n",
       "      <td>-2.8996</td>\n",
       "      <td>3.9783</td>\n",
       "      <td>1.8537</td>\n",
       "      <td>1.5351</td>\n",
       "      <td>-4.6961</td>\n",
       "      <td>-0.2748</td>\n",
       "      <td>3.2390</td>\n",
       "      <td>2.6283</td>\n",
       "      <td>4.0686</td>\n",
       "      <td>...</td>\n",
       "      <td>-2.0832</td>\n",
       "      <td>0.8259</td>\n",
       "      <td>-0.0660</td>\n",
       "      <td>1.4110</td>\n",
       "      <td>1.0839</td>\n",
       "      <td>0.2288</td>\n",
       "      <td>0.9203</td>\n",
       "      <td>0.7990</td>\n",
       "      <td>1.9117</td>\n",
       "      <td>0.7065</td>\n",
       "    </tr>\n",
       "    <tr>\n",
       "      <th>2</th>\n",
       "      <td>12</td>\n",
       "      <td>17.2328</td>\n",
       "      <td>-2.1789</td>\n",
       "      <td>-0.8456</td>\n",
       "      <td>0.1156</td>\n",
       "      <td>-0.8711</td>\n",
       "      <td>-0.5612</td>\n",
       "      <td>0.3561</td>\n",
       "      <td>-0.4919</td>\n",
       "      <td>0.2620</td>\n",
       "      <td>...</td>\n",
       "      <td>-0.2784</td>\n",
       "      <td>0.0984</td>\n",
       "      <td>0.1305</td>\n",
       "      <td>-0.6771</td>\n",
       "      <td>0.0364</td>\n",
       "      <td>0.3766</td>\n",
       "      <td>-0.0400</td>\n",
       "      <td>-0.2929</td>\n",
       "      <td>0.2222</td>\n",
       "      <td>0.3916</td>\n",
       "    </tr>\n",
       "    <tr>\n",
       "      <th>3</th>\n",
       "      <td>29</td>\n",
       "      <td>-2.0628</td>\n",
       "      <td>2.8638</td>\n",
       "      <td>-6.7567</td>\n",
       "      <td>2.8891</td>\n",
       "      <td>-2.7747</td>\n",
       "      <td>5.4072</td>\n",
       "      <td>-7.0247</td>\n",
       "      <td>-1.8014</td>\n",
       "      <td>-0.2509</td>\n",
       "      <td>...</td>\n",
       "      <td>0.2023</td>\n",
       "      <td>-2.0590</td>\n",
       "      <td>-0.0132</td>\n",
       "      <td>-1.3673</td>\n",
       "      <td>-0.4882</td>\n",
       "      <td>-0.8929</td>\n",
       "      <td>-1.4882</td>\n",
       "      <td>1.0432</td>\n",
       "      <td>-0.5902</td>\n",
       "      <td>-1.1361</td>\n",
       "    </tr>\n",
       "    <tr>\n",
       "      <th>4</th>\n",
       "      <td>7</td>\n",
       "      <td>-1.1387</td>\n",
       "      <td>-7.1566</td>\n",
       "      <td>11.9248</td>\n",
       "      <td>5.8937</td>\n",
       "      <td>10.7731</td>\n",
       "      <td>-2.4895</td>\n",
       "      <td>-3.0699</td>\n",
       "      <td>0.7094</td>\n",
       "      <td>-1.1185</td>\n",
       "      <td>...</td>\n",
       "      <td>-0.4372</td>\n",
       "      <td>-0.3659</td>\n",
       "      <td>0.2567</td>\n",
       "      <td>-0.3980</td>\n",
       "      <td>-1.4989</td>\n",
       "      <td>1.0691</td>\n",
       "      <td>1.2150</td>\n",
       "      <td>1.4410</td>\n",
       "      <td>0.9551</td>\n",
       "      <td>1.0527</td>\n",
       "    </tr>\n",
       "  </tbody>\n",
       "</table>\n",
       "<p>5 rows × 546 columns</p>\n",
       "</div>"
      ],
      "text/plain": [
       "   Cluster  Dimension 1  Dimension 2  Dimension 3  Dimension 4  Dimension 5  \\\n",
       "0        1      -4.2600      -3.6336       1.8730       0.7765      -6.2979   \n",
       "1        1      -2.8996       3.9783       1.8537       1.5351      -4.6961   \n",
       "2       12      17.2328      -2.1789      -0.8456       0.1156      -0.8711   \n",
       "3       29      -2.0628       2.8638      -6.7567       2.8891      -2.7747   \n",
       "4        7      -1.1387      -7.1566      11.9248       5.8937      10.7731   \n",
       "\n",
       "   Dimension 6  Dimension 7  Dimension 8  Dimension 9  ...  Dimension 536  \\\n",
       "0       2.2957       1.0281      -2.5737       3.4261  ...         0.4179   \n",
       "1      -0.2748       3.2390       2.6283       4.0686  ...        -2.0832   \n",
       "2      -0.5612       0.3561      -0.4919       0.2620  ...        -0.2784   \n",
       "3       5.4072      -7.0247      -1.8014      -0.2509  ...         0.2023   \n",
       "4      -2.4895      -3.0699       0.7094      -1.1185  ...        -0.4372   \n",
       "\n",
       "   Dimension 537  Dimension 538  Dimension 539  Dimension 540  Dimension 541  \\\n",
       "0         0.7044        -1.0483        -0.6048         0.3414        -0.2166   \n",
       "1         0.8259        -0.0660         1.4110         1.0839         0.2288   \n",
       "2         0.0984         0.1305        -0.6771         0.0364         0.3766   \n",
       "3        -2.0590        -0.0132        -1.3673        -0.4882        -0.8929   \n",
       "4        -0.3659         0.2567        -0.3980        -1.4989         1.0691   \n",
       "\n",
       "   Dimension 542  Dimension 543  Dimension 544  Dimension 545  \n",
       "0        -0.8349         0.6079         0.6547        -0.0684  \n",
       "1         0.9203         0.7990         1.9117         0.7065  \n",
       "2        -0.0400        -0.2929         0.2222         0.3916  \n",
       "3        -1.4882         1.0432        -0.5902        -1.1361  \n",
       "4         1.2150         1.4410         0.9551         1.0527  \n",
       "\n",
       "[5 rows x 546 columns]"
      ]
     },
     "execution_count": 54,
     "metadata": {},
     "output_type": "execute_result"
    }
   ],
   "source": [
    "azdias_cluster.head()"
   ]
  },
  {
   "cell_type": "markdown",
   "metadata": {},
   "source": [
    "### Customer Data Clustering"
   ]
  },
  {
   "cell_type": "code",
   "execution_count": 55,
   "metadata": {},
   "outputs": [
    {
     "name": "stderr",
     "output_type": "stream",
     "text": [
      "/home/ec2-user/anaconda3/envs/mxnet_p36/lib/python3.6/site-packages/IPython/core/interactiveshell.py:2785: DtypeWarning: Columns (19,20) have mixed types. Specify dtype option on import or set low_memory=False.\n",
      "  interactivity=interactivity, compiler=compiler, result=result)\n"
     ]
    }
   ],
   "source": [
    "#load in the customer data\n",
    "customers = pd.read_csv('data/Udacity_CUSTOMERS_052018.csv')"
   ]
  },
  {
   "cell_type": "code",
   "execution_count": 56,
   "metadata": {},
   "outputs": [],
   "source": [
    "customers = customers.drop('Unnamed: 0',axis=1)"
   ]
  },
  {
   "cell_type": "code",
   "execution_count": 57,
   "metadata": {},
   "outputs": [
    {
     "data": {
      "text/html": [
       "<div>\n",
       "<style scoped>\n",
       "    .dataframe tbody tr th:only-of-type {\n",
       "        vertical-align: middle;\n",
       "    }\n",
       "\n",
       "    .dataframe tbody tr th {\n",
       "        vertical-align: top;\n",
       "    }\n",
       "\n",
       "    .dataframe thead th {\n",
       "        text-align: right;\n",
       "    }\n",
       "</style>\n",
       "<table border=\"1\" class=\"dataframe\">\n",
       "  <thead>\n",
       "    <tr style=\"text-align: right;\">\n",
       "      <th></th>\n",
       "      <th>LNR</th>\n",
       "      <th>AGER_TYP</th>\n",
       "      <th>AKT_DAT_KL</th>\n",
       "      <th>ALTER_HH</th>\n",
       "      <th>ALTER_KIND1</th>\n",
       "      <th>ALTER_KIND2</th>\n",
       "      <th>ALTER_KIND3</th>\n",
       "      <th>ALTER_KIND4</th>\n",
       "      <th>ALTERSKATEGORIE_FEIN</th>\n",
       "      <th>ANZ_HAUSHALTE_AKTIV</th>\n",
       "      <th>...</th>\n",
       "      <th>VK_ZG11</th>\n",
       "      <th>W_KEIT_KIND_HH</th>\n",
       "      <th>WOHNDAUER_2008</th>\n",
       "      <th>WOHNLAGE</th>\n",
       "      <th>ZABEOTYP</th>\n",
       "      <th>PRODUCT_GROUP</th>\n",
       "      <th>CUSTOMER_GROUP</th>\n",
       "      <th>ONLINE_PURCHASE</th>\n",
       "      <th>ANREDE_KZ</th>\n",
       "      <th>ALTERSKATEGORIE_GROB</th>\n",
       "    </tr>\n",
       "  </thead>\n",
       "  <tbody>\n",
       "    <tr>\n",
       "      <th>0</th>\n",
       "      <td>9626</td>\n",
       "      <td>2</td>\n",
       "      <td>1.0</td>\n",
       "      <td>10.0</td>\n",
       "      <td>NaN</td>\n",
       "      <td>NaN</td>\n",
       "      <td>NaN</td>\n",
       "      <td>NaN</td>\n",
       "      <td>10.0</td>\n",
       "      <td>1.0</td>\n",
       "      <td>...</td>\n",
       "      <td>2.0</td>\n",
       "      <td>6.0</td>\n",
       "      <td>9.0</td>\n",
       "      <td>7.0</td>\n",
       "      <td>3</td>\n",
       "      <td>COSMETIC_AND_FOOD</td>\n",
       "      <td>MULTI_BUYER</td>\n",
       "      <td>0</td>\n",
       "      <td>1</td>\n",
       "      <td>4</td>\n",
       "    </tr>\n",
       "    <tr>\n",
       "      <th>1</th>\n",
       "      <td>9628</td>\n",
       "      <td>-1</td>\n",
       "      <td>9.0</td>\n",
       "      <td>11.0</td>\n",
       "      <td>NaN</td>\n",
       "      <td>NaN</td>\n",
       "      <td>NaN</td>\n",
       "      <td>NaN</td>\n",
       "      <td>NaN</td>\n",
       "      <td>NaN</td>\n",
       "      <td>...</td>\n",
       "      <td>3.0</td>\n",
       "      <td>0.0</td>\n",
       "      <td>9.0</td>\n",
       "      <td>NaN</td>\n",
       "      <td>3</td>\n",
       "      <td>FOOD</td>\n",
       "      <td>SINGLE_BUYER</td>\n",
       "      <td>0</td>\n",
       "      <td>1</td>\n",
       "      <td>4</td>\n",
       "    </tr>\n",
       "    <tr>\n",
       "      <th>2</th>\n",
       "      <td>143872</td>\n",
       "      <td>-1</td>\n",
       "      <td>1.0</td>\n",
       "      <td>6.0</td>\n",
       "      <td>NaN</td>\n",
       "      <td>NaN</td>\n",
       "      <td>NaN</td>\n",
       "      <td>NaN</td>\n",
       "      <td>0.0</td>\n",
       "      <td>1.0</td>\n",
       "      <td>...</td>\n",
       "      <td>11.0</td>\n",
       "      <td>6.0</td>\n",
       "      <td>9.0</td>\n",
       "      <td>2.0</td>\n",
       "      <td>3</td>\n",
       "      <td>COSMETIC_AND_FOOD</td>\n",
       "      <td>MULTI_BUYER</td>\n",
       "      <td>0</td>\n",
       "      <td>2</td>\n",
       "      <td>4</td>\n",
       "    </tr>\n",
       "    <tr>\n",
       "      <th>3</th>\n",
       "      <td>143873</td>\n",
       "      <td>1</td>\n",
       "      <td>1.0</td>\n",
       "      <td>8.0</td>\n",
       "      <td>NaN</td>\n",
       "      <td>NaN</td>\n",
       "      <td>NaN</td>\n",
       "      <td>NaN</td>\n",
       "      <td>8.0</td>\n",
       "      <td>0.0</td>\n",
       "      <td>...</td>\n",
       "      <td>2.0</td>\n",
       "      <td>NaN</td>\n",
       "      <td>9.0</td>\n",
       "      <td>7.0</td>\n",
       "      <td>1</td>\n",
       "      <td>COSMETIC</td>\n",
       "      <td>MULTI_BUYER</td>\n",
       "      <td>0</td>\n",
       "      <td>1</td>\n",
       "      <td>4</td>\n",
       "    </tr>\n",
       "    <tr>\n",
       "      <th>4</th>\n",
       "      <td>143874</td>\n",
       "      <td>-1</td>\n",
       "      <td>1.0</td>\n",
       "      <td>20.0</td>\n",
       "      <td>NaN</td>\n",
       "      <td>NaN</td>\n",
       "      <td>NaN</td>\n",
       "      <td>NaN</td>\n",
       "      <td>14.0</td>\n",
       "      <td>7.0</td>\n",
       "      <td>...</td>\n",
       "      <td>4.0</td>\n",
       "      <td>2.0</td>\n",
       "      <td>9.0</td>\n",
       "      <td>3.0</td>\n",
       "      <td>1</td>\n",
       "      <td>FOOD</td>\n",
       "      <td>MULTI_BUYER</td>\n",
       "      <td>0</td>\n",
       "      <td>1</td>\n",
       "      <td>3</td>\n",
       "    </tr>\n",
       "  </tbody>\n",
       "</table>\n",
       "<p>5 rows × 369 columns</p>\n",
       "</div>"
      ],
      "text/plain": [
       "      LNR  AGER_TYP  AKT_DAT_KL  ALTER_HH  ALTER_KIND1  ALTER_KIND2  \\\n",
       "0    9626         2         1.0      10.0          NaN          NaN   \n",
       "1    9628        -1         9.0      11.0          NaN          NaN   \n",
       "2  143872        -1         1.0       6.0          NaN          NaN   \n",
       "3  143873         1         1.0       8.0          NaN          NaN   \n",
       "4  143874        -1         1.0      20.0          NaN          NaN   \n",
       "\n",
       "   ALTER_KIND3  ALTER_KIND4  ALTERSKATEGORIE_FEIN  ANZ_HAUSHALTE_AKTIV  ...  \\\n",
       "0          NaN          NaN                  10.0                  1.0  ...   \n",
       "1          NaN          NaN                   NaN                  NaN  ...   \n",
       "2          NaN          NaN                   0.0                  1.0  ...   \n",
       "3          NaN          NaN                   8.0                  0.0  ...   \n",
       "4          NaN          NaN                  14.0                  7.0  ...   \n",
       "\n",
       "   VK_ZG11  W_KEIT_KIND_HH  WOHNDAUER_2008  WOHNLAGE  ZABEOTYP  \\\n",
       "0      2.0             6.0             9.0       7.0         3   \n",
       "1      3.0             0.0             9.0       NaN         3   \n",
       "2     11.0             6.0             9.0       2.0         3   \n",
       "3      2.0             NaN             9.0       7.0         1   \n",
       "4      4.0             2.0             9.0       3.0         1   \n",
       "\n",
       "       PRODUCT_GROUP  CUSTOMER_GROUP ONLINE_PURCHASE ANREDE_KZ  \\\n",
       "0  COSMETIC_AND_FOOD     MULTI_BUYER               0         1   \n",
       "1               FOOD    SINGLE_BUYER               0         1   \n",
       "2  COSMETIC_AND_FOOD     MULTI_BUYER               0         2   \n",
       "3           COSMETIC     MULTI_BUYER               0         1   \n",
       "4               FOOD     MULTI_BUYER               0         1   \n",
       "\n",
       "  ALTERSKATEGORIE_GROB  \n",
       "0                    4  \n",
       "1                    4  \n",
       "2                    4  \n",
       "3                    4  \n",
       "4                    3  \n",
       "\n",
       "[5 rows x 369 columns]"
      ]
     },
     "execution_count": 57,
     "metadata": {},
     "output_type": "execute_result"
    }
   ],
   "source": [
    "customers.head()"
   ]
  },
  {
   "cell_type": "code",
   "execution_count": 58,
   "metadata": {},
   "outputs": [
    {
     "name": "stdout",
     "output_type": "stream",
     "text": [
      "(191652, 366)\n"
     ]
    },
    {
     "data": {
      "text/html": [
       "<div>\n",
       "<style scoped>\n",
       "    .dataframe tbody tr th:only-of-type {\n",
       "        vertical-align: middle;\n",
       "    }\n",
       "\n",
       "    .dataframe tbody tr th {\n",
       "        vertical-align: top;\n",
       "    }\n",
       "\n",
       "    .dataframe thead th {\n",
       "        text-align: right;\n",
       "    }\n",
       "</style>\n",
       "<table border=\"1\" class=\"dataframe\">\n",
       "  <thead>\n",
       "    <tr style=\"text-align: right;\">\n",
       "      <th></th>\n",
       "      <th>LNR</th>\n",
       "      <th>AGER_TYP</th>\n",
       "      <th>AKT_DAT_KL</th>\n",
       "      <th>ALTER_HH</th>\n",
       "      <th>ALTER_KIND1</th>\n",
       "      <th>ALTER_KIND2</th>\n",
       "      <th>ALTER_KIND3</th>\n",
       "      <th>ALTER_KIND4</th>\n",
       "      <th>ALTERSKATEGORIE_FEIN</th>\n",
       "      <th>ANZ_HAUSHALTE_AKTIV</th>\n",
       "      <th>...</th>\n",
       "      <th>VHN</th>\n",
       "      <th>VK_DHT4A</th>\n",
       "      <th>VK_DISTANZ</th>\n",
       "      <th>VK_ZG11</th>\n",
       "      <th>W_KEIT_KIND_HH</th>\n",
       "      <th>WOHNDAUER_2008</th>\n",
       "      <th>WOHNLAGE</th>\n",
       "      <th>ZABEOTYP</th>\n",
       "      <th>ANREDE_KZ</th>\n",
       "      <th>ALTERSKATEGORIE_GROB</th>\n",
       "    </tr>\n",
       "  </thead>\n",
       "  <tbody>\n",
       "    <tr>\n",
       "      <th>0</th>\n",
       "      <td>9626</td>\n",
       "      <td>2</td>\n",
       "      <td>1.0</td>\n",
       "      <td>10.0</td>\n",
       "      <td>NaN</td>\n",
       "      <td>NaN</td>\n",
       "      <td>NaN</td>\n",
       "      <td>NaN</td>\n",
       "      <td>10.0</td>\n",
       "      <td>1.0</td>\n",
       "      <td>...</td>\n",
       "      <td>3.0</td>\n",
       "      <td>5.0</td>\n",
       "      <td>3.0</td>\n",
       "      <td>2.0</td>\n",
       "      <td>6.0</td>\n",
       "      <td>9.0</td>\n",
       "      <td>7.0</td>\n",
       "      <td>3</td>\n",
       "      <td>1</td>\n",
       "      <td>4</td>\n",
       "    </tr>\n",
       "    <tr>\n",
       "      <th>1</th>\n",
       "      <td>9628</td>\n",
       "      <td>-1</td>\n",
       "      <td>9.0</td>\n",
       "      <td>11.0</td>\n",
       "      <td>NaN</td>\n",
       "      <td>NaN</td>\n",
       "      <td>NaN</td>\n",
       "      <td>NaN</td>\n",
       "      <td>NaN</td>\n",
       "      <td>NaN</td>\n",
       "      <td>...</td>\n",
       "      <td>NaN</td>\n",
       "      <td>6.0</td>\n",
       "      <td>6.0</td>\n",
       "      <td>3.0</td>\n",
       "      <td>0.0</td>\n",
       "      <td>9.0</td>\n",
       "      <td>NaN</td>\n",
       "      <td>3</td>\n",
       "      <td>1</td>\n",
       "      <td>4</td>\n",
       "    </tr>\n",
       "    <tr>\n",
       "      <th>2</th>\n",
       "      <td>143872</td>\n",
       "      <td>-1</td>\n",
       "      <td>1.0</td>\n",
       "      <td>6.0</td>\n",
       "      <td>NaN</td>\n",
       "      <td>NaN</td>\n",
       "      <td>NaN</td>\n",
       "      <td>NaN</td>\n",
       "      <td>0.0</td>\n",
       "      <td>1.0</td>\n",
       "      <td>...</td>\n",
       "      <td>4.0</td>\n",
       "      <td>10.0</td>\n",
       "      <td>13.0</td>\n",
       "      <td>11.0</td>\n",
       "      <td>6.0</td>\n",
       "      <td>9.0</td>\n",
       "      <td>2.0</td>\n",
       "      <td>3</td>\n",
       "      <td>2</td>\n",
       "      <td>4</td>\n",
       "    </tr>\n",
       "    <tr>\n",
       "      <th>3</th>\n",
       "      <td>143873</td>\n",
       "      <td>1</td>\n",
       "      <td>1.0</td>\n",
       "      <td>8.0</td>\n",
       "      <td>NaN</td>\n",
       "      <td>NaN</td>\n",
       "      <td>NaN</td>\n",
       "      <td>NaN</td>\n",
       "      <td>8.0</td>\n",
       "      <td>0.0</td>\n",
       "      <td>...</td>\n",
       "      <td>2.0</td>\n",
       "      <td>6.0</td>\n",
       "      <td>4.0</td>\n",
       "      <td>2.0</td>\n",
       "      <td>NaN</td>\n",
       "      <td>9.0</td>\n",
       "      <td>7.0</td>\n",
       "      <td>1</td>\n",
       "      <td>1</td>\n",
       "      <td>4</td>\n",
       "    </tr>\n",
       "    <tr>\n",
       "      <th>4</th>\n",
       "      <td>143874</td>\n",
       "      <td>-1</td>\n",
       "      <td>1.0</td>\n",
       "      <td>20.0</td>\n",
       "      <td>NaN</td>\n",
       "      <td>NaN</td>\n",
       "      <td>NaN</td>\n",
       "      <td>NaN</td>\n",
       "      <td>14.0</td>\n",
       "      <td>7.0</td>\n",
       "      <td>...</td>\n",
       "      <td>4.0</td>\n",
       "      <td>3.0</td>\n",
       "      <td>5.0</td>\n",
       "      <td>4.0</td>\n",
       "      <td>2.0</td>\n",
       "      <td>9.0</td>\n",
       "      <td>3.0</td>\n",
       "      <td>1</td>\n",
       "      <td>1</td>\n",
       "      <td>3</td>\n",
       "    </tr>\n",
       "  </tbody>\n",
       "</table>\n",
       "<p>5 rows × 366 columns</p>\n",
       "</div>"
      ],
      "text/plain": [
       "      LNR  AGER_TYP  AKT_DAT_KL  ALTER_HH  ALTER_KIND1  ALTER_KIND2  \\\n",
       "0    9626         2         1.0      10.0          NaN          NaN   \n",
       "1    9628        -1         9.0      11.0          NaN          NaN   \n",
       "2  143872        -1         1.0       6.0          NaN          NaN   \n",
       "3  143873         1         1.0       8.0          NaN          NaN   \n",
       "4  143874        -1         1.0      20.0          NaN          NaN   \n",
       "\n",
       "   ALTER_KIND3  ALTER_KIND4  ALTERSKATEGORIE_FEIN  ANZ_HAUSHALTE_AKTIV  ...  \\\n",
       "0          NaN          NaN                  10.0                  1.0  ...   \n",
       "1          NaN          NaN                   NaN                  NaN  ...   \n",
       "2          NaN          NaN                   0.0                  1.0  ...   \n",
       "3          NaN          NaN                   8.0                  0.0  ...   \n",
       "4          NaN          NaN                  14.0                  7.0  ...   \n",
       "\n",
       "   VHN  VK_DHT4A  VK_DISTANZ  VK_ZG11  W_KEIT_KIND_HH  WOHNDAUER_2008  \\\n",
       "0  3.0       5.0         3.0      2.0             6.0             9.0   \n",
       "1  NaN       6.0         6.0      3.0             0.0             9.0   \n",
       "2  4.0      10.0        13.0     11.0             6.0             9.0   \n",
       "3  2.0       6.0         4.0      2.0             NaN             9.0   \n",
       "4  4.0       3.0         5.0      4.0             2.0             9.0   \n",
       "\n",
       "   WOHNLAGE ZABEOTYP ANREDE_KZ ALTERSKATEGORIE_GROB  \n",
       "0       7.0        3         1                    4  \n",
       "1       NaN        3         1                    4  \n",
       "2       2.0        3         2                    4  \n",
       "3       7.0        1         1                    4  \n",
       "4       3.0        1         1                    3  \n",
       "\n",
       "[5 rows x 366 columns]"
      ]
     },
     "execution_count": 58,
     "metadata": {},
     "output_type": "execute_result"
    }
   ],
   "source": [
    "#Drop extra features\n",
    "customers_sub = customers.drop(['CUSTOMER_GROUP', 'ONLINE_PURCHASE', 'PRODUCT_GROUP'], axis=1)\n",
    "print(customers_sub.shape)\n",
    "customers_sub.head()"
   ]
  },
  {
   "cell_type": "code",
   "execution_count": 59,
   "metadata": {},
   "outputs": [],
   "source": [
    "# Apply preprocessing onto the customer data using cleaning function\n",
    "customers_clean = clean_data(customers_sub)"
   ]
  },
  {
   "cell_type": "code",
   "execution_count": 60,
   "metadata": {},
   "outputs": [
    {
     "data": {
      "text/plain": [
       "['ALTER_HH_1.0', 'GEBAEUDETYP_5.0']"
      ]
     },
     "execution_count": 60,
     "metadata": {},
     "output_type": "execute_result"
    }
   ],
   "source": [
    "# Check for missing column in `customers_clean`\n",
    "missing = list(np.setdiff1d(azdias_clean.columns, customers_clean.columns))\n",
    "missing"
   ]
  },
  {
   "cell_type": "code",
   "execution_count": 61,
   "metadata": {},
   "outputs": [
    {
     "name": "stdout",
     "output_type": "stream",
     "text": [
      "(191652, 1090)\n"
     ]
    },
    {
     "data": {
      "text/html": [
       "<div>\n",
       "<style scoped>\n",
       "    .dataframe tbody tr th:only-of-type {\n",
       "        vertical-align: middle;\n",
       "    }\n",
       "\n",
       "    .dataframe tbody tr th {\n",
       "        vertical-align: top;\n",
       "    }\n",
       "\n",
       "    .dataframe thead th {\n",
       "        text-align: right;\n",
       "    }\n",
       "</style>\n",
       "<table border=\"1\" class=\"dataframe\">\n",
       "  <thead>\n",
       "    <tr style=\"text-align: right;\">\n",
       "      <th></th>\n",
       "      <th>OST_WEST_KZ</th>\n",
       "      <th>PLZ8_ANTG4</th>\n",
       "      <th>VERS_TYP</th>\n",
       "      <th>ANREDE_KZ</th>\n",
       "      <th>CAMEO_DEUG_2015_1.0</th>\n",
       "      <th>CAMEO_DEUG_2015_2.0</th>\n",
       "      <th>CAMEO_DEUG_2015_3.0</th>\n",
       "      <th>CAMEO_DEUG_2015_4.0</th>\n",
       "      <th>CAMEO_DEUG_2015_5.0</th>\n",
       "      <th>CAMEO_DEUG_2015_6.0</th>\n",
       "      <th>...</th>\n",
       "      <th>ZABEOTYP_6</th>\n",
       "      <th>ALTERSKATEGORIE_GROB_1</th>\n",
       "      <th>ALTERSKATEGORIE_GROB_2</th>\n",
       "      <th>ALTERSKATEGORIE_GROB_3</th>\n",
       "      <th>ALTERSKATEGORIE_GROB_4</th>\n",
       "      <th>ALTERSKATEGORIE_GROB_9</th>\n",
       "      <th>DECADE</th>\n",
       "      <th>MOVEMENT</th>\n",
       "      <th>ALTER_HH_1.0</th>\n",
       "      <th>GEBAEUDETYP_5.0</th>\n",
       "    </tr>\n",
       "  </thead>\n",
       "  <tbody>\n",
       "    <tr>\n",
       "      <th>0</th>\n",
       "      <td>2.0</td>\n",
       "      <td>NaN</td>\n",
       "      <td>1.0</td>\n",
       "      <td>1</td>\n",
       "      <td>1</td>\n",
       "      <td>0</td>\n",
       "      <td>0</td>\n",
       "      <td>0</td>\n",
       "      <td>0</td>\n",
       "      <td>0</td>\n",
       "      <td>...</td>\n",
       "      <td>0</td>\n",
       "      <td>0</td>\n",
       "      <td>0</td>\n",
       "      <td>0</td>\n",
       "      <td>1</td>\n",
       "      <td>0</td>\n",
       "      <td>4.0</td>\n",
       "      <td>2.0</td>\n",
       "      <td>0</td>\n",
       "      <td>0</td>\n",
       "    </tr>\n",
       "    <tr>\n",
       "      <th>1</th>\n",
       "      <td>NaN</td>\n",
       "      <td>NaN</td>\n",
       "      <td>1.0</td>\n",
       "      <td>1</td>\n",
       "      <td>0</td>\n",
       "      <td>0</td>\n",
       "      <td>0</td>\n",
       "      <td>0</td>\n",
       "      <td>0</td>\n",
       "      <td>0</td>\n",
       "      <td>...</td>\n",
       "      <td>0</td>\n",
       "      <td>0</td>\n",
       "      <td>0</td>\n",
       "      <td>0</td>\n",
       "      <td>1</td>\n",
       "      <td>0</td>\n",
       "      <td>NaN</td>\n",
       "      <td>NaN</td>\n",
       "      <td>0</td>\n",
       "      <td>0</td>\n",
       "    </tr>\n",
       "    <tr>\n",
       "      <th>2</th>\n",
       "      <td>2.0</td>\n",
       "      <td>1.0</td>\n",
       "      <td>2.0</td>\n",
       "      <td>2</td>\n",
       "      <td>0</td>\n",
       "      <td>0</td>\n",
       "      <td>0</td>\n",
       "      <td>0</td>\n",
       "      <td>1</td>\n",
       "      <td>0</td>\n",
       "      <td>...</td>\n",
       "      <td>0</td>\n",
       "      <td>0</td>\n",
       "      <td>0</td>\n",
       "      <td>0</td>\n",
       "      <td>1</td>\n",
       "      <td>0</td>\n",
       "      <td>4.0</td>\n",
       "      <td>2.0</td>\n",
       "      <td>0</td>\n",
       "      <td>0</td>\n",
       "    </tr>\n",
       "    <tr>\n",
       "      <th>3</th>\n",
       "      <td>2.0</td>\n",
       "      <td>NaN</td>\n",
       "      <td>1.0</td>\n",
       "      <td>1</td>\n",
       "      <td>0</td>\n",
       "      <td>0</td>\n",
       "      <td>0</td>\n",
       "      <td>1</td>\n",
       "      <td>0</td>\n",
       "      <td>0</td>\n",
       "      <td>...</td>\n",
       "      <td>0</td>\n",
       "      <td>0</td>\n",
       "      <td>0</td>\n",
       "      <td>0</td>\n",
       "      <td>1</td>\n",
       "      <td>0</td>\n",
       "      <td>1.0</td>\n",
       "      <td>1.0</td>\n",
       "      <td>0</td>\n",
       "      <td>0</td>\n",
       "    </tr>\n",
       "    <tr>\n",
       "      <th>4</th>\n",
       "      <td>2.0</td>\n",
       "      <td>1.0</td>\n",
       "      <td>2.0</td>\n",
       "      <td>1</td>\n",
       "      <td>0</td>\n",
       "      <td>0</td>\n",
       "      <td>0</td>\n",
       "      <td>0</td>\n",
       "      <td>0</td>\n",
       "      <td>0</td>\n",
       "      <td>...</td>\n",
       "      <td>0</td>\n",
       "      <td>0</td>\n",
       "      <td>0</td>\n",
       "      <td>1</td>\n",
       "      <td>0</td>\n",
       "      <td>0</td>\n",
       "      <td>8.0</td>\n",
       "      <td>1.0</td>\n",
       "      <td>0</td>\n",
       "      <td>0</td>\n",
       "    </tr>\n",
       "  </tbody>\n",
       "</table>\n",
       "<p>5 rows × 1090 columns</p>\n",
       "</div>"
      ],
      "text/plain": [
       "   OST_WEST_KZ  PLZ8_ANTG4  VERS_TYP  ANREDE_KZ  CAMEO_DEUG_2015_1.0  \\\n",
       "0          2.0         NaN       1.0          1                    1   \n",
       "1          NaN         NaN       1.0          1                    0   \n",
       "2          2.0         1.0       2.0          2                    0   \n",
       "3          2.0         NaN       1.0          1                    0   \n",
       "4          2.0         1.0       2.0          1                    0   \n",
       "\n",
       "   CAMEO_DEUG_2015_2.0  CAMEO_DEUG_2015_3.0  CAMEO_DEUG_2015_4.0  \\\n",
       "0                    0                    0                    0   \n",
       "1                    0                    0                    0   \n",
       "2                    0                    0                    0   \n",
       "3                    0                    0                    1   \n",
       "4                    0                    0                    0   \n",
       "\n",
       "   CAMEO_DEUG_2015_5.0  CAMEO_DEUG_2015_6.0  ...  ZABEOTYP_6  \\\n",
       "0                    0                    0  ...           0   \n",
       "1                    0                    0  ...           0   \n",
       "2                    1                    0  ...           0   \n",
       "3                    0                    0  ...           0   \n",
       "4                    0                    0  ...           0   \n",
       "\n",
       "   ALTERSKATEGORIE_GROB_1  ALTERSKATEGORIE_GROB_2  ALTERSKATEGORIE_GROB_3  \\\n",
       "0                       0                       0                       0   \n",
       "1                       0                       0                       0   \n",
       "2                       0                       0                       0   \n",
       "3                       0                       0                       0   \n",
       "4                       0                       0                       1   \n",
       "\n",
       "   ALTERSKATEGORIE_GROB_4  ALTERSKATEGORIE_GROB_9  DECADE  MOVEMENT  \\\n",
       "0                       1                       0     4.0       2.0   \n",
       "1                       1                       0     NaN       NaN   \n",
       "2                       1                       0     4.0       2.0   \n",
       "3                       1                       0     1.0       1.0   \n",
       "4                       0                       0     8.0       1.0   \n",
       "\n",
       "   ALTER_HH_1.0  GEBAEUDETYP_5.0  \n",
       "0             0                0  \n",
       "1             0                0  \n",
       "2             0                0  \n",
       "3             0                0  \n",
       "4             0                0  \n",
       "\n",
       "[5 rows x 1090 columns]"
      ]
     },
     "execution_count": 61,
     "metadata": {},
     "output_type": "execute_result"
    }
   ],
   "source": [
    "# Add the missing column with default value of 0\n",
    "for m in missing:\n",
    "    customers_clean[m] = 0\n",
    "    customers_clean[m] = customers_clean[m].astype('uint8')\n",
    "    \n",
    "print(customers_clean.shape)\n",
    "customers_clean.head()"
   ]
  },
  {
   "cell_type": "code",
   "execution_count": 62,
   "metadata": {},
   "outputs": [],
   "source": [
    "# Apply feature transformation, and clustering from the general\n",
    "# demographics onto the customer data, obtaining cluster predictions for the\n",
    "# customer demographics data\n",
    "\n",
    "customers_impute = imputer.transform(customers_clean)\n",
    "customers_scaled = scaler.transform(customers_impute)\n",
    "customers_pca = pca.transform(customers_scaled)\n",
    "customers_preds = kmeans.predict(customers_pca)"
   ]
  },
  {
   "cell_type": "code",
   "execution_count": 63,
   "metadata": {},
   "outputs": [
    {
     "data": {
      "text/html": [
       "<div>\n",
       "<style scoped>\n",
       "    .dataframe tbody tr th:only-of-type {\n",
       "        vertical-align: middle;\n",
       "    }\n",
       "\n",
       "    .dataframe tbody tr th {\n",
       "        vertical-align: top;\n",
       "    }\n",
       "\n",
       "    .dataframe thead th {\n",
       "        text-align: right;\n",
       "    }\n",
       "</style>\n",
       "<table border=\"1\" class=\"dataframe\">\n",
       "  <thead>\n",
       "    <tr style=\"text-align: right;\">\n",
       "      <th></th>\n",
       "      <th>Cluster</th>\n",
       "      <th>Dimension 1</th>\n",
       "      <th>Dimension 2</th>\n",
       "      <th>Dimension 3</th>\n",
       "      <th>Dimension 4</th>\n",
       "      <th>Dimension 5</th>\n",
       "      <th>Dimension 6</th>\n",
       "      <th>Dimension 7</th>\n",
       "      <th>Dimension 8</th>\n",
       "      <th>Dimension 9</th>\n",
       "      <th>...</th>\n",
       "      <th>Dimension 536</th>\n",
       "      <th>Dimension 537</th>\n",
       "      <th>Dimension 538</th>\n",
       "      <th>Dimension 539</th>\n",
       "      <th>Dimension 540</th>\n",
       "      <th>Dimension 541</th>\n",
       "      <th>Dimension 542</th>\n",
       "      <th>Dimension 543</th>\n",
       "      <th>Dimension 544</th>\n",
       "      <th>Dimension 545</th>\n",
       "    </tr>\n",
       "  </thead>\n",
       "  <tbody>\n",
       "    <tr>\n",
       "      <th>0</th>\n",
       "      <td>18</td>\n",
       "      <td>0.8082</td>\n",
       "      <td>8.5003</td>\n",
       "      <td>1.7538</td>\n",
       "      <td>6.9675</td>\n",
       "      <td>5.4986</td>\n",
       "      <td>-0.9485</td>\n",
       "      <td>3.3201</td>\n",
       "      <td>3.0168</td>\n",
       "      <td>6.5386</td>\n",
       "      <td>...</td>\n",
       "      <td>-0.0097</td>\n",
       "      <td>1.9187</td>\n",
       "      <td>0.9943</td>\n",
       "      <td>1.2399</td>\n",
       "      <td>-1.5429</td>\n",
       "      <td>-0.8209</td>\n",
       "      <td>1.7745</td>\n",
       "      <td>2.1066</td>\n",
       "      <td>-0.7387</td>\n",
       "      <td>-1.0349</td>\n",
       "    </tr>\n",
       "    <tr>\n",
       "      <th>1</th>\n",
       "      <td>12</td>\n",
       "      <td>11.1449</td>\n",
       "      <td>-0.9917</td>\n",
       "      <td>-0.7038</td>\n",
       "      <td>0.0597</td>\n",
       "      <td>0.2905</td>\n",
       "      <td>1.7924</td>\n",
       "      <td>2.4406</td>\n",
       "      <td>-1.7392</td>\n",
       "      <td>1.4742</td>\n",
       "      <td>...</td>\n",
       "      <td>-0.3407</td>\n",
       "      <td>0.2763</td>\n",
       "      <td>-0.2301</td>\n",
       "      <td>0.0488</td>\n",
       "      <td>0.0354</td>\n",
       "      <td>-0.3292</td>\n",
       "      <td>0.4643</td>\n",
       "      <td>-0.2294</td>\n",
       "      <td>0.5121</td>\n",
       "      <td>0.6143</td>\n",
       "    </tr>\n",
       "    <tr>\n",
       "      <th>2</th>\n",
       "      <td>18</td>\n",
       "      <td>0.4682</td>\n",
       "      <td>6.4982</td>\n",
       "      <td>1.0559</td>\n",
       "      <td>7.8088</td>\n",
       "      <td>5.4708</td>\n",
       "      <td>1.6432</td>\n",
       "      <td>-0.3439</td>\n",
       "      <td>3.2055</td>\n",
       "      <td>7.3803</td>\n",
       "      <td>...</td>\n",
       "      <td>-1.9401</td>\n",
       "      <td>1.0211</td>\n",
       "      <td>-0.1199</td>\n",
       "      <td>2.3771</td>\n",
       "      <td>1.5604</td>\n",
       "      <td>-0.7672</td>\n",
       "      <td>-1.0746</td>\n",
       "      <td>-2.9877</td>\n",
       "      <td>-0.5582</td>\n",
       "      <td>1.1932</td>\n",
       "    </tr>\n",
       "    <tr>\n",
       "      <th>3</th>\n",
       "      <td>18</td>\n",
       "      <td>1.0388</td>\n",
       "      <td>7.2238</td>\n",
       "      <td>1.5771</td>\n",
       "      <td>7.0329</td>\n",
       "      <td>4.8094</td>\n",
       "      <td>-1.8382</td>\n",
       "      <td>4.2681</td>\n",
       "      <td>2.4722</td>\n",
       "      <td>6.5234</td>\n",
       "      <td>...</td>\n",
       "      <td>-2.4978</td>\n",
       "      <td>-1.1312</td>\n",
       "      <td>1.8410</td>\n",
       "      <td>-0.8447</td>\n",
       "      <td>-0.4981</td>\n",
       "      <td>0.1499</td>\n",
       "      <td>-0.6824</td>\n",
       "      <td>-0.3072</td>\n",
       "      <td>-0.8880</td>\n",
       "      <td>-1.2404</td>\n",
       "    </tr>\n",
       "    <tr>\n",
       "      <th>4</th>\n",
       "      <td>3</td>\n",
       "      <td>1.4145</td>\n",
       "      <td>6.9590</td>\n",
       "      <td>1.2907</td>\n",
       "      <td>11.0434</td>\n",
       "      <td>6.9890</td>\n",
       "      <td>1.5858</td>\n",
       "      <td>-0.0876</td>\n",
       "      <td>0.7220</td>\n",
       "      <td>7.0712</td>\n",
       "      <td>...</td>\n",
       "      <td>-1.0258</td>\n",
       "      <td>0.3250</td>\n",
       "      <td>0.4785</td>\n",
       "      <td>-0.0077</td>\n",
       "      <td>-0.4473</td>\n",
       "      <td>-1.7441</td>\n",
       "      <td>-0.5787</td>\n",
       "      <td>3.3843</td>\n",
       "      <td>-0.1940</td>\n",
       "      <td>-1.3509</td>\n",
       "    </tr>\n",
       "  </tbody>\n",
       "</table>\n",
       "<p>5 rows × 546 columns</p>\n",
       "</div>"
      ],
      "text/plain": [
       "   Cluster  Dimension 1  Dimension 2  Dimension 3  Dimension 4  Dimension 5  \\\n",
       "0       18       0.8082       8.5003       1.7538       6.9675       5.4986   \n",
       "1       12      11.1449      -0.9917      -0.7038       0.0597       0.2905   \n",
       "2       18       0.4682       6.4982       1.0559       7.8088       5.4708   \n",
       "3       18       1.0388       7.2238       1.5771       7.0329       4.8094   \n",
       "4        3       1.4145       6.9590       1.2907      11.0434       6.9890   \n",
       "\n",
       "   Dimension 6  Dimension 7  Dimension 8  Dimension 9  ...  Dimension 536  \\\n",
       "0      -0.9485       3.3201       3.0168       6.5386  ...        -0.0097   \n",
       "1       1.7924       2.4406      -1.7392       1.4742  ...        -0.3407   \n",
       "2       1.6432      -0.3439       3.2055       7.3803  ...        -1.9401   \n",
       "3      -1.8382       4.2681       2.4722       6.5234  ...        -2.4978   \n",
       "4       1.5858      -0.0876       0.7220       7.0712  ...        -1.0258   \n",
       "\n",
       "   Dimension 537  Dimension 538  Dimension 539  Dimension 540  Dimension 541  \\\n",
       "0         1.9187         0.9943         1.2399        -1.5429        -0.8209   \n",
       "1         0.2763        -0.2301         0.0488         0.0354        -0.3292   \n",
       "2         1.0211        -0.1199         2.3771         1.5604        -0.7672   \n",
       "3        -1.1312         1.8410        -0.8447        -0.4981         0.1499   \n",
       "4         0.3250         0.4785        -0.0077        -0.4473        -1.7441   \n",
       "\n",
       "   Dimension 542  Dimension 543  Dimension 544  Dimension 545  \n",
       "0         1.7745         2.1066        -0.7387        -1.0349  \n",
       "1         0.4643        -0.2294         0.5121         0.6143  \n",
       "2        -1.0746        -2.9877        -0.5582         1.1932  \n",
       "3        -0.6824        -0.3072        -0.8880        -1.2404  \n",
       "4        -0.5787         3.3843        -0.1940        -1.3509  \n",
       "\n",
       "[5 rows x 546 columns]"
      ]
     },
     "execution_count": 63,
     "metadata": {},
     "output_type": "execute_result"
    }
   ],
   "source": [
    "customers_cluster = pd.DataFrame(np.round(customers_pca, 4), columns = dimensions)\n",
    "customers_cluster.insert(loc=0, column='Cluster', value=customers_preds)\n",
    "customers_cluster.head()"
   ]
  },
  {
   "cell_type": "markdown",
   "metadata": {},
   "source": [
    "### Comparison of General Population and Customer Clusters"
   ]
  },
  {
   "cell_type": "code",
   "execution_count": 64,
   "metadata": {},
   "outputs": [],
   "source": [
    "# Compare the proportion of data in each cluster for the customer data to the\n",
    "# proportion of data in each cluster for the general population\n",
    "\n",
    "def show_proportion(df_cluster, title='Default Title'):    \n",
    "    #get order of bars by frequency\n",
    "    cluster_counts = df_cluster['Cluster'].value_counts()\n",
    "    cluster_order = cluster_counts.index\n",
    "\n",
    "    #compute largest proportion\n",
    "    n_model = df_cluster.shape[0]\n",
    "    max_cluster_count = cluster_counts.iloc[0]\n",
    "    max_prop = max_cluster_count / n_model\n",
    "\n",
    "    #establish tick locations and create plot\n",
    "    base_color = sns.color_palette()[0]\n",
    "    tick_props = np.arange(0, max_prop, 0.02)\n",
    "    tick_names = ['{:0.2f}'.format(v) for v in tick_props]\n",
    "\n",
    "    base_color = sns.color_palette()[0]\n",
    "    sns.countplot(data=df_cluster, y='Cluster', color=base_color, order=cluster_order)\n",
    "    plt.xticks(tick_props * n_model, tick_names)\n",
    "    plt.xlabel('proportion')\n",
    "    plt.title(title);"
   ]
  },
  {
   "cell_type": "code",
   "execution_count": 65,
   "metadata": {},
   "outputs": [
    {
     "data": {
      "image/png": "[encoded data removed]",
      "text/plain": [
       "<Figure size 864x576 with 1 Axes>"
      ]
     },
     "metadata": {},
     "output_type": "display_data"
    }
   ],
   "source": [
    "fig, ax = plt.subplots(figsize=(12,8))\n",
    "show_proportion(azdias_cluster, title='Proportion of Each Cluster for the General Population')"
   ]
  },
  {
   "cell_type": "code",
   "execution_count": 66,
   "metadata": {},
   "outputs": [
    {
     "data": {
      "image/png": "[encoded data removed]",
      "text/plain": [
       "<Figure size 864x576 with 1 Axes>"
      ]
     },
     "metadata": {},
     "output_type": "display_data"
    }
   ],
   "source": [
    "fig, ax = plt.subplots(figsize=(12,8))\n",
    "show_proportion(customers_cluster, title='Proportion of Each Cluster for the Customer Data')"
   ]
  },
  {
   "cell_type": "code",
   "execution_count": 67,
   "metadata": {},
   "outputs": [],
   "source": [
    "# Check for overrepresentation and underrepresentation of clusters between the two datasets\n",
    "azdias_prop = azdias_cluster['Cluster'].value_counts() / azdias_cluster.shape[0]\n",
    "customers_prop = customers_cluster['Cluster'].value_counts() / customers_cluster.shape[0]\n",
    "diff_prop = customers_prop - azdias_prop\n",
    "\n",
    "max_index = diff_prop.sort_values(ascending=False).index[0]\n",
    "max_diff = diff_prop.sort_values(ascending=False).iloc[0]\n",
    "min_index = diff_prop.sort_values(ascending=False).index[-6]\n",
    "min_diff = diff_prop.sort_values(ascending=False).iloc[-6]"
   ]
  },
  {
   "cell_type": "code",
   "execution_count": 68,
   "metadata": {},
   "outputs": [
    {
     "data": {
      "text/plain": [
       "3     0.373209\n",
       "12    0.153494\n",
       "18    0.074190\n",
       "11    0.036058\n",
       "7     0.016025\n",
       "1     0.006610\n",
       "23    0.000260\n",
       "24    0.000212\n",
       "15   -0.001164\n",
       "13   -0.011457\n",
       "16   -0.011875\n",
       "19   -0.017640\n",
       "27   -0.020591\n",
       "8    -0.021678\n",
       "26   -0.023322\n",
       "9    -0.024573\n",
       "22   -0.026550\n",
       "10   -0.028225\n",
       "0    -0.029433\n",
       "4    -0.030301\n",
       "14   -0.031844\n",
       "29   -0.042502\n",
       "21   -0.043672\n",
       "6    -0.049880\n",
       "5    -0.057153\n",
       "2          NaN\n",
       "17         NaN\n",
       "20         NaN\n",
       "25         NaN\n",
       "28         NaN\n",
       "Name: Cluster, dtype: float64"
      ]
     },
     "execution_count": 68,
     "metadata": {},
     "output_type": "execute_result"
    }
   ],
   "source": [
    "diff_prop.sort_values(ascending=False)"
   ]
  },
  {
   "cell_type": "code",
   "execution_count": 69,
   "metadata": {},
   "outputs": [
    {
     "data": {
      "image/png": "[encoded data removed]",
      "text/plain": [
       "<Figure size 864x576 with 1 Axes>"
      ]
     },
     "metadata": {},
     "output_type": "display_data"
    }
   ],
   "source": [
    "fig, ax = plt.subplots(figsize=(12,8))\n",
    "diff_prop.sort_values()[:25].plot.barh(color=sns.color_palette()[0])\n",
    "plt.title(\"Difference in Proportions Between the General Population and Customer Data\", fontsize=16)\n",
    "plt.xlabel(\"Difference\", fontsize=12)\n",
    "plt.ylabel(\"Cluster\", fontsize=12);"
   ]
  },
  {
   "cell_type": "code",
   "execution_count": 70,
   "metadata": {},
   "outputs": [],
   "source": [
    "# Function to transform centroids back to the original data space based on cluster number\n",
    "def infer_cluster(index):\n",
    "    \n",
    "    # Subset the customers_cluster dataframe by the selected index\n",
    "    cluster = customers_cluster[customers_cluster['Cluster'] == index]\n",
    "    cluster_drop = cluster.drop('Cluster', axis=1)\n",
    "    \n",
    "    # Perform inverse PCA and inverse scaling to return to the original values\n",
    "    cluster_pca = pca.inverse_transform(cluster_drop)\n",
    "    cluster_scaler = scaler.inverse_transform(cluster_pca)\n",
    "    \n",
    "    # Create a new dataframe of the cluster and reuse the feature columns\n",
    "    cluster_final = pd.DataFrame(cluster_scaler, columns=customers_clean.columns)\n",
    "    return cluster_final\n"
   ]
  },
  {
   "cell_type": "code",
   "execution_count": 71,
   "metadata": {},
   "outputs": [],
   "source": [
    "#infer features from Principal Component Analysis.\n",
    "infer_columns = ['SEMIO_VERT_1',\n",
    "                 'FINANZTYP_4',\n",
    "                 'SEMIO_DOM_6',              \n",
    "                 'PLZ8_ANTG1_1.0',                       \n",
    "                 'PLZ8_ANTG3_3.0',   \n",
    "                 'HH_EINKOMMEN_SCORE_6.0',\n",
    "                 'EWDICHTE_6.0',\n",
    "                 'KBA13_HERST_BMW_BENZ_5.0',\n",
    "                 'KBA13_SEG_SPORTWAGEN_5.0']"
   ]
  },
  {
   "cell_type": "code",
   "execution_count": 72,
   "metadata": {},
   "outputs": [
    {
     "name": "stdout",
     "output_type": "stream",
     "text": [
      "The cluster which is the most overrepresented is cluster 3 with a difference of 0.3732.\n"
     ]
    }
   ],
   "source": [
    "# What kinds of people are part of a cluster that is overrepresented in the\n",
    "# customer data compared to the general population?\n",
    "print('The cluster which is the most overrepresented is cluster {} with a difference of {}.'\n",
    "         .format(max_index, np.round(max_diff, 4)))"
   ]
  },
  {
   "cell_type": "code",
   "execution_count": 73,
   "metadata": {},
   "outputs": [
    {
     "name": "stdout",
     "output_type": "stream",
     "text": [
      "(75196, 1090)\n"
     ]
    },
    {
     "data": {
      "text/html": [
       "<div>\n",
       "<style scoped>\n",
       "    .dataframe tbody tr th:only-of-type {\n",
       "        vertical-align: middle;\n",
       "    }\n",
       "\n",
       "    .dataframe tbody tr th {\n",
       "        vertical-align: top;\n",
       "    }\n",
       "\n",
       "    .dataframe thead th {\n",
       "        text-align: right;\n",
       "    }\n",
       "</style>\n",
       "<table border=\"1\" class=\"dataframe\">\n",
       "  <thead>\n",
       "    <tr style=\"text-align: right;\">\n",
       "      <th></th>\n",
       "      <th>OST_WEST_KZ</th>\n",
       "      <th>PLZ8_ANTG4</th>\n",
       "      <th>VERS_TYP</th>\n",
       "      <th>ANREDE_KZ</th>\n",
       "      <th>CAMEO_DEUG_2015_1.0</th>\n",
       "      <th>CAMEO_DEUG_2015_2.0</th>\n",
       "      <th>CAMEO_DEUG_2015_3.0</th>\n",
       "      <th>CAMEO_DEUG_2015_4.0</th>\n",
       "      <th>CAMEO_DEUG_2015_5.0</th>\n",
       "      <th>CAMEO_DEUG_2015_6.0</th>\n",
       "      <th>...</th>\n",
       "      <th>ZABEOTYP_6</th>\n",
       "      <th>ALTERSKATEGORIE_GROB_1</th>\n",
       "      <th>ALTERSKATEGORIE_GROB_2</th>\n",
       "      <th>ALTERSKATEGORIE_GROB_3</th>\n",
       "      <th>ALTERSKATEGORIE_GROB_4</th>\n",
       "      <th>ALTERSKATEGORIE_GROB_9</th>\n",
       "      <th>DECADE</th>\n",
       "      <th>MOVEMENT</th>\n",
       "      <th>ALTER_HH_1.0</th>\n",
       "      <th>GEBAEUDETYP_5.0</th>\n",
       "    </tr>\n",
       "  </thead>\n",
       "  <tbody>\n",
       "    <tr>\n",
       "      <th>0</th>\n",
       "      <td>1.227573</td>\n",
       "      <td>1.398437</td>\n",
       "      <td>1.926986</td>\n",
       "      <td>1.343381</td>\n",
       "      <td>0.066139</td>\n",
       "      <td>-0.037299</td>\n",
       "      <td>-0.012540</td>\n",
       "      <td>-0.051645</td>\n",
       "      <td>0.102124</td>\n",
       "      <td>0.021029</td>\n",
       "      <td>...</td>\n",
       "      <td>0.107250</td>\n",
       "      <td>-0.066030</td>\n",
       "      <td>-0.148785</td>\n",
       "      <td>-0.003842</td>\n",
       "      <td>-0.441391</td>\n",
       "      <td>-0.495560</td>\n",
       "      <td>1.121512</td>\n",
       "      <td>0.819282</td>\n",
       "      <td>8.838216</td>\n",
       "      <td>0.931909</td>\n",
       "    </tr>\n",
       "    <tr>\n",
       "      <th>1</th>\n",
       "      <td>1.456836</td>\n",
       "      <td>1.187924</td>\n",
       "      <td>1.247200</td>\n",
       "      <td>1.117304</td>\n",
       "      <td>-0.020801</td>\n",
       "      <td>0.323629</td>\n",
       "      <td>-0.047051</td>\n",
       "      <td>0.205199</td>\n",
       "      <td>1.069276</td>\n",
       "      <td>0.064302</td>\n",
       "      <td>...</td>\n",
       "      <td>-0.076939</td>\n",
       "      <td>-0.172944</td>\n",
       "      <td>0.260139</td>\n",
       "      <td>-0.234723</td>\n",
       "      <td>-0.517874</td>\n",
       "      <td>-0.296933</td>\n",
       "      <td>0.523147</td>\n",
       "      <td>1.526383</td>\n",
       "      <td>7.573597</td>\n",
       "      <td>0.693662</td>\n",
       "    </tr>\n",
       "    <tr>\n",
       "      <th>2</th>\n",
       "      <td>1.643674</td>\n",
       "      <td>1.501978</td>\n",
       "      <td>0.379206</td>\n",
       "      <td>1.502970</td>\n",
       "      <td>-0.103922</td>\n",
       "      <td>0.251010</td>\n",
       "      <td>0.986357</td>\n",
       "      <td>0.172074</td>\n",
       "      <td>0.212532</td>\n",
       "      <td>0.024543</td>\n",
       "      <td>...</td>\n",
       "      <td>0.012041</td>\n",
       "      <td>-0.489586</td>\n",
       "      <td>0.363444</td>\n",
       "      <td>-0.770515</td>\n",
       "      <td>0.231591</td>\n",
       "      <td>-0.211218</td>\n",
       "      <td>0.166378</td>\n",
       "      <td>1.583764</td>\n",
       "      <td>6.365726</td>\n",
       "      <td>0.694270</td>\n",
       "    </tr>\n",
       "    <tr>\n",
       "      <th>3</th>\n",
       "      <td>1.991342</td>\n",
       "      <td>1.201582</td>\n",
       "      <td>1.539469</td>\n",
       "      <td>1.572538</td>\n",
       "      <td>0.087307</td>\n",
       "      <td>-0.004631</td>\n",
       "      <td>0.087468</td>\n",
       "      <td>0.103089</td>\n",
       "      <td>0.087902</td>\n",
       "      <td>0.052799</td>\n",
       "      <td>...</td>\n",
       "      <td>0.397885</td>\n",
       "      <td>-0.216720</td>\n",
       "      <td>0.083065</td>\n",
       "      <td>-0.278642</td>\n",
       "      <td>0.493699</td>\n",
       "      <td>-0.115268</td>\n",
       "      <td>0.006468</td>\n",
       "      <td>0.893743</td>\n",
       "      <td>3.113857</td>\n",
       "      <td>0.737223</td>\n",
       "    </tr>\n",
       "    <tr>\n",
       "      <th>4</th>\n",
       "      <td>1.640105</td>\n",
       "      <td>1.229165</td>\n",
       "      <td>1.244327</td>\n",
       "      <td>1.226635</td>\n",
       "      <td>0.196168</td>\n",
       "      <td>0.915278</td>\n",
       "      <td>-0.130518</td>\n",
       "      <td>-0.172933</td>\n",
       "      <td>0.010534</td>\n",
       "      <td>-0.007053</td>\n",
       "      <td>...</td>\n",
       "      <td>-0.528856</td>\n",
       "      <td>-0.141171</td>\n",
       "      <td>0.170745</td>\n",
       "      <td>-0.431064</td>\n",
       "      <td>-0.309372</td>\n",
       "      <td>-0.403687</td>\n",
       "      <td>0.482067</td>\n",
       "      <td>1.662056</td>\n",
       "      <td>4.324365</td>\n",
       "      <td>0.688900</td>\n",
       "    </tr>\n",
       "  </tbody>\n",
       "</table>\n",
       "<p>5 rows × 1090 columns</p>\n",
       "</div>"
      ],
      "text/plain": [
       "   OST_WEST_KZ  PLZ8_ANTG4  VERS_TYP  ANREDE_KZ  CAMEO_DEUG_2015_1.0  \\\n",
       "0     1.227573    1.398437  1.926986   1.343381             0.066139   \n",
       "1     1.456836    1.187924  1.247200   1.117304            -0.020801   \n",
       "2     1.643674    1.501978  0.379206   1.502970            -0.103922   \n",
       "3     1.991342    1.201582  1.539469   1.572538             0.087307   \n",
       "4     1.640105    1.229165  1.244327   1.226635             0.196168   \n",
       "\n",
       "   CAMEO_DEUG_2015_2.0  CAMEO_DEUG_2015_3.0  CAMEO_DEUG_2015_4.0  \\\n",
       "0            -0.037299            -0.012540            -0.051645   \n",
       "1             0.323629            -0.047051             0.205199   \n",
       "2             0.251010             0.986357             0.172074   \n",
       "3            -0.004631             0.087468             0.103089   \n",
       "4             0.915278            -0.130518            -0.172933   \n",
       "\n",
       "   CAMEO_DEUG_2015_5.0  CAMEO_DEUG_2015_6.0  ...  ZABEOTYP_6  \\\n",
       "0             0.102124             0.021029  ...    0.107250   \n",
       "1             1.069276             0.064302  ...   -0.076939   \n",
       "2             0.212532             0.024543  ...    0.012041   \n",
       "3             0.087902             0.052799  ...    0.397885   \n",
       "4             0.010534            -0.007053  ...   -0.528856   \n",
       "\n",
       "   ALTERSKATEGORIE_GROB_1  ALTERSKATEGORIE_GROB_2  ALTERSKATEGORIE_GROB_3  \\\n",
       "0               -0.066030               -0.148785               -0.003842   \n",
       "1               -0.172944                0.260139               -0.234723   \n",
       "2               -0.489586                0.363444               -0.770515   \n",
       "3               -0.216720                0.083065               -0.278642   \n",
       "4               -0.141171                0.170745               -0.431064   \n",
       "\n",
       "   ALTERSKATEGORIE_GROB_4  ALTERSKATEGORIE_GROB_9    DECADE  MOVEMENT  \\\n",
       "0               -0.441391               -0.495560  1.121512  0.819282   \n",
       "1               -0.517874               -0.296933  0.523147  1.526383   \n",
       "2                0.231591               -0.211218  0.166378  1.583764   \n",
       "3                0.493699               -0.115268  0.006468  0.893743   \n",
       "4               -0.309372               -0.403687  0.482067  1.662056   \n",
       "\n",
       "   ALTER_HH_1.0  GEBAEUDETYP_5.0  \n",
       "0      8.838216         0.931909  \n",
       "1      7.573597         0.693662  \n",
       "2      6.365726         0.694270  \n",
       "3      3.113857         0.737223  \n",
       "4      4.324365         0.688900  \n",
       "\n",
       "[5 rows x 1090 columns]"
      ]
     },
     "execution_count": 73,
     "metadata": {},
     "output_type": "execute_result"
    }
   ],
   "source": [
    "over_cluster = infer_cluster(max_index)\n",
    "print(over_cluster.shape)\n",
    "over_cluster.head()"
   ]
  },
  {
   "cell_type": "code",
   "execution_count": 74,
   "metadata": {},
   "outputs": [
    {
     "data": {
      "text/html": [
       "<div>\n",
       "<style scoped>\n",
       "    .dataframe tbody tr th:only-of-type {\n",
       "        vertical-align: middle;\n",
       "    }\n",
       "\n",
       "    .dataframe tbody tr th {\n",
       "        vertical-align: top;\n",
       "    }\n",
       "\n",
       "    .dataframe thead th {\n",
       "        text-align: right;\n",
       "    }\n",
       "</style>\n",
       "<table border=\"1\" class=\"dataframe\">\n",
       "  <thead>\n",
       "    <tr style=\"text-align: right;\">\n",
       "      <th></th>\n",
       "      <th>SEMIO_VERT_1</th>\n",
       "      <th>FINANZTYP_4</th>\n",
       "      <th>SEMIO_DOM_6</th>\n",
       "      <th>PLZ8_ANTG1_1.0</th>\n",
       "      <th>PLZ8_ANTG3_3.0</th>\n",
       "      <th>HH_EINKOMMEN_SCORE_6.0</th>\n",
       "      <th>EWDICHTE_6.0</th>\n",
       "      <th>KBA13_HERST_BMW_BENZ_5.0</th>\n",
       "      <th>KBA13_SEG_SPORTWAGEN_5.0</th>\n",
       "    </tr>\n",
       "  </thead>\n",
       "  <tbody>\n",
       "    <tr>\n",
       "      <th>count</th>\n",
       "      <td>75196.000000</td>\n",
       "      <td>75196.000000</td>\n",
       "      <td>75196.000000</td>\n",
       "      <td>75196.000000</td>\n",
       "      <td>75196.000000</td>\n",
       "      <td>75196.000000</td>\n",
       "      <td>75196.000000</td>\n",
       "      <td>75196.000000</td>\n",
       "      <td>75196.000000</td>\n",
       "    </tr>\n",
       "    <tr>\n",
       "      <th>mean</th>\n",
       "      <td>-0.225099</td>\n",
       "      <td>-0.019629</td>\n",
       "      <td>0.666060</td>\n",
       "      <td>0.037460</td>\n",
       "      <td>0.024534</td>\n",
       "      <td>0.254107</td>\n",
       "      <td>-0.203478</td>\n",
       "      <td>0.101387</td>\n",
       "      <td>-0.097669</td>\n",
       "    </tr>\n",
       "    <tr>\n",
       "      <th>std</th>\n",
       "      <td>0.208230</td>\n",
       "      <td>0.161682</td>\n",
       "      <td>0.296717</td>\n",
       "      <td>0.252934</td>\n",
       "      <td>0.287525</td>\n",
       "      <td>0.318564</td>\n",
       "      <td>0.392328</td>\n",
       "      <td>0.379219</td>\n",
       "      <td>0.413929</td>\n",
       "    </tr>\n",
       "    <tr>\n",
       "      <th>min</th>\n",
       "      <td>-0.778857</td>\n",
       "      <td>-0.588499</td>\n",
       "      <td>-0.436426</td>\n",
       "      <td>-0.705594</td>\n",
       "      <td>-7.493264</td>\n",
       "      <td>-0.712818</td>\n",
       "      <td>-1.550091</td>\n",
       "      <td>-1.209281</td>\n",
       "      <td>-1.689933</td>\n",
       "    </tr>\n",
       "    <tr>\n",
       "      <th>25%</th>\n",
       "      <td>-0.383763</td>\n",
       "      <td>-0.136212</td>\n",
       "      <td>0.433651</td>\n",
       "      <td>-0.127449</td>\n",
       "      <td>-0.169332</td>\n",
       "      <td>0.045406</td>\n",
       "      <td>-0.477093</td>\n",
       "      <td>-0.164921</td>\n",
       "      <td>-0.408193</td>\n",
       "    </tr>\n",
       "    <tr>\n",
       "      <th>50%</th>\n",
       "      <td>-0.239149</td>\n",
       "      <td>-0.026710</td>\n",
       "      <td>0.679495</td>\n",
       "      <td>0.015325</td>\n",
       "      <td>0.020955</td>\n",
       "      <td>0.200246</td>\n",
       "      <td>-0.194291</td>\n",
       "      <td>0.070652</td>\n",
       "      <td>-0.039454</td>\n",
       "    </tr>\n",
       "    <tr>\n",
       "      <th>75%</th>\n",
       "      <td>-0.072941</td>\n",
       "      <td>0.095522</td>\n",
       "      <td>0.894755</td>\n",
       "      <td>0.162240</td>\n",
       "      <td>0.214966</td>\n",
       "      <td>0.413145</td>\n",
       "      <td>0.068551</td>\n",
       "      <td>0.353521</td>\n",
       "      <td>0.189917</td>\n",
       "    </tr>\n",
       "    <tr>\n",
       "      <th>max</th>\n",
       "      <td>0.492799</td>\n",
       "      <td>1.978784</td>\n",
       "      <td>2.056302</td>\n",
       "      <td>1.268493</td>\n",
       "      <td>1.218978</td>\n",
       "      <td>2.486622</td>\n",
       "      <td>1.939506</td>\n",
       "      <td>4.199998</td>\n",
       "      <td>2.065056</td>\n",
       "    </tr>\n",
       "  </tbody>\n",
       "</table>\n",
       "</div>"
      ],
      "text/plain": [
       "       SEMIO_VERT_1   FINANZTYP_4   SEMIO_DOM_6  PLZ8_ANTG1_1.0  \\\n",
       "count  75196.000000  75196.000000  75196.000000    75196.000000   \n",
       "mean      -0.225099     -0.019629      0.666060        0.037460   \n",
       "std        0.208230      0.161682      0.296717        0.252934   \n",
       "min       -0.778857     -0.588499     -0.436426       -0.705594   \n",
       "25%       -0.383763     -0.136212      0.433651       -0.127449   \n",
       "50%       -0.239149     -0.026710      0.679495        0.015325   \n",
       "75%       -0.072941      0.095522      0.894755        0.162240   \n",
       "max        0.492799      1.978784      2.056302        1.268493   \n",
       "\n",
       "       PLZ8_ANTG3_3.0  HH_EINKOMMEN_SCORE_6.0  EWDICHTE_6.0  \\\n",
       "count    75196.000000            75196.000000  75196.000000   \n",
       "mean         0.024534                0.254107     -0.203478   \n",
       "std          0.287525                0.318564      0.392328   \n",
       "min         -7.493264               -0.712818     -1.550091   \n",
       "25%         -0.169332                0.045406     -0.477093   \n",
       "50%          0.020955                0.200246     -0.194291   \n",
       "75%          0.214966                0.413145      0.068551   \n",
       "max          1.218978                2.486622      1.939506   \n",
       "\n",
       "       KBA13_HERST_BMW_BENZ_5.0  KBA13_SEG_SPORTWAGEN_5.0  \n",
       "count              75196.000000              75196.000000  \n",
       "mean                   0.101387                 -0.097669  \n",
       "std                    0.379219                  0.413929  \n",
       "min                   -1.209281                 -1.689933  \n",
       "25%                   -0.164921                 -0.408193  \n",
       "50%                    0.070652                 -0.039454  \n",
       "75%                    0.353521                  0.189917  \n",
       "max                    4.199998                  2.065056  "
      ]
     },
     "execution_count": 74,
     "metadata": {},
     "output_type": "execute_result"
    }
   ],
   "source": [
    "over_cluster[infer_columns].describe()"
   ]
  },
  {
   "cell_type": "code",
   "execution_count": 75,
   "metadata": {},
   "outputs": [
    {
     "name": "stdout",
     "output_type": "stream",
     "text": [
      "The cluster which is the most underrepresented is cluster 5 with a difference of -0.0572.\n"
     ]
    }
   ],
   "source": [
    "# What kinds of people are part of a cluster that is underrepresented in the\n",
    "# customer data compared to the general population?\n",
    "print('The cluster which is the most underrepresented is cluster {} with a difference of {}.'\n",
    "         .format(min_index, np.round(min_diff, 4)))"
   ]
  },
  {
   "cell_type": "code",
   "execution_count": 76,
   "metadata": {},
   "outputs": [
    {
     "name": "stdout",
     "output_type": "stream",
     "text": [
      "(918, 1090)\n"
     ]
    },
    {
     "data": {
      "text/html": [
       "<div>\n",
       "<style scoped>\n",
       "    .dataframe tbody tr th:only-of-type {\n",
       "        vertical-align: middle;\n",
       "    }\n",
       "\n",
       "    .dataframe tbody tr th {\n",
       "        vertical-align: top;\n",
       "    }\n",
       "\n",
       "    .dataframe thead th {\n",
       "        text-align: right;\n",
       "    }\n",
       "</style>\n",
       "<table border=\"1\" class=\"dataframe\">\n",
       "  <thead>\n",
       "    <tr style=\"text-align: right;\">\n",
       "      <th></th>\n",
       "      <th>OST_WEST_KZ</th>\n",
       "      <th>PLZ8_ANTG4</th>\n",
       "      <th>VERS_TYP</th>\n",
       "      <th>ANREDE_KZ</th>\n",
       "      <th>CAMEO_DEUG_2015_1.0</th>\n",
       "      <th>CAMEO_DEUG_2015_2.0</th>\n",
       "      <th>CAMEO_DEUG_2015_3.0</th>\n",
       "      <th>CAMEO_DEUG_2015_4.0</th>\n",
       "      <th>CAMEO_DEUG_2015_5.0</th>\n",
       "      <th>CAMEO_DEUG_2015_6.0</th>\n",
       "      <th>...</th>\n",
       "      <th>ZABEOTYP_6</th>\n",
       "      <th>ALTERSKATEGORIE_GROB_1</th>\n",
       "      <th>ALTERSKATEGORIE_GROB_2</th>\n",
       "      <th>ALTERSKATEGORIE_GROB_3</th>\n",
       "      <th>ALTERSKATEGORIE_GROB_4</th>\n",
       "      <th>ALTERSKATEGORIE_GROB_9</th>\n",
       "      <th>DECADE</th>\n",
       "      <th>MOVEMENT</th>\n",
       "      <th>ALTER_HH_1.0</th>\n",
       "      <th>GEBAEUDETYP_5.0</th>\n",
       "    </tr>\n",
       "  </thead>\n",
       "  <tbody>\n",
       "    <tr>\n",
       "      <th>0</th>\n",
       "      <td>1.663456</td>\n",
       "      <td>1.597169</td>\n",
       "      <td>1.795874</td>\n",
       "      <td>1.571830</td>\n",
       "      <td>0.059593</td>\n",
       "      <td>0.024693</td>\n",
       "      <td>-0.074475</td>\n",
       "      <td>0.896460</td>\n",
       "      <td>0.112953</td>\n",
       "      <td>-0.016784</td>\n",
       "      <td>...</td>\n",
       "      <td>-0.334351</td>\n",
       "      <td>0.024965</td>\n",
       "      <td>-0.122227</td>\n",
       "      <td>-0.027458</td>\n",
       "      <td>-0.274429</td>\n",
       "      <td>-0.954730</td>\n",
       "      <td>1.470449</td>\n",
       "      <td>0.786168</td>\n",
       "      <td>6.818574</td>\n",
       "      <td>1.133212</td>\n",
       "    </tr>\n",
       "    <tr>\n",
       "      <th>1</th>\n",
       "      <td>1.838632</td>\n",
       "      <td>1.226837</td>\n",
       "      <td>2.187609</td>\n",
       "      <td>1.643882</td>\n",
       "      <td>0.061820</td>\n",
       "      <td>-0.014660</td>\n",
       "      <td>0.043418</td>\n",
       "      <td>0.078728</td>\n",
       "      <td>0.002633</td>\n",
       "      <td>-0.043963</td>\n",
       "      <td>...</td>\n",
       "      <td>0.543164</td>\n",
       "      <td>-0.236839</td>\n",
       "      <td>0.083447</td>\n",
       "      <td>-0.284420</td>\n",
       "      <td>-0.154330</td>\n",
       "      <td>-1.065189</td>\n",
       "      <td>1.695075</td>\n",
       "      <td>0.808864</td>\n",
       "      <td>7.261413</td>\n",
       "      <td>1.102517</td>\n",
       "    </tr>\n",
       "    <tr>\n",
       "      <th>2</th>\n",
       "      <td>1.670609</td>\n",
       "      <td>1.653252</td>\n",
       "      <td>1.966745</td>\n",
       "      <td>1.788104</td>\n",
       "      <td>0.076731</td>\n",
       "      <td>0.151332</td>\n",
       "      <td>0.861835</td>\n",
       "      <td>-0.120077</td>\n",
       "      <td>-0.057933</td>\n",
       "      <td>-0.046757</td>\n",
       "      <td>...</td>\n",
       "      <td>-0.317000</td>\n",
       "      <td>-0.006523</td>\n",
       "      <td>0.060625</td>\n",
       "      <td>-0.616204</td>\n",
       "      <td>-0.577785</td>\n",
       "      <td>-1.213427</td>\n",
       "      <td>1.804484</td>\n",
       "      <td>1.602931</td>\n",
       "      <td>7.726699</td>\n",
       "      <td>0.576743</td>\n",
       "    </tr>\n",
       "    <tr>\n",
       "      <th>3</th>\n",
       "      <td>1.736405</td>\n",
       "      <td>1.411488</td>\n",
       "      <td>1.796851</td>\n",
       "      <td>1.765174</td>\n",
       "      <td>0.190582</td>\n",
       "      <td>0.084058</td>\n",
       "      <td>-0.186322</td>\n",
       "      <td>-0.062861</td>\n",
       "      <td>0.094084</td>\n",
       "      <td>0.975752</td>\n",
       "      <td>...</td>\n",
       "      <td>-0.318097</td>\n",
       "      <td>-0.025703</td>\n",
       "      <td>0.480564</td>\n",
       "      <td>-0.583405</td>\n",
       "      <td>-0.639415</td>\n",
       "      <td>-1.100082</td>\n",
       "      <td>1.659013</td>\n",
       "      <td>1.663889</td>\n",
       "      <td>8.535202</td>\n",
       "      <td>1.333004</td>\n",
       "    </tr>\n",
       "    <tr>\n",
       "      <th>4</th>\n",
       "      <td>1.716532</td>\n",
       "      <td>1.404862</td>\n",
       "      <td>2.158212</td>\n",
       "      <td>1.522925</td>\n",
       "      <td>0.037063</td>\n",
       "      <td>0.933456</td>\n",
       "      <td>-0.129167</td>\n",
       "      <td>-0.188371</td>\n",
       "      <td>0.043521</td>\n",
       "      <td>-0.033750</td>\n",
       "      <td>...</td>\n",
       "      <td>-0.234755</td>\n",
       "      <td>-0.185768</td>\n",
       "      <td>0.338217</td>\n",
       "      <td>-0.735875</td>\n",
       "      <td>-0.360749</td>\n",
       "      <td>-1.330562</td>\n",
       "      <td>1.792940</td>\n",
       "      <td>1.634247</td>\n",
       "      <td>6.513949</td>\n",
       "      <td>0.655983</td>\n",
       "    </tr>\n",
       "  </tbody>\n",
       "</table>\n",
       "<p>5 rows × 1090 columns</p>\n",
       "</div>"
      ],
      "text/plain": [
       "   OST_WEST_KZ  PLZ8_ANTG4  VERS_TYP  ANREDE_KZ  CAMEO_DEUG_2015_1.0  \\\n",
       "0     1.663456    1.597169  1.795874   1.571830             0.059593   \n",
       "1     1.838632    1.226837  2.187609   1.643882             0.061820   \n",
       "2     1.670609    1.653252  1.966745   1.788104             0.076731   \n",
       "3     1.736405    1.411488  1.796851   1.765174             0.190582   \n",
       "4     1.716532    1.404862  2.158212   1.522925             0.037063   \n",
       "\n",
       "   CAMEO_DEUG_2015_2.0  CAMEO_DEUG_2015_3.0  CAMEO_DEUG_2015_4.0  \\\n",
       "0             0.024693            -0.074475             0.896460   \n",
       "1            -0.014660             0.043418             0.078728   \n",
       "2             0.151332             0.861835            -0.120077   \n",
       "3             0.084058            -0.186322            -0.062861   \n",
       "4             0.933456            -0.129167            -0.188371   \n",
       "\n",
       "   CAMEO_DEUG_2015_5.0  CAMEO_DEUG_2015_6.0  ...  ZABEOTYP_6  \\\n",
       "0             0.112953            -0.016784  ...   -0.334351   \n",
       "1             0.002633            -0.043963  ...    0.543164   \n",
       "2            -0.057933            -0.046757  ...   -0.317000   \n",
       "3             0.094084             0.975752  ...   -0.318097   \n",
       "4             0.043521            -0.033750  ...   -0.234755   \n",
       "\n",
       "   ALTERSKATEGORIE_GROB_1  ALTERSKATEGORIE_GROB_2  ALTERSKATEGORIE_GROB_3  \\\n",
       "0                0.024965               -0.122227               -0.027458   \n",
       "1               -0.236839                0.083447               -0.284420   \n",
       "2               -0.006523                0.060625               -0.616204   \n",
       "3               -0.025703                0.480564               -0.583405   \n",
       "4               -0.185768                0.338217               -0.735875   \n",
       "\n",
       "   ALTERSKATEGORIE_GROB_4  ALTERSKATEGORIE_GROB_9    DECADE  MOVEMENT  \\\n",
       "0               -0.274429               -0.954730  1.470449  0.786168   \n",
       "1               -0.154330               -1.065189  1.695075  0.808864   \n",
       "2               -0.577785               -1.213427  1.804484  1.602931   \n",
       "3               -0.639415               -1.100082  1.659013  1.663889   \n",
       "4               -0.360749               -1.330562  1.792940  1.634247   \n",
       "\n",
       "   ALTER_HH_1.0  GEBAEUDETYP_5.0  \n",
       "0      6.818574         1.133212  \n",
       "1      7.261413         1.102517  \n",
       "2      7.726699         0.576743  \n",
       "3      8.535202         1.333004  \n",
       "4      6.513949         0.655983  \n",
       "\n",
       "[5 rows x 1090 columns]"
      ]
     },
     "execution_count": 76,
     "metadata": {},
     "output_type": "execute_result"
    }
   ],
   "source": [
    "under_cluster = infer_cluster(min_index)\n",
    "print(under_cluster.shape)\n",
    "under_cluster.head()"
   ]
  },
  {
   "cell_type": "code",
   "execution_count": 77,
   "metadata": {},
   "outputs": [
    {
     "data": {
      "text/html": [
       "<div>\n",
       "<style scoped>\n",
       "    .dataframe tbody tr th:only-of-type {\n",
       "        vertical-align: middle;\n",
       "    }\n",
       "\n",
       "    .dataframe tbody tr th {\n",
       "        vertical-align: top;\n",
       "    }\n",
       "\n",
       "    .dataframe thead th {\n",
       "        text-align: right;\n",
       "    }\n",
       "</style>\n",
       "<table border=\"1\" class=\"dataframe\">\n",
       "  <thead>\n",
       "    <tr style=\"text-align: right;\">\n",
       "      <th></th>\n",
       "      <th>SEMIO_VERT_1</th>\n",
       "      <th>FINANZTYP_4</th>\n",
       "      <th>SEMIO_DOM_6</th>\n",
       "      <th>PLZ8_ANTG1_1.0</th>\n",
       "      <th>PLZ8_ANTG3_3.0</th>\n",
       "      <th>HH_EINKOMMEN_SCORE_6.0</th>\n",
       "      <th>EWDICHTE_6.0</th>\n",
       "      <th>KBA13_HERST_BMW_BENZ_5.0</th>\n",
       "      <th>KBA13_SEG_SPORTWAGEN_5.0</th>\n",
       "    </tr>\n",
       "  </thead>\n",
       "  <tbody>\n",
       "    <tr>\n",
       "      <th>count</th>\n",
       "      <td>918.000000</td>\n",
       "      <td>918.000000</td>\n",
       "      <td>918.000000</td>\n",
       "      <td>918.000000</td>\n",
       "      <td>918.000000</td>\n",
       "      <td>918.000000</td>\n",
       "      <td>918.000000</td>\n",
       "      <td>918.000000</td>\n",
       "      <td>918.000000</td>\n",
       "    </tr>\n",
       "    <tr>\n",
       "      <th>mean</th>\n",
       "      <td>-0.169760</td>\n",
       "      <td>-0.042240</td>\n",
       "      <td>0.566487</td>\n",
       "      <td>0.174680</td>\n",
       "      <td>0.224206</td>\n",
       "      <td>0.161202</td>\n",
       "      <td>0.134068</td>\n",
       "      <td>0.272156</td>\n",
       "      <td>0.266207</td>\n",
       "    </tr>\n",
       "    <tr>\n",
       "      <th>std</th>\n",
       "      <td>0.137974</td>\n",
       "      <td>0.191863</td>\n",
       "      <td>0.295121</td>\n",
       "      <td>0.343851</td>\n",
       "      <td>0.290309</td>\n",
       "      <td>0.404987</td>\n",
       "      <td>0.385938</td>\n",
       "      <td>0.417115</td>\n",
       "      <td>0.414706</td>\n",
       "    </tr>\n",
       "    <tr>\n",
       "      <th>min</th>\n",
       "      <td>-0.585008</td>\n",
       "      <td>-0.560598</td>\n",
       "      <td>-0.344838</td>\n",
       "      <td>-0.623885</td>\n",
       "      <td>-0.672457</td>\n",
       "      <td>-0.710327</td>\n",
       "      <td>-1.184409</td>\n",
       "      <td>-0.692973</td>\n",
       "      <td>-1.175477</td>\n",
       "    </tr>\n",
       "    <tr>\n",
       "      <th>25%</th>\n",
       "      <td>-0.255850</td>\n",
       "      <td>-0.165706</td>\n",
       "      <td>0.337953</td>\n",
       "      <td>-0.080737</td>\n",
       "      <td>0.024159</td>\n",
       "      <td>-0.113500</td>\n",
       "      <td>-0.107710</td>\n",
       "      <td>-0.034640</td>\n",
       "      <td>0.006770</td>\n",
       "    </tr>\n",
       "    <tr>\n",
       "      <th>50%</th>\n",
       "      <td>-0.170486</td>\n",
       "      <td>-0.070100</td>\n",
       "      <td>0.569748</td>\n",
       "      <td>0.094610</td>\n",
       "      <td>0.229160</td>\n",
       "      <td>0.056971</td>\n",
       "      <td>0.171746</td>\n",
       "      <td>0.218369</td>\n",
       "      <td>0.255059</td>\n",
       "    </tr>\n",
       "    <tr>\n",
       "      <th>75%</th>\n",
       "      <td>-0.079203</td>\n",
       "      <td>0.065455</td>\n",
       "      <td>0.783791</td>\n",
       "      <td>0.491429</td>\n",
       "      <td>0.440621</td>\n",
       "      <td>0.338404</td>\n",
       "      <td>0.431733</td>\n",
       "      <td>0.553122</td>\n",
       "      <td>0.499922</td>\n",
       "    </tr>\n",
       "    <tr>\n",
       "      <th>max</th>\n",
       "      <td>0.242500</td>\n",
       "      <td>0.827793</td>\n",
       "      <td>1.741137</td>\n",
       "      <td>0.924350</td>\n",
       "      <td>1.097280</td>\n",
       "      <td>1.453876</td>\n",
       "      <td>0.940717</td>\n",
       "      <td>1.554631</td>\n",
       "      <td>1.395927</td>\n",
       "    </tr>\n",
       "  </tbody>\n",
       "</table>\n",
       "</div>"
      ],
      "text/plain": [
       "       SEMIO_VERT_1  FINANZTYP_4  SEMIO_DOM_6  PLZ8_ANTG1_1.0  PLZ8_ANTG3_3.0  \\\n",
       "count    918.000000   918.000000   918.000000      918.000000      918.000000   \n",
       "mean      -0.169760    -0.042240     0.566487        0.174680        0.224206   \n",
       "std        0.137974     0.191863     0.295121        0.343851        0.290309   \n",
       "min       -0.585008    -0.560598    -0.344838       -0.623885       -0.672457   \n",
       "25%       -0.255850    -0.165706     0.337953       -0.080737        0.024159   \n",
       "50%       -0.170486    -0.070100     0.569748        0.094610        0.229160   \n",
       "75%       -0.079203     0.065455     0.783791        0.491429        0.440621   \n",
       "max        0.242500     0.827793     1.741137        0.924350        1.097280   \n",
       "\n",
       "       HH_EINKOMMEN_SCORE_6.0  EWDICHTE_6.0  KBA13_HERST_BMW_BENZ_5.0  \\\n",
       "count              918.000000    918.000000                918.000000   \n",
       "mean                 0.161202      0.134068                  0.272156   \n",
       "std                  0.404987      0.385938                  0.417115   \n",
       "min                 -0.710327     -1.184409                 -0.692973   \n",
       "25%                 -0.113500     -0.107710                 -0.034640   \n",
       "50%                  0.056971      0.171746                  0.218369   \n",
       "75%                  0.338404      0.431733                  0.553122   \n",
       "max                  1.453876      0.940717                  1.554631   \n",
       "\n",
       "       KBA13_SEG_SPORTWAGEN_5.0  \n",
       "count                918.000000  \n",
       "mean                   0.266207  \n",
       "std                    0.414706  \n",
       "min                   -1.175477  \n",
       "25%                    0.006770  \n",
       "50%                    0.255059  \n",
       "75%                    0.499922  \n",
       "max                    1.395927  "
      ]
     },
     "execution_count": 77,
     "metadata": {},
     "output_type": "execute_result"
    }
   ],
   "source": [
    "under_cluster[infer_columns].describe()"
   ]
  },
  {
   "cell_type": "code",
   "execution_count": 78,
   "metadata": {},
   "outputs": [],
   "source": [
    "# Compare the differences between the target and non-target groups\n",
    "over_mean = over_cluster[infer_columns].describe().loc['mean']\n",
    "under_mean = under_cluster[infer_columns].describe().loc['mean']\n",
    "mean_df = pd.concat([over_mean, under_mean], axis=1)\n",
    "mean_df.columns = ['Target', 'Non-Target']"
   ]
  },
  {
   "cell_type": "code",
   "execution_count": 79,
   "metadata": {},
   "outputs": [
    {
     "data": {
      "image/png": "[encoded data removed]",
      "text/plain": [
       "<Figure size 1152x648 with 1 Axes>"
      ]
     },
     "metadata": {},
     "output_type": "display_data"
    }
   ],
   "source": [
    "# Plot the means of the columns of interests for the target and non-target groups\n",
    "fig, ax = plt.subplots(figsize=(16,9))\n",
    "plt.title(\"Mean Values of Columns Between Target and Non-Target Customers\", fontsize=16)\n",
    "plt.xlabel(\"Mean\", fontsize=12)\n",
    "mean_df.plot.barh(ax=ax);\n"
   ]
  },
  {
   "cell_type": "code",
   "execution_count": 80,
   "metadata": {},
   "outputs": [
    {
     "data": {
      "text/plain": [
       "KBA13_SEG_SPORTWAGEN_5.0    0.363876\n",
       "EWDICHTE_6.0                0.337546\n",
       "PLZ8_ANTG3_3.0              0.199672\n",
       "KBA13_HERST_BMW_BENZ_5.0    0.170769\n",
       "PLZ8_ANTG1_1.0              0.137220\n",
       "SEMIO_DOM_6                 0.099572\n",
       "HH_EINKOMMEN_SCORE_6.0      0.092905\n",
       "SEMIO_VERT_1                0.055339\n",
       "FINANZTYP_4                 0.022611\n",
       "Name: mean, dtype: float64"
      ]
     },
     "execution_count": 80,
     "metadata": {},
     "output_type": "execute_result"
    }
   ],
   "source": [
    "np.abs(over_mean-under_mean).sort_values(ascending=False)"
   ]
  },
  {
   "cell_type": "markdown",
   "metadata": {},
   "source": [
    "## Part 2: Supervised Learning Model\n",
    "\n",
    "Now that you've found which parts of the population are more likely to be customers of the mail-order company, it's time to build a prediction model. Each of the rows in the \"MAILOUT\" data files represents an individual that was targeted for a mailout campaign. Ideally, we should be able to use the demographic information from each individual to decide whether or not it will be worth it to include that person in the campaign.\n",
    "\n",
    "The \"MAILOUT\" data has been split into two approximately equal parts, each with almost 43 000 data rows. In this part, you can verify your model with the \"TRAIN\" partition, which includes a column, \"RESPONSE\", that states whether or not a person became a customer of the company following the campaign. In the next part, you'll need to create predictions on the \"TEST\" partition, where the \"RESPONSE\" column has been withheld."
   ]
  },
  {
   "cell_type": "markdown",
   "metadata": {},
   "source": [
    "### Training Data Preprocessing"
   ]
  },
  {
   "cell_type": "code",
   "execution_count": 81,
   "metadata": {},
   "outputs": [
    {
     "name": "stderr",
     "output_type": "stream",
     "text": [
      "/home/ec2-user/anaconda3/envs/mxnet_p36/lib/python3.6/site-packages/IPython/core/interactiveshell.py:2785: DtypeWarning: Columns (19,20) have mixed types. Specify dtype option on import or set low_memory=False.\n",
      "  interactivity=interactivity, compiler=compiler, result=result)\n"
     ]
    }
   ],
   "source": [
    "mailout_train = pd.read_csv('data/Udacity_MAILOUT_052018_TRAIN.csv')"
   ]
  },
  {
   "cell_type": "code",
   "execution_count": 82,
   "metadata": {},
   "outputs": [],
   "source": [
    "mailout_train = mailout_train.drop('Unnamed: 0',axis = 1)"
   ]
  },
  {
   "cell_type": "code",
   "execution_count": 83,
   "metadata": {},
   "outputs": [
    {
     "name": "stdout",
     "output_type": "stream",
     "text": [
      "Total number of records: 42962\n",
      "Individuals who became customers: 532\n",
      "Individuals who did not become customers: 42430\n",
      "Percentage of individuals who became customers: 1.2383036171500394%\n"
     ]
    }
   ],
   "source": [
    "# Total number of records\n",
    "n_records = mailout_train.shape[0]\n",
    "\n",
    "# Number of records where the individual became a customer\n",
    "n_customer = mailout_train[mailout_train['RESPONSE'] == 1].shape[0]\n",
    "\n",
    "# Number of records where individual did not become a customer\n",
    "n_not_customer = mailout_train[mailout_train['RESPONSE'] == 0].shape[0]\n",
    "\n",
    "# Percentage of individuals who became customers\n",
    "customer_perc = (n_customer / n_records) * 100\n",
    "\n",
    "# Print the results\n",
    "print(\"Total number of records: {}\".format(n_records))\n",
    "print(\"Individuals who became customers: {}\".format(n_customer))\n",
    "print(\"Individuals who did not become customers: {}\".format(n_not_customer))\n",
    "print(\"Percentage of individuals who became customers: {}%\".format(customer_perc))\n"
   ]
  },
  {
   "cell_type": "code",
   "execution_count": 84,
   "metadata": {},
   "outputs": [
    {
     "data": {
      "text/plain": [
       "<matplotlib.axes._subplots.AxesSubplot at 0x7fc701f79a90>"
      ]
     },
     "execution_count": 84,
     "metadata": {},
     "output_type": "execute_result"
    },
    {
     "data": {
      "image/png": "[encoded data removed]",
      "text/plain": [
       "<Figure size 432x288 with 1 Axes>"
      ]
     },
     "metadata": {},
     "output_type": "display_data"
    }
   ],
   "source": [
    "sns.countplot(\"RESPONSE\",data=mailout_train)"
   ]
  },
  {
   "cell_type": "code",
   "execution_count": 85,
   "metadata": {},
   "outputs": [],
   "source": [
    "# Prepare the data using the function created earlier\n",
    "mailout_train_clean = clean_data(mailout_train)"
   ]
  },
  {
   "cell_type": "code",
   "execution_count": 86,
   "metadata": {},
   "outputs": [],
   "source": [
    "# Prepare the data using the function created earlier\n",
    "mailout_train_clean = clean_data(mailout_train)"
   ]
  },
  {
   "cell_type": "code",
   "execution_count": 87,
   "metadata": {},
   "outputs": [
    {
     "data": {
      "text/plain": [
       "3"
      ]
     },
     "execution_count": 87,
     "metadata": {},
     "output_type": "execute_result"
    }
   ],
   "source": [
    "mailout_train_clean.columns.get_loc(\"RESPONSE\")"
   ]
  },
  {
   "cell_type": "code",
   "execution_count": 88,
   "metadata": {},
   "outputs": [
    {
     "data": {
      "text/plain": [
       "(42962, 1088)"
      ]
     },
     "execution_count": 88,
     "metadata": {},
     "output_type": "execute_result"
    }
   ],
   "source": [
    "mailout_train_clean.shape"
   ]
  },
  {
   "cell_type": "code",
   "execution_count": 89,
   "metadata": {},
   "outputs": [],
   "source": [
    "# split into train/test\n",
    "def train_test_split(df, train_frac= 0.7, seed=1):\n",
    "    '''Shuffle the data and randomly split into train and test sets;\n",
    "       separate the class labels (the column in transaction_df) from the features.\n",
    "       :param df: Dataframe of all credit card transaction data\n",
    "       :param train_frac: The decimal fraction of data that should be training data\n",
    "       :param seed: Random seed for shuffling and reproducibility, default = 1\n",
    "       :return: Two tuples (in order): (train_features, train_labels), (test_features, test_labels)\n",
    "       '''\n",
    "    \n",
    "    # convert the df into a matrix for ease of splitting\n",
    "    df_matrix = df.as_matrix()\n",
    "    df.head()\n",
    "    # shuffle the data\n",
    "    np.random.seed(seed)\n",
    "    np.random.shuffle(df_matrix)\n",
    "    train_size = int(df_matrix.shape[0] * train_frac)\n",
    "    print(train_size)\n",
    "    final_df = pd.DataFrame(df_matrix)\n",
    "#     final_df.head()\n",
    "    # split the data\n",
    "    print(final_df.shape)\n",
    "    print(final_df.columns)\n",
    "#     print(final_df[212])\n",
    "#     print(train_size)\n",
    "    # features are all but response column\n",
    "    features= final_df.drop(columns = 3)\n",
    "    print(features.shape)\n",
    "    print(features.columns)\n",
    "    print(212 in features)\n",
    "    features_matrix = features.as_matrix()\n",
    "    train_features  = features_matrix[:train_size, :]\n",
    "    print(train_features.shape)\n",
    "    # class labels *are response column\n",
    "    labels = (final_df[3]).as_matrix()\n",
    "#     print(labels)\n",
    "    train_labels = labels[:train_size]\n",
    "    # test data\n",
    "    test_features = features_matrix[train_size:, :]\n",
    "    print(test_features.shape)\n",
    "    test_labels = labels[train_size:]\n",
    "    \n",
    "    return (train_features, train_labels), (test_features, test_labels)"
   ]
  },
  {
   "cell_type": "code",
   "execution_count": 90,
   "metadata": {},
   "outputs": [
    {
     "name": "stderr",
     "output_type": "stream",
     "text": [
      "/home/ec2-user/anaconda3/envs/mxnet_p36/lib/python3.6/site-packages/ipykernel/__main__.py:12: FutureWarning: Method .as_matrix will be removed in a future version. Use .values instead.\n"
     ]
    },
    {
     "name": "stdout",
     "output_type": "stream",
     "text": [
      "30073\n",
      "(42962, 1088)\n",
      "RangeIndex(start=0, stop=1088, step=1)\n",
      "(42962, 1087)\n",
      "Int64Index([   0,    1,    2,    4,    5,    6,    7,    8,    9,   10,\n",
      "            ...\n",
      "            1078, 1079, 1080, 1081, 1082, 1083, 1084, 1085, 1086, 1087],\n",
      "           dtype='int64', length=1087)\n",
      "True\n",
      "(30073, 1087)\n",
      "(12889, 1087)\n"
     ]
    },
    {
     "name": "stderr",
     "output_type": "stream",
     "text": [
      "/home/ec2-user/anaconda3/envs/mxnet_p36/lib/python3.6/site-packages/ipykernel/__main__.py:31: FutureWarning: Method .as_matrix will be removed in a future version. Use .values instead.\n",
      "/home/ec2-user/anaconda3/envs/mxnet_p36/lib/python3.6/site-packages/ipykernel/__main__.py:35: FutureWarning: Method .as_matrix will be removed in a future version. Use .values instead.\n"
     ]
    }
   ],
   "source": [
    "# get train/test data\n",
    "(train_features, train_labels), (test_features, test_labels) = train_test_split(mailout_train_clean, train_frac=0.7)"
   ]
  },
  {
   "cell_type": "code",
   "execution_count": 91,
   "metadata": {},
   "outputs": [
    {
     "name": "stdout",
     "output_type": "stream",
     "text": [
      "Training data pts:  30073\n",
      "Test data pts:  12889\n",
      "\n",
      "First item: \n",
      " [ 1. nan  2. ...  0.  5.  1.]\n",
      "Label:  0.0\n",
      "\n",
      "Tests passed!\n"
     ]
    }
   ],
   "source": [
    "# manual test\n",
    "\n",
    "# for a split of 0.7:0.3 there should be ~2.33x as many training as test pts\n",
    "print('Training data pts: ', len(train_features))\n",
    "print('Test data pts: ', len(test_features))\n",
    "print()\n",
    "\n",
    "# take a look at first item and see that it aligns with first row of data\n",
    "print('First item: \\n', train_features[0])\n",
    "print('Label: ', train_labels[0])\n",
    "print()\n",
    "\n",
    "# test split\n",
    "assert len(train_features) > 2.333*len(test_features), \\\n",
    "        'Unexpected number of train/test points for a train_frac=0.7'\n",
    "# test labels\n",
    "assert np.all(train_labels)== 0 or np.all(train_labels)== 1, \\\n",
    "        'Train labels should be 0s or 1s.'\n",
    "assert np.all(test_labels)== 0 or np.all(test_labels)== 1, \\\n",
    "        'Test labels should be 0s or 1s.'\n",
    "print('Tests passed!')\n"
   ]
  },
  {
   "cell_type": "code",
   "execution_count": 92,
   "metadata": {},
   "outputs": [
    {
     "data": {
      "text/plain": [
       "(30073, 1087)"
      ]
     },
     "execution_count": 92,
     "metadata": {},
     "output_type": "execute_result"
    }
   ],
   "source": [
    "train_features.shape"
   ]
  },
  {
   "cell_type": "code",
   "execution_count": 93,
   "metadata": {},
   "outputs": [],
   "source": [
    "from sklearn.preprocessing import StandardScaler\n",
    "from sklearn.impute import SimpleImputer\n",
    "imputer = SimpleImputer()\n",
    "scaler = StandardScaler()\n",
    "train_features_impute = imputer.fit_transform(train_features)\n",
    "train_features_scaled = scaler.fit_transform(train_features_impute)\n"
   ]
  },
  {
   "cell_type": "code",
   "execution_count": 94,
   "metadata": {},
   "outputs": [],
   "source": [
    "test_features_impute = imputer.transform(test_features)\n",
    "test_features_scaled = scaler.transform(test_features_impute)"
   ]
  },
  {
   "cell_type": "markdown",
   "metadata": {},
   "source": [
    "### AWS SageMaker"
   ]
  },
  {
   "cell_type": "code",
   "execution_count": 95,
   "metadata": {},
   "outputs": [],
   "source": [
    "import boto3\n",
    "import sagemaker\n",
    "from sagemaker import get_execution_role\n"
   ]
  },
  {
   "cell_type": "code",
   "execution_count": 96,
   "metadata": {},
   "outputs": [],
   "source": [
    "# sagemaker session, role\n",
    "sagemaker_session = sagemaker.Session()\n",
    "role = sagemaker.get_execution_role()\n",
    "\n",
    "# S3 bucket name\n",
    "bucket = sagemaker_session.default_bucket()"
   ]
  },
  {
   "cell_type": "code",
   "execution_count": 97,
   "metadata": {},
   "outputs": [],
   "source": [
    "# import LinearLearner\n",
    "from sagemaker import LinearLearner\n",
    "\n",
    "# specify an output path\n",
    "prefix = 'capstone_classification'\n",
    "output_path = 's3://{}/{}'.format(bucket, prefix)\n",
    "\n",
    "# instantiate LinearLearner\n",
    "linear = LinearLearner(role=role,\n",
    "                       train_instance_count=1, \n",
    "                       train_instance_type='ml.c4.xlarge',\n",
    "                       predictor_type='binary_classifier',\n",
    "                       output_path=output_path,\n",
    "                       sagemaker_session=sagemaker_session,\n",
    "                       epochs=5,\n",
    "                       binary_classifier_model_selection_criteria='precision_at_target_recall', # target recall\n",
    "                       target_recall=0.9,\n",
    "#                        binary_classifier_model_selection_criteria='accuracy',\n",
    "                       positive_example_weight_mult='balanced')"
   ]
  },
  {
   "cell_type": "code",
   "execution_count": 98,
   "metadata": {},
   "outputs": [],
   "source": [
    "# convert features/labels to numpy\n",
    "train_x_np = train_features_scaled.astype('float32')\n",
    "train_y_np = train_labels.astype('float32')\n",
    "\n",
    "# create RecordSet\n",
    "formatted_train_data = linear.record_set(train_x_np, labels=train_y_np)"
   ]
  },
  {
   "cell_type": "markdown",
   "metadata": {},
   "source": [
    "### Training Model"
   ]
  },
  {
   "cell_type": "code",
   "execution_count": 99,
   "metadata": {},
   "outputs": [
    {
     "name": "stdout",
     "output_type": "stream",
     "text": [
      "2019-10-17 19:45:48 Starting - Starting the training job...\n",
      "2019-10-17 19:45:49 Starting - Launching requested ML instances...\n",
      "2019-10-17 19:46:43 Starting - Preparing the instances for training......\n",
      "2019-10-17 19:47:45 Downloading - Downloading input data\n",
      "2019-10-17 19:47:45 Training - Downloading the training image...\n",
      "2019-10-17 19:48:15 Training - Training image download completed. Training in progress..\u001b[31mDocker entrypoint called with argument(s): train\u001b[0m\n",
      "\u001b[31m[10/17/2019 19:48:18 INFO 140451551082304] Reading default configuration from /opt/amazon/lib/python2.7/site-packages/algorithm/resources/default-input.json: {u'loss_insensitivity': u'0.01', u'epochs': u'15', u'init_bias': u'0.0', u'lr_scheduler_factor': u'auto', u'num_calibration_samples': u'10000000', u'accuracy_top_k': u'3', u'_num_kv_servers': u'auto', u'use_bias': u'true', u'num_point_for_scaler': u'10000', u'_log_level': u'info', u'quantile': u'0.5', u'bias_lr_mult': u'auto', u'lr_scheduler_step': u'auto', u'init_method': u'uniform', u'init_sigma': u'0.01', u'lr_scheduler_minimum_lr': u'auto', u'target_recall': u'0.8', u'num_models': u'auto', u'early_stopping_patience': u'3', u'momentum': u'auto', u'unbias_label': u'auto', u'wd': u'auto', u'optimizer': u'auto', u'_tuning_objective_metric': u'', u'early_stopping_tolerance': u'0.001', u'learning_rate': u'auto', u'_kvstore': u'auto', u'normalize_data': u'true', u'binary_classifier_model_selection_criteria': u'accuracy', u'use_lr_scheduler': u'true', u'target_precision': u'0.8', u'unbias_data': u'auto', u'init_scale': u'0.07', u'bias_wd_mult': u'auto', u'f_beta': u'1.0', u'mini_batch_size': u'1000', u'huber_delta': u'1.0', u'num_classes': u'1', u'beta_1': u'auto', u'loss': u'auto', u'beta_2': u'auto', u'_enable_profiler': u'false', u'normalize_label': u'auto', u'_num_gpus': u'auto', u'balance_multiclass_weights': u'false', u'positive_example_weight_mult': u'1.0', u'l1': u'auto', u'margin': u'1.0'}\u001b[0m\n",
      "\u001b[31m[10/17/2019 19:48:18 INFO 140451551082304] Reading provided configuration from /opt/ml/input/config/hyperparameters.json: {u'predictor_type': u'binary_classifier', u'feature_dim': u'1087', u'binary_classifier_model_selection_criteria': u'precision_at_target_recall', u'epochs': u'5', u'positive_example_weight_mult': u'balanced', u'target_recall': u'0.9', u'mini_batch_size': u'1000'}\u001b[0m\n",
      "\u001b[31m[10/17/2019 19:48:18 INFO 140451551082304] Final configuration: {u'loss_insensitivity': u'0.01', u'epochs': u'5', u'feature_dim': u'1087', u'init_bias': u'0.0', u'lr_scheduler_factor': u'auto', u'num_calibration_samples': u'10000000', u'accuracy_top_k': u'3', u'_num_kv_servers': u'auto', u'use_bias': u'true', u'num_point_for_scaler': u'10000', u'_log_level': u'info', u'quantile': u'0.5', u'bias_lr_mult': u'auto', u'lr_scheduler_step': u'auto', u'init_method': u'uniform', u'init_sigma': u'0.01', u'lr_scheduler_minimum_lr': u'auto', u'target_recall': u'0.9', u'num_models': u'auto', u'early_stopping_patience': u'3', u'momentum': u'auto', u'unbias_label': u'auto', u'wd': u'auto', u'optimizer': u'auto', u'_tuning_objective_metric': u'', u'early_stopping_tolerance': u'0.001', u'learning_rate': u'auto', u'_kvstore': u'auto', u'normalize_data': u'true', u'binary_classifier_model_selection_criteria': u'precision_at_target_recall', u'use_lr_scheduler': u'true', u'target_precision': u'0.8', u'unbias_data': u'auto', u'init_scale': u'0.07', u'bias_wd_mult': u'auto', u'f_beta': u'1.0', u'mini_batch_size': u'1000', u'huber_delta': u'1.0', u'num_classes': u'1', u'predictor_type': u'binary_classifier', u'beta_1': u'auto', u'loss': u'auto', u'beta_2': u'auto', u'_enable_profiler': u'false', u'normalize_label': u'auto', u'_num_gpus': u'auto', u'balance_multiclass_weights': u'false', u'positive_example_weight_mult': u'balanced', u'l1': u'auto', u'margin': u'1.0'}\u001b[0m\n",
      "\u001b[31m[10/17/2019 19:48:18 WARNING 140451551082304] Loggers have already been setup.\u001b[0m\n",
      "\u001b[31mProcess 1 is a worker.\u001b[0m\n",
      "\u001b[31m[10/17/2019 19:48:18 INFO 140451551082304] Using default worker.\u001b[0m\n",
      "\u001b[31m[2019-10-17 19:48:18.508] [tensorio] [info] epoch_stats={\"data_pipeline\": \"/opt/ml/input/data/train\", \"epoch\": 0, \"duration\": 44, \"num_examples\": 1, \"num_bytes\": 4396000}\u001b[0m\n",
      "\u001b[31m[10/17/2019 19:48:18 INFO 140451551082304] Create Store: local\u001b[0m\n",
      "\u001b[31m[2019-10-17 19:48:18.911] [tensorio] [info] epoch_stats={\"data_pipeline\": \"/opt/ml/input/data/train\", \"epoch\": 1, \"duration\": 401, \"num_examples\": 11, \"num_bytes\": 48356000}\u001b[0m\n",
      "\u001b[31m[10/17/2019 19:48:18 INFO 140451551082304] Scaler algorithm parameters\n",
      " <algorithm.scaler.ScalerAlgorithmStable object at 0x7fbd0f832510>\u001b[0m\n",
      "\u001b[31m[10/17/2019 19:48:18 INFO 140451551082304] Scaling model computed with parameters:\n",
      " {'stdev_weight': \u001b[0m\n",
      "\u001b[31m[0.9960141  0.9891344  0.99796546 ... 0.9881493  0.99614686 0.9883607 ]\u001b[0m\n",
      "\u001b[31m<NDArray 1087 @cpu(0)>, 'stdev_label': None, 'mean_label': None, 'mean_weight': \u001b[0m\n",
      "\u001b[31m[-0.00080126 -0.00910564  0.01238162 ... -0.00101952 -0.00218105\n",
      " -0.02134311]\u001b[0m\n",
      "\u001b[31m<NDArray 1087 @cpu(0)>}\u001b[0m\n",
      "\u001b[31m[10/17/2019 19:48:18 INFO 140451551082304] nvidia-smi took: 0.0252578258514 secs to identify 0 gpus\u001b[0m\n",
      "\u001b[31m[10/17/2019 19:48:18 INFO 140451551082304] Number of GPUs being used: 0\u001b[0m\n",
      "\u001b[31m#metrics {\"Metrics\": {\"Max Batches Seen Between Resets\": {\"count\": 1, \"max\": 11, \"sum\": 11.0, \"min\": 11}, \"Number of Batches Since Last Reset\": {\"count\": 1, \"max\": 0, \"sum\": 0.0, \"min\": 0}, \"Number of Records Since Last Reset\": {\"count\": 1, \"max\": 0, \"sum\": 0.0, \"min\": 0}, \"Total Batches Seen\": {\"count\": 1, \"max\": 12, \"sum\": 12.0, \"min\": 12}, \"Total Records Seen\": {\"count\": 1, \"max\": 12000, \"sum\": 12000.0, \"min\": 12000}, \"Max Records Seen Between Resets\": {\"count\": 1, \"max\": 11000, \"sum\": 11000.0, \"min\": 11000}, \"Reset Count\": {\"count\": 1, \"max\": 2, \"sum\": 2.0, \"min\": 2}}, \"EndTime\": 1571341699.077297, \"Dimensions\": {\"Host\": \"algo-1\", \"Meta\": \"init_train_data_iter\", \"Operation\": \"training\", \"Algorithm\": \"Linear Learner\"}, \"StartTime\": 1571341699.077257}\n",
      "\u001b[0m\n",
      "\u001b[31m[2019-10-17 19:48:20.407] [tensorio] [info] epoch_stats={\"data_pipeline\": \"/opt/ml/input/data/train\", \"epoch\": 3, \"duration\": 1330, \"num_examples\": 31, \"num_bytes\": 132200908}\u001b[0m\n",
      "\u001b[31m#metrics {\"Metrics\": {\"train_binary_classification_weighted_cross_entropy_objective\": {\"count\": 1, \"max\": 1.7196489827473957, \"sum\": 1.7196489827473957, \"min\": 1.7196489827473957}}, \"EndTime\": 1571341700.407985, \"Dimensions\": {\"model\": 0, \"Host\": \"algo-1\", \"Operation\": \"training\", \"Algorithm\": \"Linear Learner\", \"epoch\": 0}, \"StartTime\": 1571341700.407862}\n",
      "\u001b[0m\n",
      "\u001b[31m#metrics {\"Metrics\": {\"train_binary_classification_weighted_cross_entropy_objective\": {\"count\": 1, \"max\": 1.7327736612955729, \"sum\": 1.7327736612955729, \"min\": 1.7327736612955729}}, \"EndTime\": 1571341700.408104, \"Dimensions\": {\"model\": 1, \"Host\": \"algo-1\", \"Operation\": \"training\", \"Algorithm\": \"Linear Learner\", \"epoch\": 0}, \"StartTime\": 1571341700.408084}\n",
      "\u001b[0m\n",
      "\u001b[31m#metrics {\"Metrics\": {\"train_binary_classification_weighted_cross_entropy_objective\": {\"count\": 1, \"max\": 1.7581271118164064, \"sum\": 1.7581271118164064, \"min\": 1.7581271118164064}}, \"EndTime\": 1571341700.40817, \"Dimensions\": {\"model\": 2, \"Host\": \"algo-1\", \"Operation\": \"training\", \"Algorithm\": \"Linear Learner\", \"epoch\": 0}, \"StartTime\": 1571341700.408156}\n",
      "\u001b[0m\n",
      "\u001b[31m#metrics {\"Metrics\": {\"train_binary_classification_weighted_cross_entropy_objective\": {\"count\": 1, \"max\": 1.8071523681640624, \"sum\": 1.8071523681640624, \"min\": 1.8071523681640624}}, \"EndTime\": 1571341700.408234, \"Dimensions\": {\"model\": 3, \"Host\": \"algo-1\", \"Operation\": \"training\", \"Algorithm\": \"Linear Learner\", \"epoch\": 0}, \"StartTime\": 1571341700.408215}\n",
      "\u001b[0m\n",
      "\u001b[31m#metrics {\"Metrics\": {\"train_binary_classification_weighted_cross_entropy_objective\": {\"count\": 1, \"max\": 11.925097184244791, \"sum\": 11.925097184244791, \"min\": 11.925097184244791}}, \"EndTime\": 1571341700.408298, \"Dimensions\": {\"model\": 4, \"Host\": \"algo-1\", \"Operation\": \"training\", \"Algorithm\": \"Linear Learner\", \"epoch\": 0}, \"StartTime\": 1571341700.40828}\n",
      "\u001b[0m\n",
      "\u001b[31m#metrics {\"Metrics\": {\"train_binary_classification_weighted_cross_entropy_objective\": {\"count\": 1, \"max\": 8.754486051432291, \"sum\": 8.754486051432291, \"min\": 8.754486051432291}}, \"EndTime\": 1571341700.408382, \"Dimensions\": {\"model\": 5, \"Host\": \"algo-1\", \"Operation\": \"training\", \"Algorithm\": \"Linear Learner\", \"epoch\": 0}, \"StartTime\": 1571341700.408365}\n",
      "\u001b[0m\n",
      "\u001b[31m#metrics {\"Metrics\": {\"train_binary_classification_weighted_cross_entropy_objective\": {\"count\": 1, \"max\": 8.973127376302083, \"sum\": 8.973127376302083, \"min\": 8.973127376302083}}, \"EndTime\": 1571341700.408442, \"Dimensions\": {\"model\": 6, \"Host\": \"algo-1\", \"Operation\": \"training\", \"Algorithm\": \"Linear Learner\", \"epoch\": 0}, \"StartTime\": 1571341700.408427}\n",
      "\u001b[0m\n",
      "\u001b[31m#metrics {\"Metrics\": {\"train_binary_classification_weighted_cross_entropy_objective\": {\"count\": 1, \"max\": 12.143216247558593, \"sum\": 12.143216247558593, \"min\": 12.143216247558593}}, \"EndTime\": 1571341700.40849, \"Dimensions\": {\"model\": 7, \"Host\": \"algo-1\", \"Operation\": \"training\", \"Algorithm\": \"Linear Learner\", \"epoch\": 0}, \"StartTime\": 1571341700.408479}\n",
      "\u001b[0m\n",
      "\u001b[31m#metrics {\"Metrics\": {\"train_binary_classification_weighted_cross_entropy_objective\": {\"count\": 1, \"max\": 1.7297001749674479, \"sum\": 1.7297001749674479, \"min\": 1.7297001749674479}}, \"EndTime\": 1571341700.408539, \"Dimensions\": {\"model\": 8, \"Host\": \"algo-1\", \"Operation\": \"training\", \"Algorithm\": \"Linear Learner\", \"epoch\": 0}, \"StartTime\": 1571341700.408523}\n",
      "\u001b[0m\n",
      "\u001b[31m#metrics {\"Metrics\": {\"train_binary_classification_weighted_cross_entropy_objective\": {\"count\": 1, \"max\": 1.7997191772460936, \"sum\": 1.7997191772460936, \"min\": 1.7997191772460936}}, \"EndTime\": 1571341700.408599, \"Dimensions\": {\"model\": 9, \"Host\": \"algo-1\", \"Operation\": \"training\", \"Algorithm\": \"Linear Learner\", \"epoch\": 0}, \"StartTime\": 1571341700.408587}\n",
      "\u001b[0m\n",
      "\u001b[31m#metrics {\"Metrics\": {\"train_binary_classification_weighted_cross_entropy_objective\": {\"count\": 1, \"max\": 1.7406462117513022, \"sum\": 1.7406462117513022, \"min\": 1.7406462117513022}}, \"EndTime\": 1571341700.408661, \"Dimensions\": {\"model\": 10, \"Host\": \"algo-1\", \"Operation\": \"training\", \"Algorithm\": \"Linear Learner\", \"epoch\": 0}, \"StartTime\": 1571341700.408643}\n",
      "\u001b[0m\n",
      "\u001b[31m#metrics {\"Metrics\": {\"train_binary_classification_weighted_cross_entropy_objective\": {\"count\": 1, \"max\": 1.7745051106770833, \"sum\": 1.7745051106770833, \"min\": 1.7745051106770833}}, \"EndTime\": 1571341700.408731, \"Dimensions\": {\"model\": 11, \"Host\": \"algo-1\", \"Operation\": \"training\", \"Algorithm\": \"Linear Learner\", \"epoch\": 0}, \"StartTime\": 1571341700.408711}\n",
      "\u001b[0m\n",
      "\u001b[31m#metrics {\"Metrics\": {\"train_binary_classification_weighted_cross_entropy_objective\": {\"count\": 1, \"max\": 8.922269999186199, \"sum\": 8.922269999186199, \"min\": 8.922269999186199}}, \"EndTime\": 1571341700.408793, \"Dimensions\": {\"model\": 12, \"Host\": \"algo-1\", \"Operation\": \"training\", \"Algorithm\": \"Linear Learner\", \"epoch\": 0}, \"StartTime\": 1571341700.408776}\n",
      "\u001b[0m\n",
      "\u001b[31m#metrics {\"Metrics\": {\"train_binary_classification_weighted_cross_entropy_objective\": {\"count\": 1, \"max\": 12.341902172851562, \"sum\": 12.341902172851562, \"min\": 12.341902172851562}}, \"EndTime\": 1571341700.408854, \"Dimensions\": {\"model\": 13, \"Host\": \"algo-1\", \"Operation\": \"training\", \"Algorithm\": \"Linear Learner\", \"epoch\": 0}, \"StartTime\": 1571341700.408836}\n",
      "\u001b[0m\n",
      "\u001b[31m#metrics {\"Metrics\": {\"train_binary_classification_weighted_cross_entropy_objective\": {\"count\": 1, \"max\": 12.2706205078125, \"sum\": 12.2706205078125, \"min\": 12.2706205078125}}, \"EndTime\": 1571341700.408923, \"Dimensions\": {\"model\": 14, \"Host\": \"algo-1\", \"Operation\": \"training\", \"Algorithm\": \"Linear Learner\", \"epoch\": 0}, \"StartTime\": 1571341700.408905}\n",
      "\u001b[0m\n",
      "\u001b[31m#metrics {\"Metrics\": {\"train_binary_classification_weighted_cross_entropy_objective\": {\"count\": 1, \"max\": 12.003465592447917, \"sum\": 12.003465592447917, \"min\": 12.003465592447917}}, \"EndTime\": 1571341700.408983, \"Dimensions\": {\"model\": 15, \"Host\": \"algo-1\", \"Operation\": \"training\", \"Algorithm\": \"Linear Learner\", \"epoch\": 0}, \"StartTime\": 1571341700.408966}\n",
      "\u001b[0m\n",
      "\u001b[31m#metrics {\"Metrics\": {\"train_binary_classification_weighted_cross_entropy_objective\": {\"count\": 1, \"max\": 1.6132978393554687, \"sum\": 1.6132978393554687, \"min\": 1.6132978393554687}}, \"EndTime\": 1571341700.409044, \"Dimensions\": {\"model\": 16, \"Host\": \"algo-1\", \"Operation\": \"training\", \"Algorithm\": \"Linear Learner\", \"epoch\": 0}, \"StartTime\": 1571341700.409026}\n",
      "\u001b[0m\n",
      "\u001b[31m#metrics {\"Metrics\": {\"train_binary_classification_weighted_cross_entropy_objective\": {\"count\": 1, \"max\": 1.5808140991210937, \"sum\": 1.5808140991210937, \"min\": 1.5808140991210937}}, \"EndTime\": 1571341700.409122, \"Dimensions\": {\"model\": 17, \"Host\": \"algo-1\", \"Operation\": \"training\", \"Algorithm\": \"Linear Learner\", \"epoch\": 0}, \"StartTime\": 1571341700.409087}\n",
      "\u001b[0m\n",
      "\u001b[31m#metrics {\"Metrics\": {\"train_binary_classification_weighted_cross_entropy_objective\": {\"count\": 1, \"max\": 1.5316048461914062, \"sum\": 1.5316048461914062, \"min\": 1.5316048461914062}}, \"EndTime\": 1571341700.409193, \"Dimensions\": {\"model\": 18, \"Host\": \"algo-1\", \"Operation\": \"training\", \"Algorithm\": \"Linear Learner\", \"epoch\": 0}, \"StartTime\": 1571341700.409175}\n",
      "\u001b[0m\n",
      "\u001b[31m#metrics {\"Metrics\": {\"train_binary_classification_weighted_cross_entropy_objective\": {\"count\": 1, \"max\": 1.6091616455078126, \"sum\": 1.6091616455078126, \"min\": 1.6091616455078126}}, \"EndTime\": 1571341700.409265, \"Dimensions\": {\"model\": 19, \"Host\": \"algo-1\", \"Operation\": \"training\", \"Algorithm\": \"Linear Learner\", \"epoch\": 0}, \"StartTime\": 1571341700.409245}\n",
      "\u001b[0m\n",
      "\u001b[31m#metrics {\"Metrics\": {\"train_binary_classification_weighted_cross_entropy_objective\": {\"count\": 1, \"max\": 3.593188448079427, \"sum\": 3.593188448079427, \"min\": 3.593188448079427}}, \"EndTime\": 1571341700.409336, \"Dimensions\": {\"model\": 20, \"Host\": \"algo-1\", \"Operation\": \"training\", \"Algorithm\": \"Linear Learner\", \"epoch\": 0}, \"StartTime\": 1571341700.409318}\n",
      "\u001b[0m\n",
      "\u001b[31m#metrics {\"Metrics\": {\"train_binary_classification_weighted_cross_entropy_objective\": {\"count\": 1, \"max\": 3.9375178466796874, \"sum\": 3.9375178466796874, \"min\": 3.9375178466796874}}, \"EndTime\": 1571341700.409404, \"Dimensions\": {\"model\": 21, \"Host\": \"algo-1\", \"Operation\": \"training\", \"Algorithm\": \"Linear Learner\", \"epoch\": 0}, \"StartTime\": 1571341700.409386}\n",
      "\u001b[0m\n",
      "\u001b[31m#metrics {\"Metrics\": {\"train_binary_classification_weighted_cross_entropy_objective\": {\"count\": 1, \"max\": 3.9040010660807294, \"sum\": 3.9040010660807294, \"min\": 3.9040010660807294}}, \"EndTime\": 1571341700.409477, \"Dimensions\": {\"model\": 22, \"Host\": \"algo-1\", \"Operation\": \"training\", \"Algorithm\": \"Linear Learner\", \"epoch\": 0}, \"StartTime\": 1571341700.409458}\n",
      "\u001b[0m\n",
      "\u001b[31m#metrics {\"Metrics\": {\"train_binary_classification_weighted_cross_entropy_objective\": {\"count\": 1, \"max\": 4.738146126302083, \"sum\": 4.738146126302083, \"min\": 4.738146126302083}}, \"EndTime\": 1571341700.409538, \"Dimensions\": {\"model\": 23, \"Host\": \"algo-1\", \"Operation\": \"training\", \"Algorithm\": \"Linear Learner\", \"epoch\": 0}, \"StartTime\": 1571341700.409521}\n",
      "\u001b[0m\n",
      "\u001b[31m#metrics {\"Metrics\": {\"train_binary_classification_weighted_cross_entropy_objective\": {\"count\": 1, \"max\": 1.4764650919596354, \"sum\": 1.4764650919596354, \"min\": 1.4764650919596354}}, \"EndTime\": 1571341700.409603, \"Dimensions\": {\"model\": 24, \"Host\": \"algo-1\", \"Operation\": \"training\", \"Algorithm\": \"Linear Learner\", \"epoch\": 0}, \"StartTime\": 1571341700.409587}\n",
      "\u001b[0m\n",
      "\u001b[31m#metrics {\"Metrics\": {\"train_binary_classification_weighted_cross_entropy_objective\": {\"count\": 1, \"max\": 1.4687395385742188, \"sum\": 1.4687395385742188, \"min\": 1.4687395385742188}}, \"EndTime\": 1571341700.409672, \"Dimensions\": {\"model\": 25, \"Host\": \"algo-1\", \"Operation\": \"training\", \"Algorithm\": \"Linear Learner\", \"epoch\": 0}, \"StartTime\": 1571341700.409653}\n",
      "\u001b[0m\n",
      "\u001b[31m#metrics {\"Metrics\": {\"train_binary_classification_weighted_cross_entropy_objective\": {\"count\": 1, \"max\": 1.4618762858072916, \"sum\": 1.4618762858072916, \"min\": 1.4618762858072916}}, \"EndTime\": 1571341700.409734, \"Dimensions\": {\"model\": 26, \"Host\": \"algo-1\", \"Operation\": \"training\", \"Algorithm\": \"Linear Learner\", \"epoch\": 0}, \"StartTime\": 1571341700.409717}\n",
      "\u001b[0m\n",
      "\u001b[31m#metrics {\"Metrics\": {\"train_binary_classification_weighted_cross_entropy_objective\": {\"count\": 1, \"max\": 1.439354109700521, \"sum\": 1.439354109700521, \"min\": 1.439354109700521}}, \"EndTime\": 1571341700.409794, \"Dimensions\": {\"model\": 27, \"Host\": \"algo-1\", \"Operation\": \"training\", \"Algorithm\": \"Linear Learner\", \"epoch\": 0}, \"StartTime\": 1571341700.409776}\n",
      "\u001b[0m\n",
      "\u001b[31m#metrics {\"Metrics\": {\"train_binary_classification_weighted_cross_entropy_objective\": {\"count\": 1, \"max\": 1.6631760864257812, \"sum\": 1.6631760864257812, \"min\": 1.6631760864257812}}, \"EndTime\": 1571341700.409865, \"Dimensions\": {\"model\": 28, \"Host\": \"algo-1\", \"Operation\": \"training\", \"Algorithm\": \"Linear Learner\", \"epoch\": 0}, \"StartTime\": 1571341700.409846}\n",
      "\u001b[0m\n",
      "\u001b[31m#metrics {\"Metrics\": {\"train_binary_classification_weighted_cross_entropy_objective\": {\"count\": 1, \"max\": 1.5930248819986979, \"sum\": 1.5930248819986979, \"min\": 1.5930248819986979}}, \"EndTime\": 1571341700.409933, \"Dimensions\": {\"model\": 29, \"Host\": \"algo-1\", \"Operation\": \"training\", \"Algorithm\": \"Linear Learner\", \"epoch\": 0}, \"StartTime\": 1571341700.409916}\n",
      "\u001b[0m\n",
      "\u001b[31m#metrics {\"Metrics\": {\"train_binary_classification_weighted_cross_entropy_objective\": {\"count\": 1, \"max\": 1.5983029459635416, \"sum\": 1.5983029459635416, \"min\": 1.5983029459635416}}, \"EndTime\": 1571341700.410001, \"Dimensions\": {\"model\": 30, \"Host\": \"algo-1\", \"Operation\": \"training\", \"Algorithm\": \"Linear Learner\", \"epoch\": 0}, \"StartTime\": 1571341700.409982}\n",
      "\u001b[0m\n",
      "\u001b[31m#metrics {\"Metrics\": {\"train_binary_classification_weighted_cross_entropy_objective\": {\"count\": 1, \"max\": 1.6346268880208332, \"sum\": 1.6346268880208332, \"min\": 1.6346268880208332}}, \"EndTime\": 1571341700.410069, \"Dimensions\": {\"model\": 31, \"Host\": \"algo-1\", \"Operation\": \"training\", \"Algorithm\": \"Linear Learner\", \"epoch\": 0}, \"StartTime\": 1571341700.410051}\n",
      "\u001b[0m\n",
      "\u001b[31m[10/17/2019 19:48:20 INFO 140451551082304] #quality_metric: host=algo-1, epoch=0, train binary_classification_weighted_cross_entropy_objective <loss>=1.71964898275\u001b[0m\n",
      "\u001b[31m[10/17/2019 19:48:20 INFO 140451551082304] #early_stopping_criteria_metric: host=algo-1, epoch=0, criteria=binary_classification_weighted_cross_entropy_objective, value=1.4393541097\u001b[0m\n",
      "\u001b[31m[10/17/2019 19:48:20 INFO 140451551082304] Epoch 0: Loss improved. Updating best model\u001b[0m\n",
      "\u001b[31m[10/17/2019 19:48:20 INFO 140451551082304] #progress_metric: host=algo-1, completed 20 % of epochs\u001b[0m\n",
      "\u001b[31m#metrics {\"Metrics\": {\"Max Batches Seen Between Resets\": {\"count\": 1, \"max\": 31, \"sum\": 31.0, \"min\": 31}, \"Number of Batches Since Last Reset\": {\"count\": 1, \"max\": 31, \"sum\": 31.0, \"min\": 31}, \"Number of Records Since Last Reset\": {\"count\": 1, \"max\": 30073, \"sum\": 30073.0, \"min\": 30073}, \"Total Batches Seen\": {\"count\": 1, \"max\": 43, \"sum\": 43.0, \"min\": 43}, \"Total Records Seen\": {\"count\": 1, \"max\": 42073, \"sum\": 42073.0, \"min\": 42073}, \"Max Records Seen Between Resets\": {\"count\": 1, \"max\": 30073, \"sum\": 30073.0, \"min\": 30073}, \"Reset Count\": {\"count\": 1, \"max\": 3, \"sum\": 3.0, \"min\": 3}}, \"EndTime\": 1571341700.413755, \"Dimensions\": {\"Host\": \"algo-1\", \"Meta\": \"training_data_iter\", \"Operation\": \"training\", \"Algorithm\": \"Linear Learner\", \"epoch\": 0}, \"StartTime\": 1571341699.077518}\n",
      "\u001b[0m\n",
      "\u001b[31m[10/17/2019 19:48:20 INFO 140451551082304] #throughput_metric: host=algo-1, train throughput=22503.6991707 records/second\u001b[0m\n",
      "\u001b[31m[2019-10-17 19:48:21.805] [tensorio] [info] epoch_stats={\"data_pipeline\": \"/opt/ml/input/data/train\", \"epoch\": 5, \"duration\": 1389, \"num_examples\": 31, \"num_bytes\": 132200908}\u001b[0m\n",
      "\u001b[31m#metrics {\"Metrics\": {\"train_binary_classification_weighted_cross_entropy_objective\": {\"count\": 1, \"max\": 1.2057904988606771, \"sum\": 1.2057904988606771, \"min\": 1.2057904988606771}}, \"EndTime\": 1571341701.80592, \"Dimensions\": {\"model\": 0, \"Host\": \"algo-1\", \"Operation\": \"training\", \"Algorithm\": \"Linear Learner\", \"epoch\": 1}, \"StartTime\": 1571341701.805791}\n",
      "\u001b[0m\n",
      "\u001b[31m#metrics {\"Metrics\": {\"train_binary_classification_weighted_cross_entropy_objective\": {\"count\": 1, \"max\": 1.20049775390625, \"sum\": 1.20049775390625, \"min\": 1.20049775390625}}, \"EndTime\": 1571341701.806038, \"Dimensions\": {\"model\": 1, \"Host\": \"algo-1\", \"Operation\": \"training\", \"Algorithm\": \"Linear Learner\", \"epoch\": 1}, \"StartTime\": 1571341701.806015}\n",
      "\u001b[0m\n",
      "\u001b[31m#metrics {\"Metrics\": {\"train_binary_classification_weighted_cross_entropy_objective\": {\"count\": 1, \"max\": 1.2136552876790365, \"sum\": 1.2136552876790365, \"min\": 1.2136552876790365}}, \"EndTime\": 1571341701.806109, \"Dimensions\": {\"model\": 2, \"Host\": \"algo-1\", \"Operation\": \"training\", \"Algorithm\": \"Linear Learner\", \"epoch\": 1}, \"StartTime\": 1571341701.806091}\n",
      "\u001b[0m\n",
      "\u001b[31m#metrics {\"Metrics\": {\"train_binary_classification_weighted_cross_entropy_objective\": {\"count\": 1, \"max\": 1.2339204833984374, \"sum\": 1.2339204833984374, \"min\": 1.2339204833984374}}, \"EndTime\": 1571341701.806171, \"Dimensions\": {\"model\": 3, \"Host\": \"algo-1\", \"Operation\": \"training\", \"Algorithm\": \"Linear Learner\", \"epoch\": 1}, \"StartTime\": 1571341701.806153}\n",
      "\u001b[0m\n",
      "\u001b[31m#metrics {\"Metrics\": {\"train_binary_classification_weighted_cross_entropy_objective\": {\"count\": 1, \"max\": 12.541607291666667, \"sum\": 12.541607291666667, \"min\": 12.541607291666667}}, \"EndTime\": 1571341701.806229, \"Dimensions\": {\"model\": 4, \"Host\": \"algo-1\", \"Operation\": \"training\", \"Algorithm\": \"Linear Learner\", \"epoch\": 1}, \"StartTime\": 1571341701.806213}\n",
      "\u001b[0m\n",
      "\u001b[31m#metrics {\"Metrics\": {\"train_binary_classification_weighted_cross_entropy_objective\": {\"count\": 1, \"max\": 8.565858154296874, \"sum\": 8.565858154296874, \"min\": 8.565858154296874}}, \"EndTime\": 1571341701.806289, \"Dimensions\": {\"model\": 5, \"Host\": \"algo-1\", \"Operation\": \"training\", \"Algorithm\": \"Linear Learner\", \"epoch\": 1}, \"StartTime\": 1571341701.806273}\n",
      "\u001b[0m\n",
      "\u001b[31m#metrics {\"Metrics\": {\"train_binary_classification_weighted_cross_entropy_objective\": {\"count\": 1, \"max\": 8.632314225260417, \"sum\": 8.632314225260417, \"min\": 8.632314225260417}}, \"EndTime\": 1571341701.806351, \"Dimensions\": {\"model\": 6, \"Host\": \"algo-1\", \"Operation\": \"training\", \"Algorithm\": \"Linear Learner\", \"epoch\": 1}, \"StartTime\": 1571341701.806332}\n",
      "\u001b[0m\n",
      "\u001b[31m#metrics {\"Metrics\": {\"train_binary_classification_weighted_cross_entropy_objective\": {\"count\": 1, \"max\": 12.296757389322917, \"sum\": 12.296757389322917, \"min\": 12.296757389322917}}, \"EndTime\": 1571341701.806413, \"Dimensions\": {\"model\": 7, \"Host\": \"algo-1\", \"Operation\": \"training\", \"Algorithm\": \"Linear Learner\", \"epoch\": 1}, \"StartTime\": 1571341701.806394}\n",
      "\u001b[0m\n",
      "\u001b[31m#metrics {\"Metrics\": {\"train_binary_classification_weighted_cross_entropy_objective\": {\"count\": 1, \"max\": 1.210571162923177, \"sum\": 1.210571162923177, \"min\": 1.210571162923177}}, \"EndTime\": 1571341701.806471, \"Dimensions\": {\"model\": 8, \"Host\": \"algo-1\", \"Operation\": \"training\", \"Algorithm\": \"Linear Learner\", \"epoch\": 1}, \"StartTime\": 1571341701.806455}\n",
      "\u001b[0m\n",
      "\u001b[31m#metrics {\"Metrics\": {\"train_binary_classification_weighted_cross_entropy_objective\": {\"count\": 1, \"max\": 1.222466776529948, \"sum\": 1.222466776529948, \"min\": 1.222466776529948}}, \"EndTime\": 1571341701.806527, \"Dimensions\": {\"model\": 9, \"Host\": \"algo-1\", \"Operation\": \"training\", \"Algorithm\": \"Linear Learner\", \"epoch\": 1}, \"StartTime\": 1571341701.80651}\n",
      "\u001b[0m\n",
      "\u001b[31m#metrics {\"Metrics\": {\"train_binary_classification_weighted_cross_entropy_objective\": {\"count\": 1, \"max\": 1.2038415201822916, \"sum\": 1.2038415201822916, \"min\": 1.2038415201822916}}, \"EndTime\": 1571341701.806585, \"Dimensions\": {\"model\": 10, \"Host\": \"algo-1\", \"Operation\": \"training\", \"Algorithm\": \"Linear Learner\", \"epoch\": 1}, \"StartTime\": 1571341701.806568}\n",
      "\u001b[0m\n",
      "\u001b[31m#metrics {\"Metrics\": {\"train_binary_classification_weighted_cross_entropy_objective\": {\"count\": 1, \"max\": 1.2297755004882813, \"sum\": 1.2297755004882813, \"min\": 1.2297755004882813}}, \"EndTime\": 1571341701.806645, \"Dimensions\": {\"model\": 11, \"Host\": \"algo-1\", \"Operation\": \"training\", \"Algorithm\": \"Linear Learner\", \"epoch\": 1}, \"StartTime\": 1571341701.806627}\n",
      "\u001b[0m\n",
      "\u001b[31m#metrics {\"Metrics\": {\"train_binary_classification_weighted_cross_entropy_objective\": {\"count\": 1, \"max\": 8.2896208984375, \"sum\": 8.2896208984375, \"min\": 8.2896208984375}}, \"EndTime\": 1571341701.806711, \"Dimensions\": {\"model\": 12, \"Host\": \"algo-1\", \"Operation\": \"training\", \"Algorithm\": \"Linear Learner\", \"epoch\": 1}, \"StartTime\": 1571341701.806692}\n",
      "\u001b[0m\n",
      "\u001b[31m#metrics {\"Metrics\": {\"train_binary_classification_weighted_cross_entropy_objective\": {\"count\": 1, \"max\": 12.162853190104167, \"sum\": 12.162853190104167, \"min\": 12.162853190104167}}, \"EndTime\": 1571341701.80677, \"Dimensions\": {\"model\": 13, \"Host\": \"algo-1\", \"Operation\": \"training\", \"Algorithm\": \"Linear Learner\", \"epoch\": 1}, \"StartTime\": 1571341701.806753}\n",
      "\u001b[0m\n",
      "\u001b[31m#metrics {\"Metrics\": {\"train_binary_classification_weighted_cross_entropy_objective\": {\"count\": 1, \"max\": 11.539462272135417, \"sum\": 11.539462272135417, \"min\": 11.539462272135417}}, \"EndTime\": 1571341701.806824, \"Dimensions\": {\"model\": 14, \"Host\": \"algo-1\", \"Operation\": \"training\", \"Algorithm\": \"Linear Learner\", \"epoch\": 1}, \"StartTime\": 1571341701.806809}\n",
      "\u001b[0m\n",
      "\u001b[31m#metrics {\"Metrics\": {\"train_binary_classification_weighted_cross_entropy_objective\": {\"count\": 1, \"max\": 11.189263606770833, \"sum\": 11.189263606770833, \"min\": 11.189263606770833}}, \"EndTime\": 1571341701.806879, \"Dimensions\": {\"model\": 15, \"Host\": \"algo-1\", \"Operation\": \"training\", \"Algorithm\": \"Linear Learner\", \"epoch\": 1}, \"StartTime\": 1571341701.806863}\n",
      "\u001b[0m\n",
      "\u001b[31m#metrics {\"Metrics\": {\"train_binary_classification_weighted_cross_entropy_objective\": {\"count\": 1, \"max\": 1.2438316752115885, \"sum\": 1.2438316752115885, \"min\": 1.2438316752115885}}, \"EndTime\": 1571341701.806932, \"Dimensions\": {\"model\": 16, \"Host\": \"algo-1\", \"Operation\": \"training\", \"Algorithm\": \"Linear Learner\", \"epoch\": 1}, \"StartTime\": 1571341701.806918}\n",
      "\u001b[0m\n",
      "\u001b[31m#metrics {\"Metrics\": {\"train_binary_classification_weighted_cross_entropy_objective\": {\"count\": 1, \"max\": 1.2485650838216147, \"sum\": 1.2485650838216147, \"min\": 1.2485650838216147}}, \"EndTime\": 1571341701.806989, \"Dimensions\": {\"model\": 17, \"Host\": \"algo-1\", \"Operation\": \"training\", \"Algorithm\": \"Linear Learner\", \"epoch\": 1}, \"StartTime\": 1571341701.806973}\n",
      "\u001b[0m\n",
      "\u001b[31m#metrics {\"Metrics\": {\"train_binary_classification_weighted_cross_entropy_objective\": {\"count\": 1, \"max\": 1.243845576985677, \"sum\": 1.243845576985677, \"min\": 1.243845576985677}}, \"EndTime\": 1571341701.807043, \"Dimensions\": {\"model\": 18, \"Host\": \"algo-1\", \"Operation\": \"training\", \"Algorithm\": \"Linear Learner\", \"epoch\": 1}, \"StartTime\": 1571341701.807027}\n",
      "\u001b[0m\n",
      "\u001b[31m#metrics {\"Metrics\": {\"train_binary_classification_weighted_cross_entropy_objective\": {\"count\": 1, \"max\": 1.250082548014323, \"sum\": 1.250082548014323, \"min\": 1.250082548014323}}, \"EndTime\": 1571341701.807102, \"Dimensions\": {\"model\": 19, \"Host\": \"algo-1\", \"Operation\": \"training\", \"Algorithm\": \"Linear Learner\", \"epoch\": 1}, \"StartTime\": 1571341701.807083}\n",
      "\u001b[0m\n",
      "\u001b[31m#metrics {\"Metrics\": {\"train_binary_classification_weighted_cross_entropy_objective\": {\"count\": 1, \"max\": 2.920477522786458, \"sum\": 2.920477522786458, \"min\": 2.920477522786458}}, \"EndTime\": 1571341701.807165, \"Dimensions\": {\"model\": 20, \"Host\": \"algo-1\", \"Operation\": \"training\", \"Algorithm\": \"Linear Learner\", \"epoch\": 1}, \"StartTime\": 1571341701.807148}\n",
      "\u001b[0m\n",
      "\u001b[31m#metrics {\"Metrics\": {\"train_binary_classification_weighted_cross_entropy_objective\": {\"count\": 1, \"max\": 2.9629135904947916, \"sum\": 2.9629135904947916, \"min\": 2.9629135904947916}}, \"EndTime\": 1571341701.80722, \"Dimensions\": {\"model\": 21, \"Host\": \"algo-1\", \"Operation\": \"training\", \"Algorithm\": \"Linear Learner\", \"epoch\": 1}, \"StartTime\": 1571341701.807205}\n",
      "\u001b[0m\n",
      "\u001b[31m#metrics {\"Metrics\": {\"train_binary_classification_weighted_cross_entropy_objective\": {\"count\": 1, \"max\": 2.8847219970703124, \"sum\": 2.8847219970703124, \"min\": 2.8847219970703124}}, \"EndTime\": 1571341701.807279, \"Dimensions\": {\"model\": 22, \"Host\": \"algo-1\", \"Operation\": \"training\", \"Algorithm\": \"Linear Learner\", \"epoch\": 1}, \"StartTime\": 1571341701.807262}\n",
      "\u001b[0m\n",
      "\u001b[31m#metrics {\"Metrics\": {\"train_binary_classification_weighted_cross_entropy_objective\": {\"count\": 1, \"max\": 2.8996841878255206, \"sum\": 2.8996841878255206, \"min\": 2.8996841878255206}}, \"EndTime\": 1571341701.807338, \"Dimensions\": {\"model\": 23, \"Host\": \"algo-1\", \"Operation\": \"training\", \"Algorithm\": \"Linear Learner\", \"epoch\": 1}, \"StartTime\": 1571341701.807321}\n",
      "\u001b[0m\n",
      "\u001b[31m#metrics {\"Metrics\": {\"train_binary_classification_weighted_cross_entropy_objective\": {\"count\": 1, \"max\": 1.4100906819661458, \"sum\": 1.4100906819661458, \"min\": 1.4100906819661458}}, \"EndTime\": 1571341701.807421, \"Dimensions\": {\"model\": 24, \"Host\": \"algo-1\", \"Operation\": \"training\", \"Algorithm\": \"Linear Learner\", \"epoch\": 1}, \"StartTime\": 1571341701.807404}\n",
      "\u001b[0m\n",
      "\u001b[31m#metrics {\"Metrics\": {\"train_binary_classification_weighted_cross_entropy_objective\": {\"count\": 1, \"max\": 1.4153416422526042, \"sum\": 1.4153416422526042, \"min\": 1.4153416422526042}}, \"EndTime\": 1571341701.807478, \"Dimensions\": {\"model\": 25, \"Host\": \"algo-1\", \"Operation\": \"training\", \"Algorithm\": \"Linear Learner\", \"epoch\": 1}, \"StartTime\": 1571341701.807463}\n",
      "\u001b[0m\n",
      "\u001b[31m#metrics {\"Metrics\": {\"train_binary_classification_weighted_cross_entropy_objective\": {\"count\": 1, \"max\": 1.4162868245442708, \"sum\": 1.4162868245442708, \"min\": 1.4162868245442708}}, \"EndTime\": 1571341701.807536, \"Dimensions\": {\"model\": 26, \"Host\": \"algo-1\", \"Operation\": \"training\", \"Algorithm\": \"Linear Learner\", \"epoch\": 1}, \"StartTime\": 1571341701.80752}\n",
      "\u001b[0m\n",
      "\u001b[31m#metrics {\"Metrics\": {\"train_binary_classification_weighted_cross_entropy_objective\": {\"count\": 1, \"max\": 1.4165558756510417, \"sum\": 1.4165558756510417, \"min\": 1.4165558756510417}}, \"EndTime\": 1571341701.807593, \"Dimensions\": {\"model\": 27, \"Host\": \"algo-1\", \"Operation\": \"training\", \"Algorithm\": \"Linear Learner\", \"epoch\": 1}, \"StartTime\": 1571341701.807577}\n",
      "\u001b[0m\n",
      "\u001b[31m#metrics {\"Metrics\": {\"train_binary_classification_weighted_cross_entropy_objective\": {\"count\": 1, \"max\": 1.4280518432617189, \"sum\": 1.4280518432617189, \"min\": 1.4280518432617189}}, \"EndTime\": 1571341701.807654, \"Dimensions\": {\"model\": 28, \"Host\": \"algo-1\", \"Operation\": \"training\", \"Algorithm\": \"Linear Learner\", \"epoch\": 1}, \"StartTime\": 1571341701.807635}\n",
      "\u001b[0m\n",
      "\u001b[31m#metrics {\"Metrics\": {\"train_binary_classification_weighted_cross_entropy_objective\": {\"count\": 1, \"max\": 1.4314190877278645, \"sum\": 1.4314190877278645, \"min\": 1.4314190877278645}}, \"EndTime\": 1571341701.80771, \"Dimensions\": {\"model\": 29, \"Host\": \"algo-1\", \"Operation\": \"training\", \"Algorithm\": \"Linear Learner\", \"epoch\": 1}, \"StartTime\": 1571341701.807694}\n",
      "\u001b[0m\n",
      "\u001b[31m#metrics {\"Metrics\": {\"train_binary_classification_weighted_cross_entropy_objective\": {\"count\": 1, \"max\": 1.417958426920573, \"sum\": 1.417958426920573, \"min\": 1.417958426920573}}, \"EndTime\": 1571341701.807765, \"Dimensions\": {\"model\": 30, \"Host\": \"algo-1\", \"Operation\": \"training\", \"Algorithm\": \"Linear Learner\", \"epoch\": 1}, \"StartTime\": 1571341701.80775}\n",
      "\u001b[0m\n",
      "\u001b[31m#metrics {\"Metrics\": {\"train_binary_classification_weighted_cross_entropy_objective\": {\"count\": 1, \"max\": 1.4277157674153647, \"sum\": 1.4277157674153647, \"min\": 1.4277157674153647}}, \"EndTime\": 1571341701.807827, \"Dimensions\": {\"model\": 31, \"Host\": \"algo-1\", \"Operation\": \"training\", \"Algorithm\": \"Linear Learner\", \"epoch\": 1}, \"StartTime\": 1571341701.807809}\n",
      "\u001b[0m\n",
      "\u001b[31m[10/17/2019 19:48:21 INFO 140451551082304] #quality_metric: host=algo-1, epoch=1, train binary_classification_weighted_cross_entropy_objective <loss>=1.20579049886\u001b[0m\n",
      "\u001b[31m[10/17/2019 19:48:21 INFO 140451551082304] #early_stopping_criteria_metric: host=algo-1, epoch=1, criteria=binary_classification_weighted_cross_entropy_objective, value=1.20049775391\u001b[0m\n",
      "\u001b[31m[10/17/2019 19:48:21 INFO 140451551082304] Epoch 1: Loss improved. Updating best model\u001b[0m\n",
      "\u001b[31m[10/17/2019 19:48:21 INFO 140451551082304] #progress_metric: host=algo-1, completed 40 % of epochs\u001b[0m\n",
      "\u001b[31m#metrics {\"Metrics\": {\"Max Batches Seen Between Resets\": {\"count\": 1, \"max\": 31, \"sum\": 31.0, \"min\": 31}, \"Number of Batches Since Last Reset\": {\"count\": 1, \"max\": 31, \"sum\": 31.0, \"min\": 31}, \"Number of Records Since Last Reset\": {\"count\": 1, \"max\": 30073, \"sum\": 30073.0, \"min\": 30073}, \"Total Batches Seen\": {\"count\": 1, \"max\": 74, \"sum\": 74.0, \"min\": 74}, \"Total Records Seen\": {\"count\": 1, \"max\": 72146, \"sum\": 72146.0, \"min\": 72146}, \"Max Records Seen Between Resets\": {\"count\": 1, \"max\": 30073, \"sum\": 30073.0, \"min\": 30073}, \"Reset Count\": {\"count\": 1, \"max\": 4, \"sum\": 4.0, \"min\": 4}}, \"EndTime\": 1571341701.812375, \"Dimensions\": {\"Host\": \"algo-1\", \"Meta\": \"training_data_iter\", \"Operation\": \"training\", \"Algorithm\": \"Linear Learner\", \"epoch\": 1}, \"StartTime\": 1571341700.415613}\n",
      "\u001b[0m\n",
      "\u001b[31m[10/17/2019 19:48:21 INFO 140451551082304] #throughput_metric: host=algo-1, train throughput=21528.5542497 records/second\u001b[0m\n",
      "\u001b[31m[2019-10-17 19:48:23.356] [tensorio] [info] epoch_stats={\"data_pipeline\": \"/opt/ml/input/data/train\", \"epoch\": 7, \"duration\": 1540, \"num_examples\": 31, \"num_bytes\": 132200908}\u001b[0m\n",
      "\u001b[31m#metrics {\"Metrics\": {\"train_binary_classification_weighted_cross_entropy_objective\": {\"count\": 1, \"max\": 1.0525734802246094, \"sum\": 1.0525734802246094, \"min\": 1.0525734802246094}}, \"EndTime\": 1571341703.356594, \"Dimensions\": {\"model\": 0, \"Host\": \"algo-1\", \"Operation\": \"training\", \"Algorithm\": \"Linear Learner\", \"epoch\": 2}, \"StartTime\": 1571341703.356474}\n",
      "\u001b[0m\n",
      "\u001b[31m#metrics {\"Metrics\": {\"train_binary_classification_weighted_cross_entropy_objective\": {\"count\": 1, \"max\": 1.0561486857096354, \"sum\": 1.0561486857096354, \"min\": 1.0561486857096354}}, \"EndTime\": 1571341703.356713, \"Dimensions\": {\"model\": 1, \"Host\": \"algo-1\", \"Operation\": \"training\", \"Algorithm\": \"Linear Learner\", \"epoch\": 2}, \"StartTime\": 1571341703.356692}\n",
      "\u001b[0m\n",
      "\u001b[31m#metrics {\"Metrics\": {\"train_binary_classification_weighted_cross_entropy_objective\": {\"count\": 1, \"max\": 1.0541999450683595, \"sum\": 1.0541999450683595, \"min\": 1.0541999450683595}}, \"EndTime\": 1571341703.356777, \"Dimensions\": {\"model\": 2, \"Host\": \"algo-1\", \"Operation\": \"training\", \"Algorithm\": \"Linear Learner\", \"epoch\": 2}, \"StartTime\": 1571341703.356759}\n",
      "\u001b[0m\n",
      "\u001b[31m#metrics {\"Metrics\": {\"train_binary_classification_weighted_cross_entropy_objective\": {\"count\": 1, \"max\": 1.0665044494628906, \"sum\": 1.0665044494628906, \"min\": 1.0665044494628906}}, \"EndTime\": 1571341703.356841, \"Dimensions\": {\"model\": 3, \"Host\": \"algo-1\", \"Operation\": \"training\", \"Algorithm\": \"Linear Learner\", \"epoch\": 2}, \"StartTime\": 1571341703.356824}\n",
      "\u001b[0m\n",
      "\u001b[31m#metrics {\"Metrics\": {\"train_binary_classification_weighted_cross_entropy_objective\": {\"count\": 1, \"max\": 10.80287333984375, \"sum\": 10.80287333984375, \"min\": 10.80287333984375}}, \"EndTime\": 1571341703.356899, \"Dimensions\": {\"model\": 4, \"Host\": \"algo-1\", \"Operation\": \"training\", \"Algorithm\": \"Linear Learner\", \"epoch\": 2}, \"StartTime\": 1571341703.356882}\n",
      "\u001b[0m\n",
      "\u001b[31m#metrics {\"Metrics\": {\"train_binary_classification_weighted_cross_entropy_objective\": {\"count\": 1, \"max\": 7.333465974934896, \"sum\": 7.333465974934896, \"min\": 7.333465974934896}}, \"EndTime\": 1571341703.357031, \"Dimensions\": {\"model\": 5, \"Host\": \"algo-1\", \"Operation\": \"training\", \"Algorithm\": \"Linear Learner\", \"epoch\": 2}, \"StartTime\": 1571341703.357011}\n",
      "\u001b[0m\n",
      "\u001b[31m#metrics {\"Metrics\": {\"train_binary_classification_weighted_cross_entropy_objective\": {\"count\": 1, \"max\": 6.694848942057292, \"sum\": 6.694848942057292, \"min\": 6.694848942057292}}, \"EndTime\": 1571341703.357099, \"Dimensions\": {\"model\": 6, \"Host\": \"algo-1\", \"Operation\": \"training\", \"Algorithm\": \"Linear Learner\", \"epoch\": 2}, \"StartTime\": 1571341703.357081}\n",
      "\u001b[0m\n",
      "\u001b[31m#metrics {\"Metrics\": {\"train_binary_classification_weighted_cross_entropy_objective\": {\"count\": 1, \"max\": 10.753168733723959, \"sum\": 10.753168733723959, \"min\": 10.753168733723959}}, \"EndTime\": 1571341703.357162, \"Dimensions\": {\"model\": 7, \"Host\": \"algo-1\", \"Operation\": \"training\", \"Algorithm\": \"Linear Learner\", \"epoch\": 2}, \"StartTime\": 1571341703.357144}\n",
      "\u001b[0m\n",
      "\u001b[31m#metrics {\"Metrics\": {\"train_binary_classification_weighted_cross_entropy_objective\": {\"count\": 1, \"max\": 1.0538451090494791, \"sum\": 1.0538451090494791, \"min\": 1.0538451090494791}}, \"EndTime\": 1571341703.357222, \"Dimensions\": {\"model\": 8, \"Host\": \"algo-1\", \"Operation\": \"training\", \"Algorithm\": \"Linear Learner\", \"epoch\": 2}, \"StartTime\": 1571341703.357206}\n",
      "\u001b[0m\n",
      "\u001b[31m#metrics {\"Metrics\": {\"train_binary_classification_weighted_cross_entropy_objective\": {\"count\": 1, \"max\": 1.0618456888834635, \"sum\": 1.0618456888834635, \"min\": 1.0618456888834635}}, \"EndTime\": 1571341703.357278, \"Dimensions\": {\"model\": 9, \"Host\": \"algo-1\", \"Operation\": \"training\", \"Algorithm\": \"Linear Learner\", \"epoch\": 2}, \"StartTime\": 1571341703.357261}\n",
      "\u001b[0m\n",
      "\u001b[31m#metrics {\"Metrics\": {\"train_binary_classification_weighted_cross_entropy_objective\": {\"count\": 1, \"max\": 1.0540906107584636, \"sum\": 1.0540906107584636, \"min\": 1.0540906107584636}}, \"EndTime\": 1571341703.357338, \"Dimensions\": {\"model\": 10, \"Host\": \"algo-1\", \"Operation\": \"training\", \"Algorithm\": \"Linear Learner\", \"epoch\": 2}, \"StartTime\": 1571341703.357321}\n",
      "\u001b[0m\n",
      "\u001b[31m#metrics {\"Metrics\": {\"train_binary_classification_weighted_cross_entropy_objective\": {\"count\": 1, \"max\": 1.0696135314941406, \"sum\": 1.0696135314941406, \"min\": 1.0696135314941406}}, \"EndTime\": 1571341703.357399, \"Dimensions\": {\"model\": 11, \"Host\": \"algo-1\", \"Operation\": \"training\", \"Algorithm\": \"Linear Learner\", \"epoch\": 2}, \"StartTime\": 1571341703.357381}\n",
      "\u001b[0m\n",
      "\u001b[31m#metrics {\"Metrics\": {\"train_binary_classification_weighted_cross_entropy_objective\": {\"count\": 1, \"max\": 6.979771362304687, \"sum\": 6.979771362304687, \"min\": 6.979771362304687}}, \"EndTime\": 1571341703.357459, \"Dimensions\": {\"model\": 12, \"Host\": \"algo-1\", \"Operation\": \"training\", \"Algorithm\": \"Linear Learner\", \"epoch\": 2}, \"StartTime\": 1571341703.357442}\n",
      "\u001b[0m\n",
      "\u001b[31m#metrics {\"Metrics\": {\"train_binary_classification_weighted_cross_entropy_objective\": {\"count\": 1, \"max\": 10.195998274739583, \"sum\": 10.195998274739583, \"min\": 10.195998274739583}}, \"EndTime\": 1571341703.357513, \"Dimensions\": {\"model\": 13, \"Host\": \"algo-1\", \"Operation\": \"training\", \"Algorithm\": \"Linear Learner\", \"epoch\": 2}, \"StartTime\": 1571341703.357497}\n",
      "\u001b[0m\n",
      "\u001b[31m#metrics {\"Metrics\": {\"train_binary_classification_weighted_cross_entropy_objective\": {\"count\": 1, \"max\": 10.732635123697916, \"sum\": 10.732635123697916, \"min\": 10.732635123697916}}, \"EndTime\": 1571341703.357572, \"Dimensions\": {\"model\": 14, \"Host\": \"algo-1\", \"Operation\": \"training\", \"Algorithm\": \"Linear Learner\", \"epoch\": 2}, \"StartTime\": 1571341703.357555}\n",
      "\u001b[0m\n",
      "\u001b[31m#metrics {\"Metrics\": {\"train_binary_classification_weighted_cross_entropy_objective\": {\"count\": 1, \"max\": 10.0965736328125, \"sum\": 10.0965736328125, \"min\": 10.0965736328125}}, \"EndTime\": 1571341703.357628, \"Dimensions\": {\"model\": 15, \"Host\": \"algo-1\", \"Operation\": \"training\", \"Algorithm\": \"Linear Learner\", \"epoch\": 2}, \"StartTime\": 1571341703.357611}\n",
      "\u001b[0m\n",
      "\u001b[31m#metrics {\"Metrics\": {\"train_binary_classification_weighted_cross_entropy_objective\": {\"count\": 1, \"max\": 1.245360009765625, \"sum\": 1.245360009765625, \"min\": 1.245360009765625}}, \"EndTime\": 1571341703.357688, \"Dimensions\": {\"model\": 16, \"Host\": \"algo-1\", \"Operation\": \"training\", \"Algorithm\": \"Linear Learner\", \"epoch\": 2}, \"StartTime\": 1571341703.35767}\n",
      "\u001b[0m\n",
      "\u001b[31m#metrics {\"Metrics\": {\"train_binary_classification_weighted_cross_entropy_objective\": {\"count\": 1, \"max\": 1.2601638203938803, \"sum\": 1.2601638203938803, \"min\": 1.2601638203938803}}, \"EndTime\": 1571341703.357743, \"Dimensions\": {\"model\": 17, \"Host\": \"algo-1\", \"Operation\": \"training\", \"Algorithm\": \"Linear Learner\", \"epoch\": 2}, \"StartTime\": 1571341703.357729}\n",
      "\u001b[0m\n",
      "\u001b[31m#metrics {\"Metrics\": {\"train_binary_classification_weighted_cross_entropy_objective\": {\"count\": 1, \"max\": 1.2520227416992187, \"sum\": 1.2520227416992187, \"min\": 1.2520227416992187}}, \"EndTime\": 1571341703.357799, \"Dimensions\": {\"model\": 18, \"Host\": \"algo-1\", \"Operation\": \"training\", \"Algorithm\": \"Linear Learner\", \"epoch\": 2}, \"StartTime\": 1571341703.357782}\n",
      "\u001b[0m\n",
      "\u001b[31m#metrics {\"Metrics\": {\"train_binary_classification_weighted_cross_entropy_objective\": {\"count\": 1, \"max\": 1.258738165283203, \"sum\": 1.258738165283203, \"min\": 1.258738165283203}}, \"EndTime\": 1571341703.357857, \"Dimensions\": {\"model\": 19, \"Host\": \"algo-1\", \"Operation\": \"training\", \"Algorithm\": \"Linear Learner\", \"epoch\": 2}, \"StartTime\": 1571341703.357841}\n",
      "\u001b[0m\n",
      "\u001b[31m#metrics {\"Metrics\": {\"train_binary_classification_weighted_cross_entropy_objective\": {\"count\": 1, \"max\": 2.6906586873372396, \"sum\": 2.6906586873372396, \"min\": 2.6906586873372396}}, \"EndTime\": 1571341703.357909, \"Dimensions\": {\"model\": 20, \"Host\": \"algo-1\", \"Operation\": \"training\", \"Algorithm\": \"Linear Learner\", \"epoch\": 2}, \"StartTime\": 1571341703.357893}\n",
      "\u001b[0m\n",
      "\u001b[31m#metrics {\"Metrics\": {\"train_binary_classification_weighted_cross_entropy_objective\": {\"count\": 1, \"max\": 2.4669815877278647, \"sum\": 2.4669815877278647, \"min\": 2.4669815877278647}}, \"EndTime\": 1571341703.357967, \"Dimensions\": {\"model\": 21, \"Host\": \"algo-1\", \"Operation\": \"training\", \"Algorithm\": \"Linear Learner\", \"epoch\": 2}, \"StartTime\": 1571341703.35795}\n",
      "\u001b[0m\n",
      "\u001b[31m#metrics {\"Metrics\": {\"train_binary_classification_weighted_cross_entropy_objective\": {\"count\": 1, \"max\": 2.6795523396809897, \"sum\": 2.6795523396809897, \"min\": 2.6795523396809897}}, \"EndTime\": 1571341703.358018, \"Dimensions\": {\"model\": 22, \"Host\": \"algo-1\", \"Operation\": \"training\", \"Algorithm\": \"Linear Learner\", \"epoch\": 2}, \"StartTime\": 1571341703.358003}\n",
      "\u001b[0m\n",
      "\u001b[31m#metrics {\"Metrics\": {\"train_binary_classification_weighted_cross_entropy_objective\": {\"count\": 1, \"max\": 2.7208607788085937, \"sum\": 2.7208607788085937, \"min\": 2.7208607788085937}}, \"EndTime\": 1571341703.358076, \"Dimensions\": {\"model\": 23, \"Host\": \"algo-1\", \"Operation\": \"training\", \"Algorithm\": \"Linear Learner\", \"epoch\": 2}, \"StartTime\": 1571341703.358058}\n",
      "\u001b[0m\n",
      "\u001b[31m#metrics {\"Metrics\": {\"train_binary_classification_weighted_cross_entropy_objective\": {\"count\": 1, \"max\": 1.4106284790039063, \"sum\": 1.4106284790039063, \"min\": 1.4106284790039063}}, \"EndTime\": 1571341703.358136, \"Dimensions\": {\"model\": 24, \"Host\": \"algo-1\", \"Operation\": \"training\", \"Algorithm\": \"Linear Learner\", \"epoch\": 2}, \"StartTime\": 1571341703.358118}\n",
      "\u001b[0m\n",
      "\u001b[31m#metrics {\"Metrics\": {\"train_binary_classification_weighted_cross_entropy_objective\": {\"count\": 1, \"max\": 1.4112148315429687, \"sum\": 1.4112148315429687, \"min\": 1.4112148315429687}}, \"EndTime\": 1571341703.358193, \"Dimensions\": {\"model\": 25, \"Host\": \"algo-1\", \"Operation\": \"training\", \"Algorithm\": \"Linear Learner\", \"epoch\": 2}, \"StartTime\": 1571341703.358176}\n",
      "\u001b[0m\n",
      "\u001b[31m#metrics {\"Metrics\": {\"train_binary_classification_weighted_cross_entropy_objective\": {\"count\": 1, \"max\": 1.411322920735677, \"sum\": 1.411322920735677, \"min\": 1.411322920735677}}, \"EndTime\": 1571341703.35825, \"Dimensions\": {\"model\": 26, \"Host\": \"algo-1\", \"Operation\": \"training\", \"Algorithm\": \"Linear Learner\", \"epoch\": 2}, \"StartTime\": 1571341703.358233}\n",
      "\u001b[0m\n",
      "\u001b[31m#metrics {\"Metrics\": {\"train_binary_classification_weighted_cross_entropy_objective\": {\"count\": 1, \"max\": 1.4113204630533853, \"sum\": 1.4113204630533853, \"min\": 1.4113204630533853}}, \"EndTime\": 1571341703.358308, \"Dimensions\": {\"model\": 27, \"Host\": \"algo-1\", \"Operation\": \"training\", \"Algorithm\": \"Linear Learner\", \"epoch\": 2}, \"StartTime\": 1571341703.358291}\n",
      "\u001b[0m\n",
      "\u001b[31m#metrics {\"Metrics\": {\"train_binary_classification_weighted_cross_entropy_objective\": {\"count\": 1, \"max\": 1.43278056640625, \"sum\": 1.43278056640625, \"min\": 1.43278056640625}}, \"EndTime\": 1571341703.358363, \"Dimensions\": {\"model\": 28, \"Host\": \"algo-1\", \"Operation\": \"training\", \"Algorithm\": \"Linear Learner\", \"epoch\": 2}, \"StartTime\": 1571341703.358347}\n",
      "\u001b[0m\n",
      "\u001b[31m#metrics {\"Metrics\": {\"train_binary_classification_weighted_cross_entropy_objective\": {\"count\": 1, \"max\": 1.4284294026692708, \"sum\": 1.4284294026692708, \"min\": 1.4284294026692708}}, \"EndTime\": 1571341703.358422, \"Dimensions\": {\"model\": 29, \"Host\": \"algo-1\", \"Operation\": \"training\", \"Algorithm\": \"Linear Learner\", \"epoch\": 2}, \"StartTime\": 1571341703.358405}\n",
      "\u001b[0m\n",
      "\u001b[31m#metrics {\"Metrics\": {\"train_binary_classification_weighted_cross_entropy_objective\": {\"count\": 1, \"max\": 1.4331951131184897, \"sum\": 1.4331951131184897, \"min\": 1.4331951131184897}}, \"EndTime\": 1571341703.358481, \"Dimensions\": {\"model\": 30, \"Host\": \"algo-1\", \"Operation\": \"training\", \"Algorithm\": \"Linear Learner\", \"epoch\": 2}, \"StartTime\": 1571341703.358465}\n",
      "\u001b[0m\n",
      "\u001b[31m#metrics {\"Metrics\": {\"train_binary_classification_weighted_cross_entropy_objective\": {\"count\": 1, \"max\": 1.4275934814453124, \"sum\": 1.4275934814453124, \"min\": 1.4275934814453124}}, \"EndTime\": 1571341703.358541, \"Dimensions\": {\"model\": 31, \"Host\": \"algo-1\", \"Operation\": \"training\", \"Algorithm\": \"Linear Learner\", \"epoch\": 2}, \"StartTime\": 1571341703.358523}\n",
      "\u001b[0m\n",
      "\u001b[31m[10/17/2019 19:48:23 INFO 140451551082304] #quality_metric: host=algo-1, epoch=2, train binary_classification_weighted_cross_entropy_objective <loss>=1.05257348022\u001b[0m\n",
      "\u001b[31m[10/17/2019 19:48:23 INFO 140451551082304] #early_stopping_criteria_metric: host=algo-1, epoch=2, criteria=binary_classification_weighted_cross_entropy_objective, value=1.05257348022\u001b[0m\n",
      "\u001b[31m[10/17/2019 19:48:23 INFO 140451551082304] Epoch 2: Loss improved. Updating best model\u001b[0m\n",
      "\u001b[31m[10/17/2019 19:48:23 INFO 140451551082304] #progress_metric: host=algo-1, completed 60 % of epochs\u001b[0m\n",
      "\u001b[31m#metrics {\"Metrics\": {\"Max Batches Seen Between Resets\": {\"count\": 1, \"max\": 31, \"sum\": 31.0, \"min\": 31}, \"Number of Batches Since Last Reset\": {\"count\": 1, \"max\": 31, \"sum\": 31.0, \"min\": 31}, \"Number of Records Since Last Reset\": {\"count\": 1, \"max\": 30073, \"sum\": 30073.0, \"min\": 30073}, \"Total Batches Seen\": {\"count\": 1, \"max\": 105, \"sum\": 105.0, \"min\": 105}, \"Total Records Seen\": {\"count\": 1, \"max\": 102219, \"sum\": 102219.0, \"min\": 102219}, \"Max Records Seen Between Resets\": {\"count\": 1, \"max\": 30073, \"sum\": 30073.0, \"min\": 30073}, \"Reset Count\": {\"count\": 1, \"max\": 5, \"sum\": 5.0, \"min\": 5}}, \"EndTime\": 1571341703.361602, \"Dimensions\": {\"Host\": \"algo-1\", \"Meta\": \"training_data_iter\", \"Operation\": \"training\", \"Algorithm\": \"Linear Learner\", \"epoch\": 2}, \"StartTime\": 1571341701.814354}\n",
      "\u001b[0m\n",
      "\u001b[31m[10/17/2019 19:48:23 INFO 140451551082304] #throughput_metric: host=algo-1, train throughput=19434.7240282 records/second\u001b[0m\n"
     ]
    },
    {
     "name": "stdout",
     "output_type": "stream",
     "text": [
      "\u001b[31m[2019-10-17 19:48:24.742] [tensorio] [info] epoch_stats={\"data_pipeline\": \"/opt/ml/input/data/train\", \"epoch\": 9, \"duration\": 1380, \"num_examples\": 31, \"num_bytes\": 132200908}\u001b[0m\n",
      "\u001b[31m#metrics {\"Metrics\": {\"train_binary_classification_weighted_cross_entropy_objective\": {\"count\": 1, \"max\": 0.9803293111165364, \"sum\": 0.9803293111165364, \"min\": 0.9803293111165364}}, \"EndTime\": 1571341704.743105, \"Dimensions\": {\"model\": 0, \"Host\": \"algo-1\", \"Operation\": \"training\", \"Algorithm\": \"Linear Learner\", \"epoch\": 3}, \"StartTime\": 1571341704.743009}\n",
      "\u001b[0m\n",
      "\u001b[31m#metrics {\"Metrics\": {\"train_binary_classification_weighted_cross_entropy_objective\": {\"count\": 1, \"max\": 0.9882686665852864, \"sum\": 0.9882686665852864, \"min\": 0.9882686665852864}}, \"EndTime\": 1571341704.743229, \"Dimensions\": {\"model\": 1, \"Host\": \"algo-1\", \"Operation\": \"training\", \"Algorithm\": \"Linear Learner\", \"epoch\": 3}, \"StartTime\": 1571341704.743205}\n",
      "\u001b[0m\n",
      "\u001b[31m#metrics {\"Metrics\": {\"train_binary_classification_weighted_cross_entropy_objective\": {\"count\": 1, \"max\": 0.9869085673014323, \"sum\": 0.9869085673014323, \"min\": 0.9869085673014323}}, \"EndTime\": 1571341704.743292, \"Dimensions\": {\"model\": 2, \"Host\": \"algo-1\", \"Operation\": \"training\", \"Algorithm\": \"Linear Learner\", \"epoch\": 3}, \"StartTime\": 1571341704.743274}\n",
      "\u001b[0m\n",
      "\u001b[31m#metrics {\"Metrics\": {\"train_binary_classification_weighted_cross_entropy_objective\": {\"count\": 1, \"max\": 0.993226953125, \"sum\": 0.993226953125, \"min\": 0.993226953125}}, \"EndTime\": 1571341704.743379, \"Dimensions\": {\"model\": 3, \"Host\": \"algo-1\", \"Operation\": \"training\", \"Algorithm\": \"Linear Learner\", \"epoch\": 3}, \"StartTime\": 1571341704.743339}\n",
      "\u001b[0m\n",
      "\u001b[31m#metrics {\"Metrics\": {\"train_binary_classification_weighted_cross_entropy_objective\": {\"count\": 1, \"max\": 10.174653206380208, \"sum\": 10.174653206380208, \"min\": 10.174653206380208}}, \"EndTime\": 1571341704.743452, \"Dimensions\": {\"model\": 4, \"Host\": \"algo-1\", \"Operation\": \"training\", \"Algorithm\": \"Linear Learner\", \"epoch\": 3}, \"StartTime\": 1571341704.743433}\n",
      "\u001b[0m\n",
      "\u001b[31m#metrics {\"Metrics\": {\"train_binary_classification_weighted_cross_entropy_objective\": {\"count\": 1, \"max\": 6.706411124674479, \"sum\": 6.706411124674479, \"min\": 6.706411124674479}}, \"EndTime\": 1571341704.74352, \"Dimensions\": {\"model\": 5, \"Host\": \"algo-1\", \"Operation\": \"training\", \"Algorithm\": \"Linear Learner\", \"epoch\": 3}, \"StartTime\": 1571341704.743501}\n",
      "\u001b[0m\n",
      "\u001b[31m#metrics {\"Metrics\": {\"train_binary_classification_weighted_cross_entropy_objective\": {\"count\": 1, \"max\": 6.404337443033854, \"sum\": 6.404337443033854, \"min\": 6.404337443033854}}, \"EndTime\": 1571341704.743593, \"Dimensions\": {\"model\": 6, \"Host\": \"algo-1\", \"Operation\": \"training\", \"Algorithm\": \"Linear Learner\", \"epoch\": 3}, \"StartTime\": 1571341704.743574}\n",
      "\u001b[0m\n",
      "\u001b[31m#metrics {\"Metrics\": {\"train_binary_classification_weighted_cross_entropy_objective\": {\"count\": 1, \"max\": 10.476488134765624, \"sum\": 10.476488134765624, \"min\": 10.476488134765624}}, \"EndTime\": 1571341704.74365, \"Dimensions\": {\"model\": 7, \"Host\": \"algo-1\", \"Operation\": \"training\", \"Algorithm\": \"Linear Learner\", \"epoch\": 3}, \"StartTime\": 1571341704.743633}\n",
      "\u001b[0m\n",
      "\u001b[31m#metrics {\"Metrics\": {\"train_binary_classification_weighted_cross_entropy_objective\": {\"count\": 1, \"max\": 0.9814796061197917, \"sum\": 0.9814796061197917, \"min\": 0.9814796061197917}}, \"EndTime\": 1571341704.743718, \"Dimensions\": {\"model\": 8, \"Host\": \"algo-1\", \"Operation\": \"training\", \"Algorithm\": \"Linear Learner\", \"epoch\": 3}, \"StartTime\": 1571341704.743692}\n",
      "\u001b[0m\n",
      "\u001b[31m#metrics {\"Metrics\": {\"train_binary_classification_weighted_cross_entropy_objective\": {\"count\": 1, \"max\": 0.9916552490234375, \"sum\": 0.9916552490234375, \"min\": 0.9916552490234375}}, \"EndTime\": 1571341704.743779, \"Dimensions\": {\"model\": 9, \"Host\": \"algo-1\", \"Operation\": \"training\", \"Algorithm\": \"Linear Learner\", \"epoch\": 3}, \"StartTime\": 1571341704.743761}\n",
      "\u001b[0m\n",
      "\u001b[31m#metrics {\"Metrics\": {\"train_binary_classification_weighted_cross_entropy_objective\": {\"count\": 1, \"max\": 0.9874903483072917, \"sum\": 0.9874903483072917, \"min\": 0.9874903483072917}}, \"EndTime\": 1571341704.743838, \"Dimensions\": {\"model\": 10, \"Host\": \"algo-1\", \"Operation\": \"training\", \"Algorithm\": \"Linear Learner\", \"epoch\": 3}, \"StartTime\": 1571341704.743821}\n",
      "\u001b[0m\n",
      "\u001b[31m#metrics {\"Metrics\": {\"train_binary_classification_weighted_cross_entropy_objective\": {\"count\": 1, \"max\": 0.9969092793782552, \"sum\": 0.9969092793782552, \"min\": 0.9969092793782552}}, \"EndTime\": 1571341704.743899, \"Dimensions\": {\"model\": 11, \"Host\": \"algo-1\", \"Operation\": \"training\", \"Algorithm\": \"Linear Learner\", \"epoch\": 3}, \"StartTime\": 1571341704.743883}\n",
      "\u001b[0m\n",
      "\u001b[31m#metrics {\"Metrics\": {\"train_binary_classification_weighted_cross_entropy_objective\": {\"count\": 1, \"max\": 5.6295036051432294, \"sum\": 5.6295036051432294, \"min\": 5.6295036051432294}}, \"EndTime\": 1571341704.743959, \"Dimensions\": {\"model\": 12, \"Host\": \"algo-1\", \"Operation\": \"training\", \"Algorithm\": \"Linear Learner\", \"epoch\": 3}, \"StartTime\": 1571341704.743942}\n",
      "\u001b[0m\n",
      "\u001b[31m#metrics {\"Metrics\": {\"train_binary_classification_weighted_cross_entropy_objective\": {\"count\": 1, \"max\": 10.027036490885417, \"sum\": 10.027036490885417, \"min\": 10.027036490885417}}, \"EndTime\": 1571341704.744021, \"Dimensions\": {\"model\": 13, \"Host\": \"algo-1\", \"Operation\": \"training\", \"Algorithm\": \"Linear Learner\", \"epoch\": 3}, \"StartTime\": 1571341704.744003}\n",
      "\u001b[0m\n",
      "\u001b[31m#metrics {\"Metrics\": {\"train_binary_classification_weighted_cross_entropy_objective\": {\"count\": 1, \"max\": 9.507832600911458, \"sum\": 9.507832600911458, \"min\": 9.507832600911458}}, \"EndTime\": 1571341704.744082, \"Dimensions\": {\"model\": 14, \"Host\": \"algo-1\", \"Operation\": \"training\", \"Algorithm\": \"Linear Learner\", \"epoch\": 3}, \"StartTime\": 1571341704.744065}\n",
      "\u001b[0m\n",
      "\u001b[31m#metrics {\"Metrics\": {\"train_binary_classification_weighted_cross_entropy_objective\": {\"count\": 1, \"max\": 9.88397060546875, \"sum\": 9.88397060546875, \"min\": 9.88397060546875}}, \"EndTime\": 1571341704.744145, \"Dimensions\": {\"model\": 15, \"Host\": \"algo-1\", \"Operation\": \"training\", \"Algorithm\": \"Linear Learner\", \"epoch\": 3}, \"StartTime\": 1571341704.744127}\n",
      "\u001b[0m\n",
      "\u001b[31m#metrics {\"Metrics\": {\"train_binary_classification_weighted_cross_entropy_objective\": {\"count\": 1, \"max\": 1.2409848185221355, \"sum\": 1.2409848185221355, \"min\": 1.2409848185221355}}, \"EndTime\": 1571341704.744206, \"Dimensions\": {\"model\": 16, \"Host\": \"algo-1\", \"Operation\": \"training\", \"Algorithm\": \"Linear Learner\", \"epoch\": 3}, \"StartTime\": 1571341704.744188}\n",
      "\u001b[0m\n",
      "\u001b[31m#metrics {\"Metrics\": {\"train_binary_classification_weighted_cross_entropy_objective\": {\"count\": 1, \"max\": 1.2550163818359374, \"sum\": 1.2550163818359374, \"min\": 1.2550163818359374}}, \"EndTime\": 1571341704.744265, \"Dimensions\": {\"model\": 17, \"Host\": \"algo-1\", \"Operation\": \"training\", \"Algorithm\": \"Linear Learner\", \"epoch\": 3}, \"StartTime\": 1571341704.744247}\n",
      "\u001b[0m\n",
      "\u001b[31m#metrics {\"Metrics\": {\"train_binary_classification_weighted_cross_entropy_objective\": {\"count\": 1, \"max\": 1.2424152303059897, \"sum\": 1.2424152303059897, \"min\": 1.2424152303059897}}, \"EndTime\": 1571341704.744326, \"Dimensions\": {\"model\": 18, \"Host\": \"algo-1\", \"Operation\": \"training\", \"Algorithm\": \"Linear Learner\", \"epoch\": 3}, \"StartTime\": 1571341704.744309}\n",
      "\u001b[0m\n",
      "\u001b[31m#metrics {\"Metrics\": {\"train_binary_classification_weighted_cross_entropy_objective\": {\"count\": 1, \"max\": 1.2553356018066406, \"sum\": 1.2553356018066406, \"min\": 1.2553356018066406}}, \"EndTime\": 1571341704.744395, \"Dimensions\": {\"model\": 19, \"Host\": \"algo-1\", \"Operation\": \"training\", \"Algorithm\": \"Linear Learner\", \"epoch\": 3}, \"StartTime\": 1571341704.744376}\n",
      "\u001b[0m\n",
      "\u001b[31m#metrics {\"Metrics\": {\"train_binary_classification_weighted_cross_entropy_objective\": {\"count\": 1, \"max\": 2.8257586710611977, \"sum\": 2.8257586710611977, \"min\": 2.8257586710611977}}, \"EndTime\": 1571341704.744466, \"Dimensions\": {\"model\": 20, \"Host\": \"algo-1\", \"Operation\": \"training\", \"Algorithm\": \"Linear Learner\", \"epoch\": 3}, \"StartTime\": 1571341704.744447}\n",
      "\u001b[0m\n",
      "\u001b[31m#metrics {\"Metrics\": {\"train_binary_classification_weighted_cross_entropy_objective\": {\"count\": 1, \"max\": 2.313427571614583, \"sum\": 2.313427571614583, \"min\": 2.313427571614583}}, \"EndTime\": 1571341704.744528, \"Dimensions\": {\"model\": 21, \"Host\": \"algo-1\", \"Operation\": \"training\", \"Algorithm\": \"Linear Learner\", \"epoch\": 3}, \"StartTime\": 1571341704.744511}\n",
      "\u001b[0m\n",
      "\u001b[31m#metrics {\"Metrics\": {\"train_binary_classification_weighted_cross_entropy_objective\": {\"count\": 1, \"max\": 2.3515195556640625, \"sum\": 2.3515195556640625, \"min\": 2.3515195556640625}}, \"EndTime\": 1571341704.744598, \"Dimensions\": {\"model\": 22, \"Host\": \"algo-1\", \"Operation\": \"training\", \"Algorithm\": \"Linear Learner\", \"epoch\": 3}, \"StartTime\": 1571341704.74458}\n",
      "\u001b[0m\n",
      "\u001b[31m#metrics {\"Metrics\": {\"train_binary_classification_weighted_cross_entropy_objective\": {\"count\": 1, \"max\": 2.2198763916015625, \"sum\": 2.2198763916015625, \"min\": 2.2198763916015625}}, \"EndTime\": 1571341704.744667, \"Dimensions\": {\"model\": 23, \"Host\": \"algo-1\", \"Operation\": \"training\", \"Algorithm\": \"Linear Learner\", \"epoch\": 3}, \"StartTime\": 1571341704.744648}\n",
      "\u001b[0m\n",
      "\u001b[31m#metrics {\"Metrics\": {\"train_binary_classification_weighted_cross_entropy_objective\": {\"count\": 1, \"max\": 1.410747607421875, \"sum\": 1.410747607421875, \"min\": 1.410747607421875}}, \"EndTime\": 1571341704.744743, \"Dimensions\": {\"model\": 24, \"Host\": \"algo-1\", \"Operation\": \"training\", \"Algorithm\": \"Linear Learner\", \"epoch\": 3}, \"StartTime\": 1571341704.744725}\n",
      "\u001b[0m\n",
      "\u001b[31m#metrics {\"Metrics\": {\"train_binary_classification_weighted_cross_entropy_objective\": {\"count\": 1, \"max\": 1.4109101196289062, \"sum\": 1.4109101196289062, \"min\": 1.4109101196289062}}, \"EndTime\": 1571341704.744794, \"Dimensions\": {\"model\": 25, \"Host\": \"algo-1\", \"Operation\": \"training\", \"Algorithm\": \"Linear Learner\", \"epoch\": 3}, \"StartTime\": 1571341704.744783}\n",
      "\u001b[0m\n",
      "\u001b[31m#metrics {\"Metrics\": {\"train_binary_classification_weighted_cross_entropy_objective\": {\"count\": 1, \"max\": 1.4115513997395834, \"sum\": 1.4115513997395834, \"min\": 1.4115513997395834}}, \"EndTime\": 1571341704.744829, \"Dimensions\": {\"model\": 26, \"Host\": \"algo-1\", \"Operation\": \"training\", \"Algorithm\": \"Linear Learner\", \"epoch\": 3}, \"StartTime\": 1571341704.744818}\n",
      "\u001b[0m\n",
      "\u001b[31m#metrics {\"Metrics\": {\"train_binary_classification_weighted_cross_entropy_objective\": {\"count\": 1, \"max\": 1.4103274617513022, \"sum\": 1.4103274617513022, \"min\": 1.4103274617513022}}, \"EndTime\": 1571341704.744886, \"Dimensions\": {\"model\": 27, \"Host\": \"algo-1\", \"Operation\": \"training\", \"Algorithm\": \"Linear Learner\", \"epoch\": 3}, \"StartTime\": 1571341704.744869}\n",
      "\u001b[0m\n",
      "\u001b[31m#metrics {\"Metrics\": {\"train_binary_classification_weighted_cross_entropy_objective\": {\"count\": 1, \"max\": 1.4107866333007812, \"sum\": 1.4107866333007812, \"min\": 1.4107866333007812}}, \"EndTime\": 1571341704.744953, \"Dimensions\": {\"model\": 28, \"Host\": \"algo-1\", \"Operation\": \"training\", \"Algorithm\": \"Linear Learner\", \"epoch\": 3}, \"StartTime\": 1571341704.744935}\n",
      "\u001b[0m\n",
      "\u001b[31m#metrics {\"Metrics\": {\"train_binary_classification_weighted_cross_entropy_objective\": {\"count\": 1, \"max\": 1.4098372029622397, \"sum\": 1.4098372029622397, \"min\": 1.4098372029622397}}, \"EndTime\": 1571341704.745014, \"Dimensions\": {\"model\": 29, \"Host\": \"algo-1\", \"Operation\": \"training\", \"Algorithm\": \"Linear Learner\", \"epoch\": 3}, \"StartTime\": 1571341704.744997}\n",
      "\u001b[0m\n",
      "\u001b[31m#metrics {\"Metrics\": {\"train_binary_classification_weighted_cross_entropy_objective\": {\"count\": 1, \"max\": 1.411668400065104, \"sum\": 1.411668400065104, \"min\": 1.411668400065104}}, \"EndTime\": 1571341704.745082, \"Dimensions\": {\"model\": 30, \"Host\": \"algo-1\", \"Operation\": \"training\", \"Algorithm\": \"Linear Learner\", \"epoch\": 3}, \"StartTime\": 1571341704.745065}\n",
      "\u001b[0m\n",
      "\u001b[31m#metrics {\"Metrics\": {\"train_binary_classification_weighted_cross_entropy_objective\": {\"count\": 1, \"max\": 1.4074357299804687, \"sum\": 1.4074357299804687, \"min\": 1.4074357299804687}}, \"EndTime\": 1571341704.745151, \"Dimensions\": {\"model\": 31, \"Host\": \"algo-1\", \"Operation\": \"training\", \"Algorithm\": \"Linear Learner\", \"epoch\": 3}, \"StartTime\": 1571341704.745133}\n",
      "\u001b[0m\n",
      "\u001b[31m[10/17/2019 19:48:24 INFO 140451551082304] #quality_metric: host=algo-1, epoch=3, train binary_classification_weighted_cross_entropy_objective <loss>=0.980329311117\u001b[0m\n",
      "\u001b[31m[10/17/2019 19:48:24 INFO 140451551082304] #early_stopping_criteria_metric: host=algo-1, epoch=3, criteria=binary_classification_weighted_cross_entropy_objective, value=0.980329311117\u001b[0m\n",
      "\u001b[31m[10/17/2019 19:48:24 INFO 140451551082304] Epoch 3: Loss improved. Updating best model\u001b[0m\n",
      "\u001b[31m[10/17/2019 19:48:24 INFO 140451551082304] #progress_metric: host=algo-1, completed 80 % of epochs\u001b[0m\n",
      "\u001b[31m#metrics {\"Metrics\": {\"Max Batches Seen Between Resets\": {\"count\": 1, \"max\": 31, \"sum\": 31.0, \"min\": 31}, \"Number of Batches Since Last Reset\": {\"count\": 1, \"max\": 31, \"sum\": 31.0, \"min\": 31}, \"Number of Records Since Last Reset\": {\"count\": 1, \"max\": 30073, \"sum\": 30073.0, \"min\": 30073}, \"Total Batches Seen\": {\"count\": 1, \"max\": 136, \"sum\": 136.0, \"min\": 136}, \"Total Records Seen\": {\"count\": 1, \"max\": 132292, \"sum\": 132292.0, \"min\": 132292}, \"Max Records Seen Between Resets\": {\"count\": 1, \"max\": 30073, \"sum\": 30073.0, \"min\": 30073}, \"Reset Count\": {\"count\": 1, \"max\": 6, \"sum\": 6.0, \"min\": 6}}, \"EndTime\": 1571341704.748076, \"Dimensions\": {\"Host\": \"algo-1\", \"Meta\": \"training_data_iter\", \"Operation\": \"training\", \"Algorithm\": \"Linear Learner\", \"epoch\": 3}, \"StartTime\": 1571341703.361877}\n",
      "\u001b[0m\n",
      "\u001b[31m[10/17/2019 19:48:24 INFO 140451551082304] #throughput_metric: host=algo-1, train throughput=21692.4459689 records/second\u001b[0m\n",
      "\u001b[31m[2019-10-17 19:48:26.075] [tensorio] [info] epoch_stats={\"data_pipeline\": \"/opt/ml/input/data/train\", \"epoch\": 11, \"duration\": 1324, \"num_examples\": 31, \"num_bytes\": 132200908}\u001b[0m\n",
      "\u001b[31m#metrics {\"Metrics\": {\"train_binary_classification_weighted_cross_entropy_objective\": {\"count\": 1, \"max\": 0.9360989013671875, \"sum\": 0.9360989013671875, \"min\": 0.9360989013671875}}, \"EndTime\": 1571341706.075325, \"Dimensions\": {\"model\": 0, \"Host\": \"algo-1\", \"Operation\": \"training\", \"Algorithm\": \"Linear Learner\", \"epoch\": 4}, \"StartTime\": 1571341706.075208}\n",
      "\u001b[0m\n",
      "\u001b[31m#metrics {\"Metrics\": {\"train_binary_classification_weighted_cross_entropy_objective\": {\"count\": 1, \"max\": 0.9431501057942708, \"sum\": 0.9431501057942708, \"min\": 0.9431501057942708}}, \"EndTime\": 1571341706.075467, \"Dimensions\": {\"model\": 1, \"Host\": \"algo-1\", \"Operation\": \"training\", \"Algorithm\": \"Linear Learner\", \"epoch\": 4}, \"StartTime\": 1571341706.075445}\n",
      "\u001b[0m\n",
      "\u001b[31m#metrics {\"Metrics\": {\"train_binary_classification_weighted_cross_entropy_objective\": {\"count\": 1, \"max\": 0.9406403116861979, \"sum\": 0.9406403116861979, \"min\": 0.9406403116861979}}, \"EndTime\": 1571341706.075531, \"Dimensions\": {\"model\": 2, \"Host\": \"algo-1\", \"Operation\": \"training\", \"Algorithm\": \"Linear Learner\", \"epoch\": 4}, \"StartTime\": 1571341706.075514}\n",
      "\u001b[0m\n",
      "\u001b[31m#metrics {\"Metrics\": {\"train_binary_classification_weighted_cross_entropy_objective\": {\"count\": 1, \"max\": 0.9473853169759114, \"sum\": 0.9473853169759114, \"min\": 0.9473853169759114}}, \"EndTime\": 1571341706.07559, \"Dimensions\": {\"model\": 3, \"Host\": \"algo-1\", \"Operation\": \"training\", \"Algorithm\": \"Linear Learner\", \"epoch\": 4}, \"StartTime\": 1571341706.075573}\n",
      "\u001b[0m\n",
      "\u001b[31m#metrics {\"Metrics\": {\"train_binary_classification_weighted_cross_entropy_objective\": {\"count\": 1, \"max\": 9.376168375651043, \"sum\": 9.376168375651043, \"min\": 9.376168375651043}}, \"EndTime\": 1571341706.075647, \"Dimensions\": {\"model\": 4, \"Host\": \"algo-1\", \"Operation\": \"training\", \"Algorithm\": \"Linear Learner\", \"epoch\": 4}, \"StartTime\": 1571341706.075631}\n",
      "\u001b[0m\n",
      "\u001b[31m#metrics {\"Metrics\": {\"train_binary_classification_weighted_cross_entropy_objective\": {\"count\": 1, \"max\": 6.260151147460937, \"sum\": 6.260151147460937, \"min\": 6.260151147460937}}, \"EndTime\": 1571341706.075703, \"Dimensions\": {\"model\": 5, \"Host\": \"algo-1\", \"Operation\": \"training\", \"Algorithm\": \"Linear Learner\", \"epoch\": 4}, \"StartTime\": 1571341706.075688}\n",
      "\u001b[0m\n",
      "\u001b[31m#metrics {\"Metrics\": {\"train_binary_classification_weighted_cross_entropy_objective\": {\"count\": 1, \"max\": 5.744349088541667, \"sum\": 5.744349088541667, \"min\": 5.744349088541667}}, \"EndTime\": 1571341706.075767, \"Dimensions\": {\"model\": 6, \"Host\": \"algo-1\", \"Operation\": \"training\", \"Algorithm\": \"Linear Learner\", \"epoch\": 4}, \"StartTime\": 1571341706.075742}\n",
      "\u001b[0m\n",
      "\u001b[31m#metrics {\"Metrics\": {\"train_binary_classification_weighted_cross_entropy_objective\": {\"count\": 1, \"max\": 10.265098649088541, \"sum\": 10.265098649088541, \"min\": 10.265098649088541}}, \"EndTime\": 1571341706.075822, \"Dimensions\": {\"model\": 7, \"Host\": \"algo-1\", \"Operation\": \"training\", \"Algorithm\": \"Linear Learner\", \"epoch\": 4}, \"StartTime\": 1571341706.075807}\n",
      "\u001b[0m\n",
      "\u001b[31m#metrics {\"Metrics\": {\"train_binary_classification_weighted_cross_entropy_objective\": {\"count\": 1, \"max\": 0.9381881388346354, \"sum\": 0.9381881388346354, \"min\": 0.9381881388346354}}, \"EndTime\": 1571341706.075874, \"Dimensions\": {\"model\": 8, \"Host\": \"algo-1\", \"Operation\": \"training\", \"Algorithm\": \"Linear Learner\", \"epoch\": 4}, \"StartTime\": 1571341706.07586}\n",
      "\u001b[0m\n",
      "\u001b[31m#metrics {\"Metrics\": {\"train_binary_classification_weighted_cross_entropy_objective\": {\"count\": 1, \"max\": 0.947898095703125, \"sum\": 0.947898095703125, \"min\": 0.947898095703125}}, \"EndTime\": 1571341706.075924, \"Dimensions\": {\"model\": 9, \"Host\": \"algo-1\", \"Operation\": \"training\", \"Algorithm\": \"Linear Learner\", \"epoch\": 4}, \"StartTime\": 1571341706.07591}\n",
      "\u001b[0m\n",
      "\u001b[31m#metrics {\"Metrics\": {\"train_binary_classification_weighted_cross_entropy_objective\": {\"count\": 1, \"max\": 0.9453936401367188, \"sum\": 0.9453936401367188, \"min\": 0.9453936401367188}}, \"EndTime\": 1571341706.075976, \"Dimensions\": {\"model\": 10, \"Host\": \"algo-1\", \"Operation\": \"training\", \"Algorithm\": \"Linear Learner\", \"epoch\": 4}, \"StartTime\": 1571341706.075961}\n",
      "\u001b[0m\n",
      "\u001b[31m#metrics {\"Metrics\": {\"train_binary_classification_weighted_cross_entropy_objective\": {\"count\": 1, \"max\": 0.9531110900878906, \"sum\": 0.9531110900878906, \"min\": 0.9531110900878906}}, \"EndTime\": 1571341706.076031, \"Dimensions\": {\"model\": 11, \"Host\": \"algo-1\", \"Operation\": \"training\", \"Algorithm\": \"Linear Learner\", \"epoch\": 4}, \"StartTime\": 1571341706.076016}\n",
      "\u001b[0m\n",
      "\u001b[31m#metrics {\"Metrics\": {\"train_binary_classification_weighted_cross_entropy_objective\": {\"count\": 1, \"max\": 5.163773722330729, \"sum\": 5.163773722330729, \"min\": 5.163773722330729}}, \"EndTime\": 1571341706.076084, \"Dimensions\": {\"model\": 12, \"Host\": \"algo-1\", \"Operation\": \"training\", \"Algorithm\": \"Linear Learner\", \"epoch\": 4}, \"StartTime\": 1571341706.076069}\n",
      "\u001b[0m\n",
      "\u001b[31m#metrics {\"Metrics\": {\"train_binary_classification_weighted_cross_entropy_objective\": {\"count\": 1, \"max\": 9.738048876953124, \"sum\": 9.738048876953124, \"min\": 9.738048876953124}}, \"EndTime\": 1571341706.076136, \"Dimensions\": {\"model\": 13, \"Host\": \"algo-1\", \"Operation\": \"training\", \"Algorithm\": \"Linear Learner\", \"epoch\": 4}, \"StartTime\": 1571341706.076122}\n",
      "\u001b[0m\n",
      "\u001b[31m#metrics {\"Metrics\": {\"train_binary_classification_weighted_cross_entropy_objective\": {\"count\": 1, \"max\": 9.449904768880208, \"sum\": 9.449904768880208, \"min\": 9.449904768880208}}, \"EndTime\": 1571341706.076187, \"Dimensions\": {\"model\": 14, \"Host\": \"algo-1\", \"Operation\": \"training\", \"Algorithm\": \"Linear Learner\", \"epoch\": 4}, \"StartTime\": 1571341706.076173}\n",
      "\u001b[0m\n",
      "\u001b[31m#metrics {\"Metrics\": {\"train_binary_classification_weighted_cross_entropy_objective\": {\"count\": 1, \"max\": 9.36988447265625, \"sum\": 9.36988447265625, \"min\": 9.36988447265625}}, \"EndTime\": 1571341706.07624, \"Dimensions\": {\"model\": 15, \"Host\": \"algo-1\", \"Operation\": \"training\", \"Algorithm\": \"Linear Learner\", \"epoch\": 4}, \"StartTime\": 1571341706.076226}\n",
      "\u001b[0m\n",
      "\u001b[31m#metrics {\"Metrics\": {\"train_binary_classification_weighted_cross_entropy_objective\": {\"count\": 1, \"max\": 1.2385174255371094, \"sum\": 1.2385174255371094, \"min\": 1.2385174255371094}}, \"EndTime\": 1571341706.076292, \"Dimensions\": {\"model\": 16, \"Host\": \"algo-1\", \"Operation\": \"training\", \"Algorithm\": \"Linear Learner\", \"epoch\": 4}, \"StartTime\": 1571341706.076277}\n",
      "\u001b[0m\n",
      "\u001b[31m#metrics {\"Metrics\": {\"train_binary_classification_weighted_cross_entropy_objective\": {\"count\": 1, \"max\": 1.2572069783528645, \"sum\": 1.2572069783528645, \"min\": 1.2572069783528645}}, \"EndTime\": 1571341706.076344, \"Dimensions\": {\"model\": 17, \"Host\": \"algo-1\", \"Operation\": \"training\", \"Algorithm\": \"Linear Learner\", \"epoch\": 4}, \"StartTime\": 1571341706.076329}\n",
      "\u001b[0m\n",
      "\u001b[31m#metrics {\"Metrics\": {\"train_binary_classification_weighted_cross_entropy_objective\": {\"count\": 1, \"max\": 1.240218007405599, \"sum\": 1.240218007405599, \"min\": 1.240218007405599}}, \"EndTime\": 1571341706.076394, \"Dimensions\": {\"model\": 18, \"Host\": \"algo-1\", \"Operation\": \"training\", \"Algorithm\": \"Linear Learner\", \"epoch\": 4}, \"StartTime\": 1571341706.07638}\n",
      "\u001b[0m\n",
      "\u001b[31m#metrics {\"Metrics\": {\"train_binary_classification_weighted_cross_entropy_objective\": {\"count\": 1, \"max\": 1.257045782470703, \"sum\": 1.257045782470703, \"min\": 1.257045782470703}}, \"EndTime\": 1571341706.076447, \"Dimensions\": {\"model\": 19, \"Host\": \"algo-1\", \"Operation\": \"training\", \"Algorithm\": \"Linear Learner\", \"epoch\": 4}, \"StartTime\": 1571341706.076432}\n",
      "\u001b[0m\n",
      "\u001b[31m#metrics {\"Metrics\": {\"train_binary_classification_weighted_cross_entropy_objective\": {\"count\": 1, \"max\": 2.674387170410156, \"sum\": 2.674387170410156, \"min\": 2.674387170410156}}, \"EndTime\": 1571341706.076498, \"Dimensions\": {\"model\": 20, \"Host\": \"algo-1\", \"Operation\": \"training\", \"Algorithm\": \"Linear Learner\", \"epoch\": 4}, \"StartTime\": 1571341706.076484}\n",
      "\u001b[0m\n",
      "\u001b[31m#metrics {\"Metrics\": {\"train_binary_classification_weighted_cross_entropy_objective\": {\"count\": 1, \"max\": 2.431028137207031, \"sum\": 2.431028137207031, \"min\": 2.431028137207031}}, \"EndTime\": 1571341706.076547, \"Dimensions\": {\"model\": 21, \"Host\": \"algo-1\", \"Operation\": \"training\", \"Algorithm\": \"Linear Learner\", \"epoch\": 4}, \"StartTime\": 1571341706.076534}\n",
      "\u001b[0m\n",
      "\u001b[31m#metrics {\"Metrics\": {\"train_binary_classification_weighted_cross_entropy_objective\": {\"count\": 1, \"max\": 2.343154919433594, \"sum\": 2.343154919433594, \"min\": 2.343154919433594}}, \"EndTime\": 1571341706.076597, \"Dimensions\": {\"model\": 22, \"Host\": \"algo-1\", \"Operation\": \"training\", \"Algorithm\": \"Linear Learner\", \"epoch\": 4}, \"StartTime\": 1571341706.076583}\n",
      "\u001b[0m\n",
      "\u001b[31m#metrics {\"Metrics\": {\"train_binary_classification_weighted_cross_entropy_objective\": {\"count\": 1, \"max\": 2.0966027506510416, \"sum\": 2.0966027506510416, \"min\": 2.0966027506510416}}, \"EndTime\": 1571341706.076646, \"Dimensions\": {\"model\": 23, \"Host\": \"algo-1\", \"Operation\": \"training\", \"Algorithm\": \"Linear Learner\", \"epoch\": 4}, \"StartTime\": 1571341706.076632}\n",
      "\u001b[0m\n",
      "\u001b[31m#metrics {\"Metrics\": {\"train_binary_classification_weighted_cross_entropy_objective\": {\"count\": 1, \"max\": 1.4106989420572917, \"sum\": 1.4106989420572917, \"min\": 1.4106989420572917}}, \"EndTime\": 1571341706.076695, \"Dimensions\": {\"model\": 24, \"Host\": \"algo-1\", \"Operation\": \"training\", \"Algorithm\": \"Linear Learner\", \"epoch\": 4}, \"StartTime\": 1571341706.076682}\n",
      "\u001b[0m\n",
      "\u001b[31m#metrics {\"Metrics\": {\"train_binary_classification_weighted_cross_entropy_objective\": {\"count\": 1, \"max\": 1.4102914103190105, \"sum\": 1.4102914103190105, \"min\": 1.4102914103190105}}, \"EndTime\": 1571341706.076744, \"Dimensions\": {\"model\": 25, \"Host\": \"algo-1\", \"Operation\": \"training\", \"Algorithm\": \"Linear Learner\", \"epoch\": 4}, \"StartTime\": 1571341706.076731}\n",
      "\u001b[0m\n",
      "\u001b[31m#metrics {\"Metrics\": {\"train_binary_classification_weighted_cross_entropy_objective\": {\"count\": 1, \"max\": 1.4117110758463542, \"sum\": 1.4117110758463542, \"min\": 1.4117110758463542}}, \"EndTime\": 1571341706.076793, \"Dimensions\": {\"model\": 26, \"Host\": \"algo-1\", \"Operation\": \"training\", \"Algorithm\": \"Linear Learner\", \"epoch\": 4}, \"StartTime\": 1571341706.07678}\n",
      "\u001b[0m\n",
      "\u001b[31m#metrics {\"Metrics\": {\"train_binary_classification_weighted_cross_entropy_objective\": {\"count\": 1, \"max\": 1.4096951497395833, \"sum\": 1.4096951497395833, \"min\": 1.4096951497395833}}, \"EndTime\": 1571341706.076852, \"Dimensions\": {\"model\": 27, \"Host\": \"algo-1\", \"Operation\": \"training\", \"Algorithm\": \"Linear Learner\", \"epoch\": 4}, \"StartTime\": 1571341706.076837}\n",
      "\u001b[0m\n",
      "\u001b[31m#metrics {\"Metrics\": {\"train_binary_classification_weighted_cross_entropy_objective\": {\"count\": 1, \"max\": 1.4105229166666666, \"sum\": 1.4105229166666666, \"min\": 1.4105229166666666}}, \"EndTime\": 1571341706.076907, \"Dimensions\": {\"model\": 28, \"Host\": \"algo-1\", \"Operation\": \"training\", \"Algorithm\": \"Linear Learner\", \"epoch\": 4}, \"StartTime\": 1571341706.076893}\n",
      "\u001b[0m\n",
      "\u001b[31m#metrics {\"Metrics\": {\"train_binary_classification_weighted_cross_entropy_objective\": {\"count\": 1, \"max\": 1.428959025065104, \"sum\": 1.428959025065104, \"min\": 1.428959025065104}}, \"EndTime\": 1571341706.07696, \"Dimensions\": {\"model\": 29, \"Host\": \"algo-1\", \"Operation\": \"training\", \"Algorithm\": \"Linear Learner\", \"epoch\": 4}, \"StartTime\": 1571341706.076946}\n",
      "\u001b[0m\n",
      "\u001b[31m#metrics {\"Metrics\": {\"train_binary_classification_weighted_cross_entropy_objective\": {\"count\": 1, \"max\": 1.4119606038411459, \"sum\": 1.4119606038411459, \"min\": 1.4119606038411459}}, \"EndTime\": 1571341706.077012, \"Dimensions\": {\"model\": 30, \"Host\": \"algo-1\", \"Operation\": \"training\", \"Algorithm\": \"Linear Learner\", \"epoch\": 4}, \"StartTime\": 1571341706.076998}\n",
      "\u001b[0m\n",
      "\u001b[31m#metrics {\"Metrics\": {\"train_binary_classification_weighted_cross_entropy_objective\": {\"count\": 1, \"max\": 1.426270878092448, \"sum\": 1.426270878092448, \"min\": 1.426270878092448}}, \"EndTime\": 1571341706.077063, \"Dimensions\": {\"model\": 31, \"Host\": \"algo-1\", \"Operation\": \"training\", \"Algorithm\": \"Linear Learner\", \"epoch\": 4}, \"StartTime\": 1571341706.077049}\n",
      "\u001b[0m\n",
      "\u001b[31m[10/17/2019 19:48:26 INFO 140451551082304] #quality_metric: host=algo-1, epoch=4, train binary_classification_weighted_cross_entropy_objective <loss>=0.936098901367\u001b[0m\n",
      "\u001b[31m[10/17/2019 19:48:26 INFO 140451551082304] #early_stopping_criteria_metric: host=algo-1, epoch=4, criteria=binary_classification_weighted_cross_entropy_objective, value=0.936098901367\u001b[0m\n",
      "\u001b[31m[10/17/2019 19:48:26 INFO 140451551082304] Epoch 4: Loss improved. Updating best model\u001b[0m\n",
      "\u001b[31m[10/17/2019 19:48:26 INFO 140451551082304] #progress_metric: host=algo-1, completed 100 % of epochs\u001b[0m\n",
      "\u001b[31m#metrics {\"Metrics\": {\"Max Batches Seen Between Resets\": {\"count\": 1, \"max\": 31, \"sum\": 31.0, \"min\": 31}, \"Number of Batches Since Last Reset\": {\"count\": 1, \"max\": 31, \"sum\": 31.0, \"min\": 31}, \"Number of Records Since Last Reset\": {\"count\": 1, \"max\": 30073, \"sum\": 30073.0, \"min\": 30073}, \"Total Batches Seen\": {\"count\": 1, \"max\": 167, \"sum\": 167.0, \"min\": 167}, \"Total Records Seen\": {\"count\": 1, \"max\": 162365, \"sum\": 162365.0, \"min\": 162365}, \"Max Records Seen Between Resets\": {\"count\": 1, \"max\": 30073, \"sum\": 30073.0, \"min\": 30073}, \"Reset Count\": {\"count\": 1, \"max\": 7, \"sum\": 7.0, \"min\": 7}}, \"EndTime\": 1571341706.081194, \"Dimensions\": {\"Host\": \"algo-1\", \"Meta\": \"training_data_iter\", \"Operation\": \"training\", \"Algorithm\": \"Linear Learner\", \"epoch\": 4}, \"StartTime\": 1571341704.750117}\n",
      "\u001b[0m\n",
      "\u001b[31m[10/17/2019 19:48:26 INFO 140451551082304] #throughput_metric: host=algo-1, train throughput=22590.7436457 records/second\u001b[0m\n",
      "\u001b[31m[10/17/2019 19:48:26 WARNING 140451551082304] wait_for_all_workers will not sync workers since the kv store is not running distributed\u001b[0m\n",
      "\u001b[31m[10/17/2019 19:48:26 WARNING 140451551082304] wait_for_all_workers will not sync workers since the kv store is not running distributed\u001b[0m\n",
      "\u001b[31m[2019-10-17 19:48:26.094] [tensorio] [info] epoch_stats={\"data_pipeline\": \"/opt/ml/input/data/train\", \"epoch\": 13, \"duration\": 11, \"num_examples\": 1, \"num_bytes\": 4396000}\u001b[0m\n",
      "\u001b[31m[2019-10-17 19:48:26.345] [tensorio] [info] epoch_stats={\"data_pipeline\": \"/opt/ml/input/data/train\", \"epoch\": 16, \"duration\": 246, \"num_examples\": 31, \"num_bytes\": 132200908}\u001b[0m\n",
      "\u001b[31m[2019-10-17 19:48:26.602] [tensorio] [info] epoch_stats={\"data_pipeline\": \"/opt/ml/input/data/train\", \"epoch\": 18, \"duration\": 227, \"num_examples\": 31, \"num_bytes\": 132200908}\u001b[0m\n",
      "\u001b[31m[10/17/2019 19:48:26 INFO 140451551082304] #train_score (algo-1) : ('binary_classification_weighted_cross_entropy_objective', 0.8538248888357666)\u001b[0m\n",
      "\u001b[31m[10/17/2019 19:48:26 INFO 140451551082304] #train_score (algo-1) : ('binary_classification_accuracy', 0.7224420576596947)\u001b[0m\n",
      "\u001b[31m[10/17/2019 19:48:26 INFO 140451551082304] #train_score (algo-1) : ('binary_f_1.000', 0.07573912080611228)\u001b[0m\n",
      "\u001b[31m[10/17/2019 19:48:26 INFO 140451551082304] #train_score (algo-1) : ('precision', 0.0394919168591224)\u001b[0m\n",
      "\u001b[31m[10/17/2019 19:48:26 INFO 140451551082304] #train_score (algo-1) : ('recall', 0.921832884097035)\u001b[0m\n",
      "\u001b[31m[10/17/2019 19:48:26 INFO 140451551082304] #quality_metric: host=algo-1, train binary_classification_weighted_cross_entropy_objective <loss>=0.853824888836\u001b[0m\n",
      "\u001b[31m[10/17/2019 19:48:26 INFO 140451551082304] #quality_metric: host=algo-1, train binary_classification_accuracy <score>=0.72244205766\u001b[0m\n",
      "\u001b[31m[10/17/2019 19:48:26 INFO 140451551082304] #quality_metric: host=algo-1, train binary_f_1.000 <score>=0.0757391208061\u001b[0m\n",
      "\u001b[31m[10/17/2019 19:48:26 INFO 140451551082304] #quality_metric: host=algo-1, train precision <score>=0.0394919168591\u001b[0m\n",
      "\u001b[31m[10/17/2019 19:48:26 INFO 140451551082304] #quality_metric: host=algo-1, train recall <score>=0.921832884097\u001b[0m\n",
      "\u001b[31m[10/17/2019 19:48:26 INFO 140451551082304] Best model found for hyperparameters: {\"lr_scheduler_step\": 10, \"wd\": 0.0001, \"optimizer\": \"adam\", \"lr_scheduler_factor\": 0.99, \"l1\": 0.0, \"learning_rate\": 0.005, \"lr_scheduler_minimum_lr\": 1e-05}\u001b[0m\n",
      "\u001b[31m[10/17/2019 19:48:26 INFO 140451551082304] Saved checkpoint to \"/tmp/tmpPa8wGC/mx-mod-0000.params\"\u001b[0m\n",
      "\u001b[31m[10/17/2019 19:48:26 INFO 140451551082304] Test data is not provided.\u001b[0m\n",
      "\u001b[31m#metrics {\"Metrics\": {\"totaltime\": {\"count\": 1, \"max\": 8235.419988632202, \"sum\": 8235.419988632202, \"min\": 8235.419988632202}, \"finalize.time\": {\"count\": 1, \"max\": 522.1471786499023, \"sum\": 522.1471786499023, \"min\": 522.1471786499023}, \"initialize.time\": {\"count\": 1, \"max\": 603.8260459899902, \"sum\": 603.8260459899902, \"min\": 603.8260459899902}, \"check_early_stopping.time\": {\"count\": 5, \"max\": 1.2450218200683594, \"sum\": 4.894733428955078, \"min\": 0.8668899536132812}, \"setuptime\": {\"count\": 1, \"max\": 24.714946746826172, \"sum\": 24.714946746826172, \"min\": 24.714946746826172}, \"update.time\": {\"count\": 5, \"max\": 1547.0709800720215, \"sum\": 6996.612787246704, \"min\": 1330.894947052002}, \"epochs\": {\"count\": 1, \"max\": 5, \"sum\": 5.0, \"min\": 5}}, \"EndTime\": 1571341706.623605, \"Dimensions\": {\"Host\": \"algo-1\", \"Operation\": \"training\", \"Algorithm\": \"Linear Learner\"}, \"StartTime\": 1571341698.463897}\n",
      "\u001b[0m\n"
     ]
    },
    {
     "name": "stdout",
     "output_type": "stream",
     "text": [
      "\n",
      "2019-10-17 19:48:38 Uploading - Uploading generated training model\n",
      "2019-10-17 19:48:38 Completed - Training job completed\n",
      "Training seconds: 70\n",
      "Billable seconds: 70\n",
      "CPU times: user 312 ms, sys: 4.81 ms, total: 317 ms\n",
      "Wall time: 3min 11s\n"
     ]
    }
   ],
   "source": [
    "%%time \n",
    "# train the estimator on formatted training data\n",
    "linear.fit(formatted_train_data)"
   ]
  },
  {
   "cell_type": "code",
   "execution_count": 100,
   "metadata": {},
   "outputs": [
    {
     "name": "stdout",
     "output_type": "stream",
     "text": [
      "--------------------------------------------------------------------------------------------------------------------------!CPU times: user 399 ms, sys: 50.7 ms, total: 449 ms\n",
      "Wall time: 10min 15s\n"
     ]
    }
   ],
   "source": [
    "%%time \n",
    "# deploy and create a predictor\n",
    "linear_predictor = linear.deploy(initial_instance_count=1, instance_type='ml.t2.medium')"
   ]
  },
  {
   "cell_type": "code",
   "execution_count": 101,
   "metadata": {},
   "outputs": [],
   "source": [
    "# We have a lot of test data, so we'll split it into batches of 100\n",
    "    # split the test data set into batches and evaluate using prediction endpoint  \n",
    "test_x_np = test_features_scaled.astype('float32')\n",
    "prediction_batches = [linear_predictor.predict(batch) for batch in np.array_split(test_x_np, 100)]\n",
    "    \n",
    "    # LinearLearner produces a `predicted_label` for each data point in a batch\n",
    "    # get the 'predicted_label' for every point in a batch\n",
    "test_preds = np.concatenate([np.array([x.label['predicted_label'].float32_tensor.values[0] for x in batch]) \n",
    "                                 for batch in prediction_batches])"
   ]
  },
  {
   "cell_type": "markdown",
   "metadata": {},
   "source": [
    "### Model Evaluation"
   ]
  },
  {
   "cell_type": "code",
   "execution_count": 102,
   "metadata": {},
   "outputs": [],
   "source": [
    "# code to evaluate the endpoint on test data\n",
    "# returns a variety of model metrics\n",
    "def evaluate(predictor, test_features, test_labels, verbose=True):\n",
    "    \"\"\"\n",
    "    Evaluate a model on a test set given the prediction endpoint.  \n",
    "    Return binary classification metrics.\n",
    "    :param predictor: A prediction endpoint\n",
    "    :param test_features: Test features\n",
    "    :param test_labels: Class labels for test data\n",
    "    :param verbose: If True, prints a table of all performance metrics\n",
    "    :return: A dictionary of performance metrics.\n",
    "    \"\"\"\n",
    "    \n",
    "    # We have a lot of test data, so we'll split it into batches of 100\n",
    "    # split the test data set into batches and evaluate using prediction endpoint    \n",
    "    prediction_batches = [predictor.predict(batch) for batch in np.array_split(test_features, 100)]\n",
    "    \n",
    "    # LinearLearner produces a `predicted_label` for each data point in a batch\n",
    "    # get the 'predicted_label' for every point in a batch\n",
    "    test_preds = np.concatenate([np.array([x.label['predicted_label'].float32_tensor.values[0] for x in batch]) \n",
    "                                 for batch in prediction_batches])\n",
    "    \n",
    "    # calculate true positives, false positives, true negatives, false negatives\n",
    "    tp = np.logical_and(test_labels, test_preds).sum()\n",
    "    fp = np.logical_and(1-test_labels, test_preds).sum()\n",
    "    tn = np.logical_and(1-test_labels, 1-test_preds).sum()\n",
    "    fn = np.logical_and(test_labels, 1-test_preds).sum()\n",
    "    \n",
    "    # calculate binary classification metrics\n",
    "    recall = tp / (tp + fn)\n",
    "    precision = tp / (tp + fp)\n",
    "    accuracy = (tp + tn) / (tp + fp + tn + fn)\n",
    "    \n",
    "    # printing a table of metrics\n",
    "    if verbose:\n",
    "        print(pd.crosstab(test_labels, test_preds, rownames=['actual (row)'], colnames=['prediction (col)']))\n",
    "        print(\"\\n{:<11} {:.3f}\".format('Recall:', recall))\n",
    "        print(\"{:<11} {:.3f}\".format('Precision:', precision))\n",
    "        print(\"{:<11} {:.3f}\".format('Accuracy:', accuracy))\n",
    "        print()\n",
    "        \n",
    "    return {'TP': tp, 'FP': fp, 'FN': fn, 'TN': tn, \n",
    "            'Precision': precision, 'Recall': recall, 'Accuracy': accuracy}\n"
   ]
  },
  {
   "cell_type": "code",
   "execution_count": 103,
   "metadata": {},
   "outputs": [
    {
     "name": "stdout",
     "output_type": "stream",
     "text": [
      "Metrics for LinearLearner.\n",
      "\n",
      "prediction (col)   0.0   1.0\n",
      "actual (row)                \n",
      "0.0               9167  3561\n",
      "1.0                113    48\n",
      "\n",
      "Recall:     0.298\n",
      "Precision:  0.013\n",
      "Accuracy:   0.715\n",
      "\n"
     ]
    }
   ],
   "source": [
    "print('Metrics for LinearLearner.\\n')\n",
    "\n",
    "# get metrics for linear predictor\n",
    "metrics = evaluate(linear_predictor, \n",
    "                   test_features_scaled.astype('float32'), \n",
    "                   test_labels, \n",
    "                   verbose=True) # verbose means we'll print out the metrics"
   ]
  },
  {
   "cell_type": "markdown",
   "metadata": {},
   "source": [
    "### Model on Test Data"
   ]
  },
  {
   "cell_type": "code",
   "execution_count": 104,
   "metadata": {},
   "outputs": [
    {
     "name": "stderr",
     "output_type": "stream",
     "text": [
      "/home/ec2-user/anaconda3/envs/mxnet_p36/lib/python3.6/site-packages/IPython/core/interactiveshell.py:2785: DtypeWarning: Columns (19,20) have mixed types. Specify dtype option on import or set low_memory=False.\n",
      "  interactivity=interactivity, compiler=compiler, result=result)\n"
     ]
    }
   ],
   "source": [
    "mailout_test = pd.read_csv('data/Udacity_MAILOUT_052018_TEST.csv')"
   ]
  },
  {
   "cell_type": "code",
   "execution_count": 105,
   "metadata": {},
   "outputs": [],
   "source": [
    "mailout_test = mailout_test.drop('Unnamed: 0',axis = 1)"
   ]
  },
  {
   "cell_type": "code",
   "execution_count": 106,
   "metadata": {},
   "outputs": [],
   "source": [
    "# Prepare the data using the function created earlier\n",
    "mailout_test_clean = clean_data(mailout_test)"
   ]
  },
  {
   "cell_type": "code",
   "execution_count": 107,
   "metadata": {},
   "outputs": [
    {
     "data": {
      "text/plain": [
       "(42833, 1088)"
      ]
     },
     "execution_count": 107,
     "metadata": {},
     "output_type": "execute_result"
    }
   ],
   "source": [
    "# mailout_train_clean.columns\n",
    "mailout_test_clean.shape"
   ]
  },
  {
   "cell_type": "code",
   "execution_count": 108,
   "metadata": {},
   "outputs": [],
   "source": [
    "extra=np.setdiff1d(mailout_test_clean.columns, mailout_train_clean.columns, assume_unique=True)\n"
   ]
  },
  {
   "cell_type": "code",
   "execution_count": 109,
   "metadata": {},
   "outputs": [],
   "source": [
    "mailout_test_clean = mailout_test_clean.drop(extra,axis=1)"
   ]
  },
  {
   "cell_type": "code",
   "execution_count": 110,
   "metadata": {},
   "outputs": [],
   "source": [
    "mailout_test_impute = imputer.transform(mailout_test_clean)\n",
    "mailout_test_scaled = scaler.transform(mailout_test_impute)"
   ]
  },
  {
   "cell_type": "code",
   "execution_count": 111,
   "metadata": {},
   "outputs": [
    {
     "data": {
      "text/plain": [
       "(42833, 1087)"
      ]
     },
     "execution_count": 111,
     "metadata": {},
     "output_type": "execute_result"
    }
   ],
   "source": [
    "mailout_test_scaled.shape"
   ]
  },
  {
   "cell_type": "code",
   "execution_count": 112,
   "metadata": {},
   "outputs": [],
   "source": [
    "# test one prediction\n",
    "test_x_np = mailout_test_scaled.astype('float32')\n",
    "# result = linear_predictor.predict(test_x_np)\n",
    "\n",
    "prediction_batches = [linear_predictor.predict(batch) for batch in np.array_split(test_x_np, 100)]\n",
    "    \n",
    "    # LinearLearner produces a `predicted_label` for each data point in a batch\n",
    "    # get the 'predicted_label' for every point in a batch\n",
    "test_preds = np.concatenate([np.array([x.label['predicted_label'].float32_tensor.values[0] for x in batch]) \n",
    "                                 for batch in prediction_batches])"
   ]
  },
  {
   "cell_type": "markdown",
   "metadata": {},
   "source": [
    "## Part 3: Kaggle Competition\n",
    "\n",
    "Now that you've created a model to predict which individuals are most likely to respond to a mailout campaign, it's time to test that model in competition through Kaggle. If you click on the link [here](http://www.kaggle.com/t/21e6d45d4c574c7fa2d868f0e8c83140), you'll be taken to the competition page where, if you have a Kaggle account, you can enter. If you're one of the top performers, you may have the chance to be contacted by a hiring manager from Arvato or Bertelsmann for an interview!\n",
    "\n",
    "Your entry to the competition should be a CSV file with two columns. The first column should be a copy of \"LNR\", which acts as an ID number for each individual in the \"TEST\" partition. The second column, \"RESPONSE\", should be some measure of how likely each individual became a customer – this might not be a straightforward probability. As you should have found in Part 2, there is a large output class imbalance, where most individuals did not respond to the mailout. Thus, predicting individual classes and using accuracy does not seem to be an appropriate performance evaluation method. Instead, the competition will be using AUC to evaluate performance. The exact values of the \"RESPONSE\" column do not matter as much: only that the higher values try to capture as many of the actual customers as possible, early in the ROC curve sweep."
   ]
  },
  {
   "cell_type": "code",
   "execution_count": 113,
   "metadata": {},
   "outputs": [],
   "source": [
    "submission = pd.DataFrame(index=mailout_test['LNR'].astype('int32'), data=test_preds)"
   ]
  },
  {
   "cell_type": "code",
   "execution_count": 114,
   "metadata": {},
   "outputs": [
    {
     "data": {
      "text/html": [
       "<div>\n",
       "<style scoped>\n",
       "    .dataframe tbody tr th:only-of-type {\n",
       "        vertical-align: middle;\n",
       "    }\n",
       "\n",
       "    .dataframe tbody tr th {\n",
       "        vertical-align: top;\n",
       "    }\n",
       "\n",
       "    .dataframe thead th {\n",
       "        text-align: right;\n",
       "    }\n",
       "</style>\n",
       "<table border=\"1\" class=\"dataframe\">\n",
       "  <thead>\n",
       "    <tr style=\"text-align: right;\">\n",
       "      <th></th>\n",
       "      <th>RESPONSE</th>\n",
       "    </tr>\n",
       "    <tr>\n",
       "      <th>LNR</th>\n",
       "      <th></th>\n",
       "    </tr>\n",
       "  </thead>\n",
       "  <tbody>\n",
       "    <tr>\n",
       "      <th>1754</th>\n",
       "      <td>0.0</td>\n",
       "    </tr>\n",
       "    <tr>\n",
       "      <th>1770</th>\n",
       "      <td>0.0</td>\n",
       "    </tr>\n",
       "    <tr>\n",
       "      <th>1465</th>\n",
       "      <td>0.0</td>\n",
       "    </tr>\n",
       "    <tr>\n",
       "      <th>1470</th>\n",
       "      <td>0.0</td>\n",
       "    </tr>\n",
       "    <tr>\n",
       "      <th>1478</th>\n",
       "      <td>0.0</td>\n",
       "    </tr>\n",
       "  </tbody>\n",
       "</table>\n",
       "</div>"
      ],
      "text/plain": [
       "      RESPONSE\n",
       "LNR           \n",
       "1754       0.0\n",
       "1770       0.0\n",
       "1465       0.0\n",
       "1470       0.0\n",
       "1478       0.0"
      ]
     },
     "execution_count": 114,
     "metadata": {},
     "output_type": "execute_result"
    }
   ],
   "source": [
    "submission.rename(columns={0: \"RESPONSE\"}, inplace=True)\n",
    "submission.head()"
   ]
  },
  {
   "cell_type": "code",
   "execution_count": 115,
   "metadata": {},
   "outputs": [],
   "source": [
    "submission.to_csv('result.csv')"
   ]
  },
  {
   "cell_type": "markdown",
   "metadata": {},
   "source": [
    "### Deleting Endpoints"
   ]
  },
  {
   "cell_type": "code",
   "execution_count": 116,
   "metadata": {},
   "outputs": [],
   "source": [
    "# Deletes a precictor.endpoint\n",
    "def delete_endpoint(predictor):\n",
    "        try:\n",
    "            boto3.client('sagemaker').delete_endpoint(EndpointName=predictor.endpoint)\n",
    "            print('Deleted {}'.format(predictor.endpoint))\n",
    "        except:\n",
    "            print('Already deleted: {}'.format(predictor.endpoint))"
   ]
  },
  {
   "cell_type": "code",
   "execution_count": 117,
   "metadata": {},
   "outputs": [
    {
     "name": "stdout",
     "output_type": "stream",
     "text": [
      "Deleted linear-learner-2019-10-17-19-45-48-464\n"
     ]
    }
   ],
   "source": [
    "delete_endpoint(linear_predictor)"
   ]
  },
  {
   "cell_type": "code",
   "execution_count": null,
   "metadata": {},
   "outputs": [],
   "source": []
  }
 ],
 "metadata": {
  "accelerator": "GPU",
  "colab": {
   "collapsed_sections": [],
   "machine_shape": "hm",
   "name": "preprocessing_with_unknowns.ipynb",
   "provenance": []
  },
  "kernelspec": {
   "display_name": "conda_mxnet_p36",
   "language": "python",
   "name": "conda_mxnet_p36"
  },
  "language_info": {
   "codemirror_mode": {
    "name": "ipython",
    "version": 3
   },
   "file_extension": ".py",
   "mimetype": "text/x-python",
   "name": "python",
   "nbconvert_exporter": "python",
   "pygments_lexer": "ipython3",
   "version": "3.6.5"
  }
 },
 "nbformat": 4,
 "nbformat_minor": 1
}
